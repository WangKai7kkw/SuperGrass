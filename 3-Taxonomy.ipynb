{
 "cells": [
  {
   "cell_type": "markdown",
   "id": "a6a2ffbc-5ff0-41cf-b454-6dcf616b597f",
   "metadata": {},
   "source": [
    "# Taxonomy classification"
   ]
  },
  {
   "cell_type": "markdown",
   "id": "d3a6065f-58a9-4e70-b2fa-c31c28ed505c",
   "metadata": {},
   "source": [
    "# 1. Download and construct reference database \n"
   ]
  },
  {
   "cell_type": "markdown",
   "id": "8b1b2436-cd31-4dd4-b1db-9bd85b93a540",
   "metadata": {},
   "source": [
    "## 1.1 Download reference database"
   ]
  },
  {
   "cell_type": "code",
   "execution_count": 1,
   "id": "1a884bf2-3192-4ab7-9ce1-5737c47935b1",
   "metadata": {},
   "outputs": [
    {
     "name": "stdout",
     "output_type": "stream",
     "text": [
      "\u001b[32mSaved FeatureData[RNASequence] to: Data/3-silva-138-ssu-nr99-seqs.qza\u001b[0m\n",
      "\u001b[32mSaved FeatureData[Taxonomy] to: Data/3-silva-138-ssu-nr99-tax.qza\u001b[0m\n",
      "\u001b[0m"
     ]
    }
   ],
   "source": [
    "! qiime rescript get-silva-data \\\n",
    "    --p-version '138' \\\n",
    "    --p-target 'SSURef_NR99' \\\n",
    "    --p-include-species-labels \\\n",
    "    --o-silva-sequences Data/3-silva-138-ssu-nr99-seqs.qza \\\n",
    "    --o-silva-taxonomy Data/3-silva-138-ssu-nr99-tax.qza"
   ]
  },
  {
   "cell_type": "markdown",
   "id": "f8d8e78e-17b7-4530-932a-e230388dcd04",
   "metadata": {},
   "source": [
    "## 1.2 Database curation"
   ]
  },
  {
   "cell_type": "code",
   "execution_count": 1,
   "id": "7a318ea9-fd9b-4fed-85b1-901ae9839dd5",
   "metadata": {},
   "outputs": [
    {
     "name": "stdout",
     "output_type": "stream",
     "text": [
      "\u001b[32mSaved FeatureData[Sequence] to: Data/3-silva-138-ssu-nr99-seqs-cleaned.qza\u001b[0m\n",
      "\u001b[0m"
     ]
    }
   ],
   "source": [
    "! qiime rescript cull-seqs \\\n",
    "    --i-sequences Data/3-silva-138-ssu-nr99-seqs.qza \\\n",
    "    --p-num-degenerates 5 \\\n",
    "    --p-homopolymer-length 8 \\\n",
    "    --p-n-jobs 3 \\\n",
    "    --o-clean-sequences Data/3-silva-138-ssu-nr99-seqs-cleaned.qza"
   ]
  },
  {
   "cell_type": "code",
   "execution_count": 1,
   "id": "33f148b6-c19e-4c0a-a9fe-30c976a813ff",
   "metadata": {},
   "outputs": [
    {
     "name": "stdout",
     "output_type": "stream",
     "text": [
      "\u001b[32mSaved FeatureData[Sequence] to: Data/3-silva-138-ssu-nr99-seqs-filt.qza\u001b[0m\n",
      "\u001b[32mSaved FeatureData[Sequence] to: Data/3-silva-138-ssu-nr99-seqs-discard.qza\u001b[0m\n",
      "\u001b[0m"
     ]
    }
   ],
   "source": [
    "! qiime rescript filter-seqs-length-by-taxon \\\n",
    "    --i-sequences Data/3-silva-138-ssu-nr99-seqs-cleaned.qza \\\n",
    "    --i-taxonomy Data/3-silva-138-ssu-nr99-tax.qza \\\n",
    "    --p-labels Archaea Bacteria Eukaryota \\\n",
    "    --p-min-lens 900 1200 1400 \\\n",
    "    --o-filtered-seqs Data/3-silva-138-ssu-nr99-seqs-filt.qza \\\n",
    "    --o-discarded-seqs Data/3-silva-138-ssu-nr99-seqs-discard.qza"
   ]
  },
  {
   "cell_type": "code",
   "execution_count": 1,
   "id": "b91d54f3-db23-4f46-832d-3f163db7e9f7",
   "metadata": {},
   "outputs": [
    {
     "name": "stdout",
     "output_type": "stream",
     "text": [
      "\u001b[32mSaved FeatureData[Sequence] to: Data/3-silva-138-ssu-nr99-seqs-derep-uniq.qza\u001b[0m\n",
      "\u001b[32mSaved FeatureData[Taxonomy] to: Data/3-silva-138-ssu-nr99-tax-derep-uniq.qza\u001b[0m\n",
      "\u001b[0m"
     ]
    }
   ],
   "source": [
    "! qiime rescript dereplicate \\\n",
    "    --i-sequences Data/3-silva-138-ssu-nr99-seqs-filt.qza  \\\n",
    "    --i-taxa Data/3-silva-138-ssu-nr99-tax.qza \\\n",
    "    --p-rank-handles 'silva' \\\n",
    "    --p-mode 'uniq' \\\n",
    "    --p-threads 3 \\\n",
    "    --o-dereplicated-sequences Data/3-silva-138-ssu-nr99-seqs-derep-uniq.qza \\\n",
    "    --o-dereplicated-taxa Data/3-silva-138-ssu-nr99-tax-derep-uniq.qza"
   ]
  },
  {
   "cell_type": "markdown",
   "id": "2e78b47a-ee59-4947-aeb4-51a857011a4d",
   "metadata": {},
   "source": [
    "## 1.3 PCR-region extraction"
   ]
  },
  {
   "cell_type": "markdown",
   "id": "b66ae9f5-f7f5-4479-a13a-949a096a60d6",
   "metadata": {},
   "source": [
    "### 1.3.1 Bacteria (27f-338r)"
   ]
  },
  {
   "cell_type": "code",
   "execution_count": 4,
   "id": "54a9c128-a757-4dde-a140-278135233b4e",
   "metadata": {},
   "outputs": [
    {
     "name": "stdout",
     "output_type": "stream",
     "text": [
      "\u001b[32mSaved FeatureData[Sequence] to: Data/3-silva-138-ssu-nr99-seqs-27f-338r.qza\u001b[0m\n",
      "\u001b[0m"
     ]
    }
   ],
   "source": [
    "! qiime feature-classifier extract-reads \\\n",
    "    --i-sequences Data/3-silva-138-ssu-nr99-seqs-derep-uniq.qza \\\n",
    "    --p-f-primer AGRGTTHGATYMTGGCTCAG \\\n",
    "    --p-r-primer GCTGCCTCCCGTAGGAGT \\\n",
    "    --p-n-jobs 3 \\\n",
    "    --p-read-orientation 'forward' \\\n",
    "    --o-reads Data/3-silva-138-ssu-nr99-seqs-27f-338r.qza"
   ]
  },
  {
   "cell_type": "code",
   "execution_count": 1,
   "id": "a03d9826-3525-4db4-b241-9b9f21a0defc",
   "metadata": {},
   "outputs": [
    {
     "name": "stdout",
     "output_type": "stream",
     "text": [
      "\u001b[32mSaved FeatureData[Sequence] to: Data/3-silva-138-ssu-nr99-seqs-27f-338r-uniq.qza\u001b[0m\n",
      "\u001b[32mSaved FeatureData[Taxonomy] to: Data/3-silva-138-ssu-nr99-tax-27f-338r-derep-uniq.qza\u001b[0m\n",
      "\u001b[0m"
     ]
    }
   ],
   "source": [
    "! qiime rescript dereplicate \\\n",
    "    --i-sequences Data/3-silva-138-ssu-nr99-seqs-27f-338r.qza \\\n",
    "    --i-taxa Data/3-silva-138-ssu-nr99-tax-derep-uniq.qza \\\n",
    "    --p-rank-handles 'silva' \\\n",
    "    --p-mode 'uniq' \\\n",
    "    --p-threads 3 \\\n",
    "    --o-dereplicated-sequences Data/3-silva-138-ssu-nr99-seqs-27f-338r-uniq.qza \\\n",
    "    --o-dereplicated-taxa  Data/3-silva-138-ssu-nr99-tax-27f-338r-derep-uniq.qza"
   ]
  },
  {
   "cell_type": "markdown",
   "id": "d4bfa668-69e9-4397-85b7-e5f26b52dd47",
   "metadata": {},
   "source": [
    "### 1.3.2 Archaea (arch349F-arch806R)"
   ]
  },
  {
   "cell_type": "code",
   "execution_count": 2,
   "id": "7f0aacb5-6f4e-4c9e-a4f5-d7174ec06475",
   "metadata": {},
   "outputs": [
    {
     "name": "stdout",
     "output_type": "stream",
     "text": [
      "\u001b[32mSaved FeatureData[Sequence] to: Data/3-silva-138-ssu-nr99-seqs-349f-806r.qza\u001b[0m\n",
      "\u001b[0m"
     ]
    }
   ],
   "source": [
    "! qiime feature-classifier extract-reads \\\n",
    "    --i-sequences Data/3-silva-138-ssu-nr99-seqs-derep-uniq.qza \\\n",
    "    --p-f-primer GYGCASCAGKCGMGAAW \\\n",
    "    --p-r-primer GGACTACVSGGGTATCTAAT \\\n",
    "    --p-n-jobs 3 \\\n",
    "    --p-read-orientation 'forward' \\\n",
    "    --o-reads Data/3-silva-138-ssu-nr99-seqs-349f-806r.qza"
   ]
  },
  {
   "cell_type": "code",
   "execution_count": 3,
   "id": "d21cd8d2-073e-447b-918a-820b581863cc",
   "metadata": {},
   "outputs": [
    {
     "name": "stdout",
     "output_type": "stream",
     "text": [
      "\u001b[32mSaved FeatureData[Sequence] to: Data/3-silva-138-ssu-nr99-seqs-349f-806r-uniq.qza\u001b[0m\n",
      "\u001b[32mSaved FeatureData[Taxonomy] to: Data/3-silva-138-ssu-nr99-tax-349f-806r-derep-uniq.qza\u001b[0m\n",
      "\u001b[0m"
     ]
    }
   ],
   "source": [
    "! qiime rescript dereplicate \\\n",
    "    --i-sequences Data/3-silva-138-ssu-nr99-seqs-349f-806r.qza \\\n",
    "    --i-taxa Data/3-silva-138-ssu-nr99-tax-derep-uniq.qza \\\n",
    "    --p-rank-handles 'silva' \\\n",
    "    --p-mode 'uniq' \\\n",
    "    --p-threads 3 \\\n",
    "    --o-dereplicated-sequences Data/3-silva-138-ssu-nr99-seqs-349f-806r-uniq.qza \\\n",
    "    --o-dereplicated-taxa  Data/3-silva-138-ssu-nr99-tax-349f-806r-derep-uniq.qza"
   ]
  },
  {
   "cell_type": "markdown",
   "id": "c5193b7d-29a7-46ac-a287-9047fae9d379",
   "metadata": {},
   "source": [
    "# 2. Taxonomy assignment of bacteria "
   ]
  },
  {
   "cell_type": "markdown",
   "id": "292e266e-e01d-424d-9617-37c6bb615b53",
   "metadata": {},
   "source": [
    "## 2.1 Taxonomy classifier for region 27f-308r"
   ]
  },
  {
   "cell_type": "code",
   "execution_count": 4,
   "id": "24a0aa94-1839-4ce4-b74a-ad84e02fbee1",
   "metadata": {},
   "outputs": [],
   "source": [
    "! qiime feature-classifier fit-classifier-naive-bayes \\\n",
    "    --i-reference-reads Data/3-silva-138-ssu-nr99-seqs-27f-338r-uniq.qza \\\n",
    "    --i-reference-taxonomy Data/3-silva-138-ssu-nr99-tax-27f-338r-derep-uniq.qza \\\n",
    "    --o-classifier Data/3-classifier-27f-308r.qza"
   ]
  },
  {
   "cell_type": "markdown",
   "id": "3c08ef60-51ae-4609-9ade-aee6a246041b",
   "metadata": {},
   "source": [
    "## 2.1 Taxonomy Assignment"
   ]
  },
  {
   "cell_type": "code",
   "execution_count": 6,
   "id": "50a975ef-991b-4add-b57d-8ddffd12862a",
   "metadata": {},
   "outputs": [],
   "source": [
    "! qiime feature-classifier classify-sklearn \\\n",
    "    --i-classifier Data/3-classifier-27f-308r.qza \\\n",
    "    --i-reads Data/1-rep-seqs_bac.qza \\\n",
    "    --o-classification Results/3-taxonomy_bac.qza \\\n",
    "    --p-n-jobs 3"
   ]
  },
  {
   "cell_type": "markdown",
   "id": "c92024fc-8405-4b33-b618-89e88c7277cb",
   "metadata": {},
   "source": [
    "# 3. Taxonomy assignment of archaea"
   ]
  },
  {
   "cell_type": "markdown",
   "id": "5924dc83-85bb-4202-839c-959ede6b7986",
   "metadata": {},
   "source": [
    "## 3.1 Taxonomy classifier for region archaea349f-archaea806r"
   ]
  },
  {
   "cell_type": "code",
   "execution_count": 5,
   "id": "5c580c1f-83f7-4ffc-b6c0-63890b109b2b",
   "metadata": {
    "jupyter": {
     "source_hidden": true
    },
    "tags": []
   },
   "outputs": [
    {
     "name": "stdout",
     "output_type": "stream",
     "text": [
      "Usage: \u001b[94mqiime feature-classifier fit-classifier-naive-bayes\u001b[0m \n",
      "           [OPTIONS]\n",
      "\n",
      "  Create a scikit-learn naive_bayes classifier for reads\n",
      "\n",
      "\u001b[1mInputs\u001b[0m:\n",
      "  \u001b[94m\u001b[4m--i-reference-reads\u001b[0m ARTIFACT \u001b[32mFeatureData[Sequence]\u001b[0m\n",
      "                                                                    \u001b[35m[required]\u001b[0m\n",
      "  \u001b[94m\u001b[4m--i-reference-taxonomy\u001b[0m ARTIFACT \u001b[32mFeatureData[Taxonomy]\u001b[0m\n",
      "                                                                    \u001b[35m[required]\u001b[0m\n",
      "  \u001b[94m--i-class-weight\u001b[0m ARTIFACT \u001b[32mFeatureTable[RelativeFrequency]\u001b[0m\n",
      "                                                                    \u001b[35m[optional]\u001b[0m\n",
      "\u001b[1mParameters\u001b[0m:\n",
      "  \u001b[94m--p-classify--alpha\u001b[0m NUMBER\n",
      "                                                              \u001b[35m[default: 0.001]\u001b[0m\n",
      "  \u001b[94m--p-classify--chunk-size\u001b[0m INTEGER\n",
      "                                                              \u001b[35m[default: 20000]\u001b[0m\n",
      "  \u001b[94m--p-classify--class-prior\u001b[0m TEXT\n",
      "                                                             \u001b[35m[default: 'null']\u001b[0m\n",
      "  \u001b[94m--p-classify--fit-prior\u001b[0m / \u001b[94m--p-no-classify--fit-prior\u001b[0m\n",
      "                                                              \u001b[35m[default: False]\u001b[0m\n",
      "  \u001b[94m--p-feat-ext--alternate-sign\u001b[0m / \u001b[94m--p-no-feat-ext--alternate-sign\u001b[0m\n",
      "                                                              \u001b[35m[default: False]\u001b[0m\n",
      "  \u001b[94m--p-feat-ext--analyzer\u001b[0m TEXT\n",
      "                                                          \u001b[35m[default: 'char_wb']\u001b[0m\n",
      "  \u001b[94m--p-feat-ext--binary\u001b[0m / \u001b[94m--p-no-feat-ext--binary\u001b[0m\n",
      "                                                              \u001b[35m[default: False]\u001b[0m\n",
      "  \u001b[94m--p-feat-ext--decode-error\u001b[0m TEXT\n",
      "                                                           \u001b[35m[default: 'strict']\u001b[0m\n",
      "  \u001b[94m--p-feat-ext--encoding\u001b[0m TEXT\n",
      "                                                            \u001b[35m[default: 'utf-8']\u001b[0m\n",
      "  \u001b[94m--p-feat-ext--input\u001b[0m TEXT\n",
      "                                                          \u001b[35m[default: 'content']\u001b[0m\n",
      "  \u001b[94m--p-feat-ext--lowercase\u001b[0m / \u001b[94m--p-no-feat-ext--lowercase\u001b[0m\n",
      "                                                               \u001b[35m[default: True]\u001b[0m\n",
      "  \u001b[94m--p-feat-ext--n-features\u001b[0m INTEGER\n",
      "                                                               \u001b[35m[default: 8192]\u001b[0m\n",
      "  \u001b[94m--p-feat-ext--ngram-range\u001b[0m TEXT\n",
      "                                                           \u001b[35m[default: '[7, 7]']\u001b[0m\n",
      "  \u001b[94m--p-feat-ext--norm\u001b[0m TEXT\n",
      "                                                               \u001b[35m[default: 'l2']\u001b[0m\n",
      "  \u001b[94m--p-feat-ext--preprocessor\u001b[0m TEXT\n",
      "                                                             \u001b[35m[default: 'null']\u001b[0m\n",
      "  \u001b[94m--p-feat-ext--stop-words\u001b[0m TEXT\n",
      "                                                             \u001b[35m[default: 'null']\u001b[0m\n",
      "  \u001b[94m--p-feat-ext--strip-accents\u001b[0m TEXT\n",
      "                                                             \u001b[35m[default: 'null']\u001b[0m\n",
      "  \u001b[94m--p-feat-ext--token-pattern\u001b[0m TEXT\n",
      "                                                \u001b[35m[default: '(?u)\\\\b\\\\w\\\\w+\\\\b']\u001b[0m\n",
      "  \u001b[94m--p-feat-ext--tokenizer\u001b[0m TEXT\n",
      "                                                             \u001b[35m[default: 'null']\u001b[0m\n",
      "  \u001b[94m--p-verbose\u001b[0m / \u001b[94m--p-no-verbose\u001b[0m\n",
      "                                                              \u001b[35m[default: False]\u001b[0m\n",
      "\u001b[1mOutputs\u001b[0m:\n",
      "  \u001b[94m\u001b[4m--o-classifier\u001b[0m ARTIFACT \u001b[32mTaxonomicClassifier\u001b[0m\n",
      "                                                                    \u001b[35m[required]\u001b[0m\n",
      "\u001b[1mMiscellaneous\u001b[0m:\n",
      "  \u001b[94m--output-dir\u001b[0m PATH    Output unspecified results to a directory\n",
      "  \u001b[94m--verbose\u001b[0m / \u001b[94m--quiet\u001b[0m  Display verbose output to stdout and/or stderr during\n",
      "                       execution of this action. Or silence output if\n",
      "                       execution is successful (silence is golden).\n",
      "  \u001b[94m--example-data\u001b[0m PATH  Write example data and exit.\n",
      "  \u001b[94m--citations\u001b[0m          Show citations and exit.\n",
      "  \u001b[94m--help\u001b[0m               Show this message and exit.\n",
      "\n",
      "\u001b[33m                    There was a problem with the command:                     \u001b[0m\n",
      "\u001b[31m\u001b[1m (1/1?) no such option: --p-n-jobs\u001b[0m\n"
     ]
    }
   ],
   "source": [
    "! qiime feature-classifier fit-classifier-naive-bayes \\\n",
    "    --i-reference-reads Data/3-silva-138-ssu-nr99-seqs-349f-806r-uniq.qza \\\n",
    "    --i-reference-taxonomy Data/3-silva-138-ssu-nr99-tax-349f-806r-derep-uniq.qza \\\n",
    "    --o-classifier Data/3-classifier-349f-806r.qza"
   ]
  },
  {
   "cell_type": "code",
   "execution_count": null,
   "id": "4980dcee-bff9-4102-ae54-27551205c0dc",
   "metadata": {
    "tags": []
   },
   "outputs": [],
   "source": []
  },
  {
   "cell_type": "markdown",
   "id": "9167744f-1a33-41e6-a645-1202f52d472f",
   "metadata": {},
   "source": [
    "## 2.1 Taxonomy Assignment"
   ]
  },
  {
   "cell_type": "code",
   "execution_count": 4,
   "id": "12422877-74f4-4d8e-bdab-bf9721ebc5f8",
   "metadata": {},
   "outputs": [
    {
     "name": "stdout",
     "output_type": "stream",
     "text": [
      "Usage: \u001b[94mqiime feature-classifier classify-sklearn\u001b[0m [OPTIONS]\n",
      "\n",
      "  Classify reads by taxon using a fitted classifier.\n",
      "\n",
      "\u001b[1mInputs\u001b[0m:\n",
      "  \u001b[94m\u001b[4m--i-reads\u001b[0m ARTIFACT \u001b[32mFeatureData[Sequence]\u001b[0m\n",
      "                         The feature data to be classified.         \u001b[35m[required]\u001b[0m\n",
      "  \u001b[94m\u001b[4m--i-classifier\u001b[0m ARTIFACT\n",
      "    \u001b[32mTaxonomicClassifier\u001b[0m  The taxonomic classifier for classifying the reads.\n",
      "                                                                    \u001b[35m[required]\u001b[0m\n",
      "\u001b[1mParameters\u001b[0m:\n",
      "  \u001b[94m--p-reads-per-batch\u001b[0m VALUE \u001b[32mInt % Range(1, None) | Str % Choices('auto')\u001b[0m\n",
      "                         Number of reads to process in each batch. If \"auto\",\n",
      "                         this parameter is autoscaled to min( number of query\n",
      "                         sequences / \u001b[4mn-jobs\u001b[0m, 20000).         \u001b[35m[default: 'auto']\u001b[0m\n",
      "  \u001b[94m--p-n-jobs\u001b[0m INTEGER     The maximum number of concurrently worker processes.\n",
      "                         If -1 all CPUs are used. If 1 is given, no parallel\n",
      "                         computing code is used at all, which is useful for\n",
      "                         debugging. For \u001b[4mn-jobs\u001b[0m below -1, (n_cpus + 1 + \u001b[4mn-jobs\u001b[0m)\n",
      "                         are used. Thus for \u001b[4mn-jobs\u001b[0m = -2, all CPUs but one are\n",
      "                         used.                                    \u001b[35m[default: 1]\u001b[0m\n",
      "  \u001b[94m--p-pre-dispatch\u001b[0m TEXT  \"all\" or expression, as in \"3*n_jobs\". The number of\n",
      "                         batches (of tasks) to be pre-dispatched.\n",
      "                                                         \u001b[35m[default: '2*n_jobs']\u001b[0m\n",
      "  \u001b[94m--p-confidence\u001b[0m VALUE \u001b[32mFloat % Range(0, 1, inclusive_end=True) | Str %\u001b[0m\n",
      "    \u001b[32mChoices('disable')\u001b[0m   Confidence threshold for limiting taxonomic depth.\n",
      "                         Set to \"disable\" to disable confidence calculation,\n",
      "                         or 0 to calculate confidence but not apply it to\n",
      "                         limit the taxonomic depth of the assignments.\n",
      "                                                                \u001b[35m[default: 0.7]\u001b[0m\n",
      "  \u001b[94m--p-read-orientation\u001b[0m TEXT \u001b[32mChoices('same', 'reverse-complement', 'auto')\u001b[0m\n",
      "                         Direction of reads with respect to reference\n",
      "                         sequences. same will cause reads to be classified\n",
      "                         unchanged; reverse-complement will cause reads to be\n",
      "                         reversed and complemented prior to classification.\n",
      "                         \"auto\" will autodetect orientation based on the\n",
      "                         confidence estimates for the first 100 reads.\n",
      "                                                             \u001b[35m[default: 'auto']\u001b[0m\n",
      "\u001b[1mOutputs\u001b[0m:\n",
      "  \u001b[94m\u001b[4m--o-classification\u001b[0m ARTIFACT \u001b[32mFeatureData[Taxonomy]\u001b[0m\n",
      "                                                                    \u001b[35m[required]\u001b[0m\n",
      "\u001b[1mMiscellaneous\u001b[0m:\n",
      "  \u001b[94m--output-dir\u001b[0m PATH      Output unspecified results to a directory\n",
      "  \u001b[94m--verbose\u001b[0m / \u001b[94m--quiet\u001b[0m    Display verbose output to stdout and/or stderr\n",
      "                         during execution of this action. Or silence output if\n",
      "                         execution is successful (silence is golden).\n",
      "  \u001b[94m--example-data\u001b[0m PATH    Write example data and exit.\n",
      "  \u001b[94m--citations\u001b[0m            Show citations and exit.\n",
      "  \u001b[94m--help\u001b[0m                 Show this message and exit.\n",
      "\n",
      "\u001b[33m                  There were some problems with the command:                  \u001b[0m\n",
      "\u001b[31m\u001b[1m (1/3) Missing option '--i-reads'.\u001b[0m\n",
      "\u001b[31m\u001b[1m (2/3) Missing option '--i-classifier'.\u001b[0m\n",
      "\u001b[31m\u001b[1m (3/3) Missing option '--o-classification'.  (\"--output-dir\" may also be used)\u001b[0m\n"
     ]
    }
   ],
   "source": [
    "!qiime feature-classifier classify-sklearn"
   ]
  },
  {
   "cell_type": "code",
   "execution_count": null,
   "id": "96e182b5-5668-4908-a1b6-a39ffacf2262",
   "metadata": {},
   "outputs": [],
   "source": []
  }
 ],
 "metadata": {
  "kernelspec": {
   "display_name": "Python 3 (ipykernel)",
   "language": "python",
   "name": "python3"
  },
  "language_info": {
   "codemirror_mode": {
    "name": "ipython",
    "version": 3
   },
   "file_extension": ".py",
   "mimetype": "text/x-python",
   "name": "python",
   "nbconvert_exporter": "python",
   "pygments_lexer": "ipython3",
   "version": "3.8.13"
  }
 },
 "nbformat": 4,
 "nbformat_minor": 5
}
