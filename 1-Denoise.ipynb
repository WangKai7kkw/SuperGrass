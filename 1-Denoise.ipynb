{
 "cells": [
  {
   "cell_type": "markdown",
   "id": "6232ec97-0578-4569-9273-1a8dc7b325fb",
   "metadata": {},
   "source": [
    "# Denosing sequencing data"
   ]
  },
  {
   "cell_type": "code",
   "execution_count": 1,
   "id": "aaab1d6b-be39-4bc8-a0a9-a1c8248baec8",
   "metadata": {},
   "outputs": [],
   "source": [
    "# importing required packages and setting the data directory to save denoised results\n",
    "import os\n",
    "import qiime2 as q2\n",
    "from qiime2 import Visualization\n",
    "\n",
    "\n",
    "data_dir = '1-Denoise'\n",
    "\n",
    "if not os.path.isdir(data_dir):\n",
    "    os.makedirs(data_dir)"
   ]
  },
  {
   "cell_type": "markdown",
   "id": "36d2b0e0-084e-417e-970a-95af03c6c749",
   "metadata": {},
   "source": [
    "## 1. Inspect sequence quality"
   ]
  },
  {
   "cell_type": "code",
   "execution_count": 2,
   "id": "0ae97980-4191-464e-b3cc-fc3bceedf0d5",
   "metadata": {},
   "outputs": [
    {
     "data": {
      "text/html": [
       "<div><img onload=\"(function(div, url){\n",
       "if (typeof require !== 'undefined') {\n",
       "    var baseURL = require.toUrl('').split('/').slice(0, -2).join('/');\n",
       "} else {\n",
       "    var baseURL = JSON.parse(\n",
       "        document.getElementById('jupyter-config-data').innerHTML\n",
       "    ).baseUrl.slice(0, -1);\n",
       "}\n",
       "url = baseURL + url;\n",
       "fetch(url).then(function(res) {\n",
       "    if (res.status === 404) {\n",
       "        div.innerHTML = 'Install QIIME 2 Jupyter extension with:<br />' +\n",
       "                        '<code>jupyter serverextension enable --py qiime2' +\n",
       "                        ' --sys-prefix</code><br />then restart your server.' +\n",
       "                        '<br /><br />(Interactive output not available on ' +\n",
       "                        'static notebook viewer services like nbviewer.)';\n",
       "    } else if (res.status === 409) {\n",
       "        div.innerHTML = 'Visualization no longer in scope. Re-run this cell' +\n",
       "                        ' to see the visualization.';\n",
       "    } else if (res.ok) {\n",
       "        url = res.url;\n",
       "        div.innerHTML = '<iframe src=\\'' + url + '\\' style=\\'' +\n",
       "                        'width: 100%; height: 700px; border: 0;\\'>' +\n",
       "                        '</iframe><hr />Open in a: <a href=\\'' + url + '\\'' +\n",
       "                        ' target=\\'_blank\\'>new window</a>'\n",
       "    } else {\n",
       "        div.innerHTML = 'Something has gone wrong. Check notebook server for' +\n",
       "                        ' errors.';\n",
       "    }\n",
       "});\n",
       "})(this.parentElement, '/qiime2/redirect?location=/tmp/qiime2-archive-hvsceei8')\" src=\"data:image/gif;base64,R0lGODlhAQABAIAAAP///wAAACH5BAEAAAAALAAAAAABAAEAAAICRAEAOw==\" /></div>"
      ],
      "text/plain": [
       "<visualization: Visualization uuid: bc8e0579-a68e-4e8a-88d9-1fae43f450cd>"
      ]
     },
     "execution_count": 2,
     "metadata": {},
     "output_type": "execute_result"
    }
   ],
   "source": [
    "Visualization.load('RawData/paired_reads.qzv')"
   ]
  },
  {
   "cell_type": "markdown",
   "id": "1a886a5a-7781-4657-9cca-a503ccf5fc25",
   "metadata": {},
   "source": [
    "In order to obtain a feature table I am denoising the original sequences using DADA2. \n",
    "\n",
    "As the quality of sequences drops significantly beyond 221 and 172 bp in forward and reverse sequences respectively, I choose to truncate the sequences at that position:"
   ]
  },
  {
   "cell_type": "code",
   "execution_count": 3,
   "id": "5aaadc71-5b38-4ab5-9b3d-15fd87f3154a",
   "metadata": {},
   "outputs": [
    {
     "name": "stdout",
     "output_type": "stream",
     "text": [
      "\u001b[32mSaved FeatureTable[Frequency] to: 1-Denoise/feature-table.qza\u001b[0m\n",
      "\u001b[32mSaved FeatureData[Sequence] to: 1-Denoise/rep-sequences.qza\u001b[0m\n",
      "\u001b[32mSaved SampleData[DADA2Stats] to: 1-Denoise/dada2-stats.qza\u001b[0m\n",
      "\u001b[0m"
     ]
    }
   ],
   "source": [
    "!qiime dada2 denoise-paired \\\n",
    "    --i-demultiplexed-seqs RawData/fondue-output/paired_reads.qza \\\n",
    "    --p-trunc-len-f 221 \\\n",
    "    --p-trunc-len-r 172 \\\n",
    "    --p-trim-left-f 28 \\\n",
    "    --p-trim-left-r 26 \\\n",
    "    --p-n-threads 3 \\\n",
    "    --o-table $data_dir/feature-table.qza \\\n",
    "    --o-representative-sequences $data_dir/rep-sequences.qza \\\n",
    "    --o-denoising-stats $data_dir/dada2-stats.qza"
   ]
  },
  {
   "cell_type": "code",
   "execution_count": null,
   "id": "24cb77fd-381c-4c46-8bd4-b2838cb1ecbb",
   "metadata": {},
   "outputs": [],
   "source": []
  }
 ],
 "metadata": {
  "kernelspec": {
   "display_name": "Python 3 (ipykernel)",
   "language": "python",
   "name": "python3"
  },
  "language_info": {
   "codemirror_mode": {
    "name": "ipython",
    "version": 3
   },
   "file_extension": ".py",
   "mimetype": "text/x-python",
   "name": "python",
   "nbconvert_exporter": "python",
   "pygments_lexer": "ipython3",
   "version": "3.8.13"
  }
 },
 "nbformat": 4,
 "nbformat_minor": 5
}
