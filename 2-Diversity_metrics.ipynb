{
 "cells": [
  {
   "cell_type": "markdown",
   "id": "0a80f1ea-dbe4-422f-9de9-311a29844206",
   "metadata": {},
   "source": [
    "# Diversity analysis\n",
    "\n",
    "In this script, the diversity metrics in the bacteria and archeal community has been acquired and inspected."
   ]
  },
  {
   "cell_type": "code",
   "execution_count": 2,
   "id": "2a8d0ce1-3536-4862-9292-6568f17cf766",
   "metadata": {},
   "outputs": [],
   "source": [
    "# import required packages\n",
    "from qiime2 import Visualization"
   ]
  },
  {
   "cell_type": "markdown",
   "id": "433894f2-aa70-45f5-8308-feca9aeff14c",
   "metadata": {},
   "source": [
    "## 1. Bacteria"
   ]
  },
  {
   "cell_type": "markdown",
   "id": "22902af3-4138-4aca-a784-dbe9288bcc5e",
   "metadata": {},
   "source": [
    "#### 1.1 Phylogeny de novo"
   ]
  },
  {
   "cell_type": "markdown",
   "id": "b4afec29-be99-47ae-82ce-72eb6af5cb51",
   "metadata": {},
   "source": [
    "A) Sequence alignment"
   ]
  },
  {
   "cell_type": "code",
   "execution_count": 2,
   "id": "a595b4dd-1ef4-477b-99d5-6a521dd6f87e",
   "metadata": {},
   "outputs": [
    {
     "name": "stdout",
     "output_type": "stream",
     "text": [
      "\u001b[32mSaved FeatureData[AlignedSequence] to: Data/2-aligned-rep-seqs_bac.qza\u001b[0m\n",
      "\u001b[0m\u001b[32mSaved FeatureData[AlignedSequence] to: Data/2-masked-aligned-rep-seqs_bac.qza\u001b[0m\n",
      "\u001b[0m"
     ]
    }
   ],
   "source": [
    "# Sequence alignment\n",
    "! qiime alignment mafft \\\n",
    "    --i-sequences Data/1-rep-seqs_bac.qza \\\n",
    "    --o-alignment Data/2-aligned-rep-seqs_bac.qza\n",
    "\n",
    "# Alignment masking\n",
    "! qiime alignment mask \\\n",
    "    --i-alignment Data/2-aligned-rep-seqs_bac.qza \\\n",
    "    --o-masked-alignment Data/2-masked-aligned-rep-seqs_bac.qza"
   ]
  },
  {
   "cell_type": "markdown",
   "id": "c7796afc-e49b-4559-995b-b2c8556205ee",
   "metadata": {},
   "source": [
    "B) Phylogenetic tree construction"
   ]
  },
  {
   "cell_type": "markdown",
   "id": "c17f67b4-b8b6-49d1-ba71-62404fef78ed",
   "metadata": {},
   "source": [
    "We applied all the required steps required steps to create a rooted de novo phylogenetic tree \n",
    "from the alligned sequences we performed in the previos steps"
   ]
  },
  {
   "cell_type": "code",
   "execution_count": 3,
   "id": "253b53ae-90bf-4afe-ab96-3fbd8e7f3ae7",
   "metadata": {},
   "outputs": [
    {
     "name": "stdout",
     "output_type": "stream",
     "text": [
      "\u001b[32mSaved Phylogeny[Unrooted] to: Data/2-fasttree-tree_bac.qza\u001b[0m\n",
      "\u001b[0m\u001b[32mSaved Phylogeny[Rooted] to: Data/2-fasttree-tree-rooted_bac.qza\u001b[0m\n",
      "\u001b[0m"
     ]
    }
   ],
   "source": [
    "! qiime phylogeny fasttree \\\n",
    "    --i-alignment Data/2-masked-aligned-rep-seqs_bac.qza \\\n",
    "    --o-tree Data/2-fasttree-tree_bac.qza\n",
    "\n",
    "! qiime phylogeny midpoint-root \\\n",
    "    --i-tree Data/2-fasttree-tree_bac.qza \\\n",
    "    --o-rooted-tree Data/2-fasttree-tree-rooted_bac.qza"
   ]
  },
  {
   "cell_type": "markdown",
   "id": "54c17560-44ab-440e-bc57-bc2cd906fd03",
   "metadata": {},
   "source": [
    "#### 1.2 Rarefaction"
   ]
  },
  {
   "cell_type": "markdown",
   "id": "66204734-ef9f-4ea3-88c4-96453d43e64d",
   "metadata": {},
   "source": [
    "To go further with the diversity metrics, we performd the rarefaction to check the sample coverage and/or depict the sampling depth."
   ]
  },
  {
   "cell_type": "code",
   "execution_count": 4,
   "id": "81edfaf2-23f4-4c35-b21d-4a80d123a86a",
   "metadata": {},
   "outputs": [
    {
     "name": "stdout",
     "output_type": "stream",
     "text": [
      "\u001b[32mSaved Visualization to: Results/2-alpha-rarefaction_bac.qzv\u001b[0m\n",
      "\u001b[0m"
     ]
    }
   ],
   "source": [
    "! qiime diversity alpha-rarefaction \\\n",
    "    --i-table Data/1-feature-table_bac.qza \\\n",
    "    --i-phylogeny Data/2-fasttree-tree-rooted_bac.qza \\\n",
    "    --p-max-depth 50000 \\\n",
    "    --p-steps 10 \\\n",
    "    --m-metadata-file Data/0-metadata_bac.tsv \\\n",
    "    --o-visualization Results/2-alpha-rarefaction_bac.qzv"
   ]
  },
  {
   "cell_type": "code",
   "execution_count": 4,
   "id": "43d2de57-36e1-4e4c-a691-c38f130425cd",
   "metadata": {},
   "outputs": [
    {
     "data": {
      "text/html": [
       "<div><img onload=\"(function(div, url){\n",
       "if (typeof require !== 'undefined') {\n",
       "    var baseURL = require.toUrl('').split('/').slice(0, -2).join('/');\n",
       "} else {\n",
       "    var baseURL = JSON.parse(\n",
       "        document.getElementById('jupyter-config-data').innerHTML\n",
       "    ).baseUrl.slice(0, -1);\n",
       "}\n",
       "url = baseURL + url;\n",
       "fetch(url).then(function(res) {\n",
       "    if (res.status === 404) {\n",
       "        div.innerHTML = 'Install QIIME 2 Jupyter extension with:<br />' +\n",
       "                        '<code>jupyter serverextension enable --py qiime2' +\n",
       "                        ' --sys-prefix</code><br />then restart your server.' +\n",
       "                        '<br /><br />(Interactive output not available on ' +\n",
       "                        'static notebook viewer services like nbviewer.)';\n",
       "    } else if (res.status === 409) {\n",
       "        div.innerHTML = 'Visualization no longer in scope. Re-run this cell' +\n",
       "                        ' to see the visualization.';\n",
       "    } else if (res.ok) {\n",
       "        url = res.url;\n",
       "        div.innerHTML = '<iframe src=\\'' + url + '\\' style=\\'' +\n",
       "                        'width: 100%; height: 700px; border: 0;\\'>' +\n",
       "                        '</iframe><hr />Open in a: <a href=\\'' + url + '\\'' +\n",
       "                        ' target=\\'_blank\\'>new window</a>'\n",
       "    } else {\n",
       "        div.innerHTML = 'Something has gone wrong. Check notebook server for' +\n",
       "                        ' errors.';\n",
       "    }\n",
       "});\n",
       "})(this.parentElement, '/qiime2/redirect?location=/tmp/qiime2-archive-t2mfjlig')\" src=\"data:image/gif;base64,R0lGODlhAQABAIAAAP///wAAACH5BAEAAAAALAAAAAABAAEAAAICRAEAOw==\" /></div>"
      ],
      "text/plain": [
       "<visualization: Visualization uuid: 00fc7e85-34a0-4dff-97ff-562e471417c4>"
      ]
     },
     "execution_count": 4,
     "metadata": {},
     "output_type": "execute_result"
    }
   ],
   "source": [
    "Visualization.load('Results/2-alpha-rarefaction_bac.qzv')"
   ]
  },
  {
   "cell_type": "code",
   "execution_count": 6,
   "id": "88a95305-3e58-40a8-ad2f-a5e923e06d5d",
   "metadata": {},
   "outputs": [
    {
     "data": {
      "text/html": [
       "<div><img onload=\"(function(div, url){\n",
       "if (typeof require !== 'undefined') {\n",
       "    var baseURL = require.toUrl('').split('/').slice(0, -2).join('/');\n",
       "} else {\n",
       "    var baseURL = JSON.parse(\n",
       "        document.getElementById('jupyter-config-data').innerHTML\n",
       "    ).baseUrl.slice(0, -1);\n",
       "}\n",
       "url = baseURL + url;\n",
       "fetch(url).then(function(res) {\n",
       "    if (res.status === 404) {\n",
       "        div.innerHTML = 'Install QIIME 2 Jupyter extension with:<br />' +\n",
       "                        '<code>jupyter serverextension enable --py qiime2' +\n",
       "                        ' --sys-prefix</code><br />then restart your server.' +\n",
       "                        '<br /><br />(Interactive output not available on ' +\n",
       "                        'static notebook viewer services like nbviewer.)';\n",
       "    } else if (res.status === 409) {\n",
       "        div.innerHTML = 'Visualization no longer in scope. Re-run this cell' +\n",
       "                        ' to see the visualization.';\n",
       "    } else if (res.ok) {\n",
       "        url = res.url;\n",
       "        div.innerHTML = '<iframe src=\\'' + url + '\\' style=\\'' +\n",
       "                        'width: 100%; height: 700px; border: 0;\\'>' +\n",
       "                        '</iframe><hr />Open in a: <a href=\\'' + url + '\\'' +\n",
       "                        ' target=\\'_blank\\'>new window</a>'\n",
       "    } else {\n",
       "        div.innerHTML = 'Something has gone wrong. Check notebook server for' +\n",
       "                        ' errors.';\n",
       "    }\n",
       "});\n",
       "})(this.parentElement, '/qiime2/redirect?location=/tmp/qiime2-archive-pemsa7fr')\" src=\"data:image/gif;base64,R0lGODlhAQABAIAAAP///wAAACH5BAEAAAAALAAAAAABAAEAAAICRAEAOw==\" /></div>"
      ],
      "text/plain": [
       "<visualization: Visualization uuid: 2335af30-1ee9-428d-920e-6a50db15141b>"
      ]
     },
     "execution_count": 6,
     "metadata": {},
     "output_type": "execute_result"
    }
   ],
   "source": [
    "Visualization.load('Results/1-feature-table_bac.qzv')"
   ]
  },
  {
   "cell_type": "markdown",
   "id": "ee7d5ab9-f6ca-43ca-ac1d-982b9f2cb5ce",
   "metadata": {},
   "source": [
    "#### 1.3 Diversity metrics"
   ]
  },
  {
   "cell_type": "markdown",
   "id": "b5afd4a0-a143-46fc-8c7c-b8fc9c4ce952",
   "metadata": {},
   "source": [
    "We decided to select sampling depth at 40000; this value is high enough to capture the high counts in diversity present in samples and performed diversity metrics."
   ]
  },
  {
   "cell_type": "code",
   "execution_count": 18,
   "id": "5d7edb22-fa06-4bc3-8a87-c79c1d3deefe",
   "metadata": {
    "tags": []
   },
   "outputs": [
    {
     "name": "stdout",
     "output_type": "stream",
     "text": [
      "\u001b[32mSaved FeatureTable[Frequency] to: Results/2-core-metrics/rarefied_table.qza\u001b[0m\n",
      "\u001b[32mSaved SampleData[AlphaDiversity] to: Results/2-core-metrics/faith_pd_vector.qza\u001b[0m\n",
      "\u001b[32mSaved SampleData[AlphaDiversity] to: Results/2-core-metrics/observed_features_vector.qza\u001b[0m\n",
      "\u001b[32mSaved SampleData[AlphaDiversity] to: Results/2-core-metrics/shannon_vector.qza\u001b[0m\n",
      "\u001b[32mSaved SampleData[AlphaDiversity] to: Results/2-core-metrics/evenness_vector.qza\u001b[0m\n",
      "\u001b[32mSaved DistanceMatrix to: Results/2-core-metrics/unweighted_unifrac_distance_matrix.qza\u001b[0m\n",
      "\u001b[32mSaved DistanceMatrix to: Results/2-core-metrics/weighted_unifrac_distance_matrix.qza\u001b[0m\n",
      "\u001b[32mSaved DistanceMatrix to: Results/2-core-metrics/jaccard_distance_matrix.qza\u001b[0m\n",
      "\u001b[32mSaved DistanceMatrix to: Results/2-core-metrics/bray_curtis_distance_matrix.qza\u001b[0m\n",
      "\u001b[32mSaved PCoAResults to: Results/2-core-metrics/unweighted_unifrac_pcoa_results.qza\u001b[0m\n",
      "\u001b[32mSaved PCoAResults to: Results/2-core-metrics/weighted_unifrac_pcoa_results.qza\u001b[0m\n",
      "\u001b[32mSaved PCoAResults to: Results/2-core-metrics/jaccard_pcoa_results.qza\u001b[0m\n",
      "\u001b[32mSaved PCoAResults to: Results/2-core-metrics/bray_curtis_pcoa_results.qza\u001b[0m\n",
      "\u001b[32mSaved Visualization to: Results/2-core-metrics/unweighted_unifrac_emperor.qzv\u001b[0m\n",
      "\u001b[32mSaved Visualization to: Results/2-core-metrics/weighted_unifrac_emperor.qzv\u001b[0m\n",
      "\u001b[32mSaved Visualization to: Results/2-core-metrics/jaccard_emperor.qzv\u001b[0m\n",
      "\u001b[32mSaved Visualization to: Results/2-core-metrics/bray_curtis_emperor.qzv\u001b[0m\n",
      "\u001b[0m"
     ]
    }
   ],
   "source": [
    "! qiime diversity core-metrics-phylogenetic \\\n",
    "  --i-table Data/1-feature-table_bac.qza \\\n",
    "  --i-phylogeny Data/2-fasttree-tree-rooted_bac.qza \\\n",
    "  --m-metadata-file Data/0-metadata_bac.tsv \\\n",
    "  --p-sampling-depth  40000 \\\n",
    "  --output-dir Results/2-core-metrics"
   ]
  },
  {
   "cell_type": "markdown",
   "id": "036bac6d-62cd-45b3-a79c-f97b1fb76886",
   "metadata": {},
   "source": [
    "# 1.4 Beta diversity"
   ]
  },
  {
   "cell_type": "markdown",
   "id": "98aa1be5-c110-4c2d-94d1-ffad3a28373f",
   "metadata": {},
   "source": [
    "There are obvious difference in microbioal communities between phases regarding all four beta diversity metrics. The statistical difference will be further tested in R script."
   ]
  },
  {
   "cell_type": "code",
   "execution_count": 11,
   "id": "31007f59-cf83-4faa-9571-bb16497efc2a",
   "metadata": {},
   "outputs": [
    {
     "data": {
      "text/html": [
       "<div><img onload=\"(function(div, url){\n",
       "if (typeof require !== 'undefined') {\n",
       "    var baseURL = require.toUrl('').split('/').slice(0, -2).join('/');\n",
       "} else {\n",
       "    var baseURL = JSON.parse(\n",
       "        document.getElementById('jupyter-config-data').innerHTML\n",
       "    ).baseUrl.slice(0, -1);\n",
       "}\n",
       "url = baseURL + url;\n",
       "fetch(url).then(function(res) {\n",
       "    if (res.status === 404) {\n",
       "        div.innerHTML = 'Install QIIME 2 Jupyter extension with:<br />' +\n",
       "                        '<code>jupyter serverextension enable --py qiime2' +\n",
       "                        ' --sys-prefix</code><br />then restart your server.' +\n",
       "                        '<br /><br />(Interactive output not available on ' +\n",
       "                        'static notebook viewer services like nbviewer.)';\n",
       "    } else if (res.status === 409) {\n",
       "        div.innerHTML = 'Visualization no longer in scope. Re-run this cell' +\n",
       "                        ' to see the visualization.';\n",
       "    } else if (res.ok) {\n",
       "        url = res.url;\n",
       "        div.innerHTML = '<iframe src=\\'' + url + '\\' style=\\'' +\n",
       "                        'width: 100%; height: 700px; border: 0;\\'>' +\n",
       "                        '</iframe><hr />Open in a: <a href=\\'' + url + '\\'' +\n",
       "                        ' target=\\'_blank\\'>new window</a>'\n",
       "    } else {\n",
       "        div.innerHTML = 'Something has gone wrong. Check notebook server for' +\n",
       "                        ' errors.';\n",
       "    }\n",
       "});\n",
       "})(this.parentElement, '/qiime2/redirect?location=/tmp/qiime2-archive-phe9g0cj')\" src=\"data:image/gif;base64,R0lGODlhAQABAIAAAP///wAAACH5BAEAAAAALAAAAAABAAEAAAICRAEAOw==\" /></div>"
      ],
      "text/plain": [
       "<visualization: Visualization uuid: f66d8a18-4205-4542-ac85-c4d09728fac7>"
      ]
     },
     "execution_count": 11,
     "metadata": {},
     "output_type": "execute_result"
    }
   ],
   "source": [
    "Visualization.load('Results/2-core-metrics_bac/bray_curtis_emperor.qzv')"
   ]
  },
  {
   "cell_type": "code",
   "execution_count": 12,
   "id": "e04d52e4-f291-487b-b0a0-a1bfe943b21f",
   "metadata": {},
   "outputs": [
    {
     "data": {
      "text/html": [
       "<div><img onload=\"(function(div, url){\n",
       "if (typeof require !== 'undefined') {\n",
       "    var baseURL = require.toUrl('').split('/').slice(0, -2).join('/');\n",
       "} else {\n",
       "    var baseURL = JSON.parse(\n",
       "        document.getElementById('jupyter-config-data').innerHTML\n",
       "    ).baseUrl.slice(0, -1);\n",
       "}\n",
       "url = baseURL + url;\n",
       "fetch(url).then(function(res) {\n",
       "    if (res.status === 404) {\n",
       "        div.innerHTML = 'Install QIIME 2 Jupyter extension with:<br />' +\n",
       "                        '<code>jupyter serverextension enable --py qiime2' +\n",
       "                        ' --sys-prefix</code><br />then restart your server.' +\n",
       "                        '<br /><br />(Interactive output not available on ' +\n",
       "                        'static notebook viewer services like nbviewer.)';\n",
       "    } else if (res.status === 409) {\n",
       "        div.innerHTML = 'Visualization no longer in scope. Re-run this cell' +\n",
       "                        ' to see the visualization.';\n",
       "    } else if (res.ok) {\n",
       "        url = res.url;\n",
       "        div.innerHTML = '<iframe src=\\'' + url + '\\' style=\\'' +\n",
       "                        'width: 100%; height: 700px; border: 0;\\'>' +\n",
       "                        '</iframe><hr />Open in a: <a href=\\'' + url + '\\'' +\n",
       "                        ' target=\\'_blank\\'>new window</a>'\n",
       "    } else {\n",
       "        div.innerHTML = 'Something has gone wrong. Check notebook server for' +\n",
       "                        ' errors.';\n",
       "    }\n",
       "});\n",
       "})(this.parentElement, '/qiime2/redirect?location=/tmp/qiime2-archive-x2k52j_k')\" src=\"data:image/gif;base64,R0lGODlhAQABAIAAAP///wAAACH5BAEAAAAALAAAAAABAAEAAAICRAEAOw==\" /></div>"
      ],
      "text/plain": [
       "<visualization: Visualization uuid: 52ae333c-27aa-4d30-9917-e911b802d142>"
      ]
     },
     "execution_count": 12,
     "metadata": {},
     "output_type": "execute_result"
    }
   ],
   "source": [
    "Visualization.load('Results/2-core-metrics_bac/jaccard_emperor.qzv')"
   ]
  },
  {
   "cell_type": "code",
   "execution_count": 14,
   "id": "a5e00747-f3d8-4ad0-a7d8-f7cbbf31548c",
   "metadata": {},
   "outputs": [
    {
     "data": {
      "text/html": [
       "<div><img onload=\"(function(div, url){\n",
       "if (typeof require !== 'undefined') {\n",
       "    var baseURL = require.toUrl('').split('/').slice(0, -2).join('/');\n",
       "} else {\n",
       "    var baseURL = JSON.parse(\n",
       "        document.getElementById('jupyter-config-data').innerHTML\n",
       "    ).baseUrl.slice(0, -1);\n",
       "}\n",
       "url = baseURL + url;\n",
       "fetch(url).then(function(res) {\n",
       "    if (res.status === 404) {\n",
       "        div.innerHTML = 'Install QIIME 2 Jupyter extension with:<br />' +\n",
       "                        '<code>jupyter serverextension enable --py qiime2' +\n",
       "                        ' --sys-prefix</code><br />then restart your server.' +\n",
       "                        '<br /><br />(Interactive output not available on ' +\n",
       "                        'static notebook viewer services like nbviewer.)';\n",
       "    } else if (res.status === 409) {\n",
       "        div.innerHTML = 'Visualization no longer in scope. Re-run this cell' +\n",
       "                        ' to see the visualization.';\n",
       "    } else if (res.ok) {\n",
       "        url = res.url;\n",
       "        div.innerHTML = '<iframe src=\\'' + url + '\\' style=\\'' +\n",
       "                        'width: 100%; height: 700px; border: 0;\\'>' +\n",
       "                        '</iframe><hr />Open in a: <a href=\\'' + url + '\\'' +\n",
       "                        ' target=\\'_blank\\'>new window</a>'\n",
       "    } else {\n",
       "        div.innerHTML = 'Something has gone wrong. Check notebook server for' +\n",
       "                        ' errors.';\n",
       "    }\n",
       "});\n",
       "})(this.parentElement, '/qiime2/redirect?location=/tmp/qiime2-archive-3cdi557q')\" src=\"data:image/gif;base64,R0lGODlhAQABAIAAAP///wAAACH5BAEAAAAALAAAAAABAAEAAAICRAEAOw==\" /></div>"
      ],
      "text/plain": [
       "<visualization: Visualization uuid: 365fd986-856f-4bf4-b6b7-89b736ea66b1>"
      ]
     },
     "execution_count": 14,
     "metadata": {},
     "output_type": "execute_result"
    }
   ],
   "source": [
    "Visualization.load('Results/2-core-metrics_bac/weighted_unifrac_emperor.qzv')"
   ]
  },
  {
   "cell_type": "code",
   "execution_count": 15,
   "id": "a5393ff2-d781-4990-b44b-8c86b3814fc8",
   "metadata": {},
   "outputs": [
    {
     "data": {
      "text/html": [
       "<div><img onload=\"(function(div, url){\n",
       "if (typeof require !== 'undefined') {\n",
       "    var baseURL = require.toUrl('').split('/').slice(0, -2).join('/');\n",
       "} else {\n",
       "    var baseURL = JSON.parse(\n",
       "        document.getElementById('jupyter-config-data').innerHTML\n",
       "    ).baseUrl.slice(0, -1);\n",
       "}\n",
       "url = baseURL + url;\n",
       "fetch(url).then(function(res) {\n",
       "    if (res.status === 404) {\n",
       "        div.innerHTML = 'Install QIIME 2 Jupyter extension with:<br />' +\n",
       "                        '<code>jupyter serverextension enable --py qiime2' +\n",
       "                        ' --sys-prefix</code><br />then restart your server.' +\n",
       "                        '<br /><br />(Interactive output not available on ' +\n",
       "                        'static notebook viewer services like nbviewer.)';\n",
       "    } else if (res.status === 409) {\n",
       "        div.innerHTML = 'Visualization no longer in scope. Re-run this cell' +\n",
       "                        ' to see the visualization.';\n",
       "    } else if (res.ok) {\n",
       "        url = res.url;\n",
       "        div.innerHTML = '<iframe src=\\'' + url + '\\' style=\\'' +\n",
       "                        'width: 100%; height: 700px; border: 0;\\'>' +\n",
       "                        '</iframe><hr />Open in a: <a href=\\'' + url + '\\'' +\n",
       "                        ' target=\\'_blank\\'>new window</a>'\n",
       "    } else {\n",
       "        div.innerHTML = 'Something has gone wrong. Check notebook server for' +\n",
       "                        ' errors.';\n",
       "    }\n",
       "});\n",
       "})(this.parentElement, '/qiime2/redirect?location=/tmp/qiime2-archive-vnsf8912')\" src=\"data:image/gif;base64,R0lGODlhAQABAIAAAP///wAAACH5BAEAAAAALAAAAAABAAEAAAICRAEAOw==\" /></div>"
      ],
      "text/plain": [
       "<visualization: Visualization uuid: 199c8b22-c1ac-41e4-bfe7-d7b62324d384>"
      ]
     },
     "execution_count": 15,
     "metadata": {},
     "output_type": "execute_result"
    }
   ],
   "source": [
    "Visualization.load('Results/2-core-metrics_bac/unweighted_unifrac_emperor.qzv')"
   ]
  },
  {
   "cell_type": "markdown",
   "id": "eee0aed2-b9e4-41fa-b09a-7f0d453e0c6e",
   "metadata": {},
   "source": [
    "## 2. Archaea"
   ]
  },
  {
   "cell_type": "markdown",
   "id": "28a30cf3-2fae-44ab-9a87-30ed5830a9e0",
   "metadata": {},
   "source": [
    "#### 2.1 Phylogeny de novo"
   ]
  },
  {
   "cell_type": "markdown",
   "id": "f31ef4ce-cd4b-4ba3-9b1d-faa1d7056c3c",
   "metadata": {},
   "source": [
    "A) Sequence alignment"
   ]
  },
  {
   "cell_type": "code",
   "execution_count": 19,
   "id": "86eb211d-896b-40d9-9a9c-80e9ada64e73",
   "metadata": {},
   "outputs": [
    {
     "name": "stdout",
     "output_type": "stream",
     "text": [
      "\u001b[32mSaved FeatureData[AlignedSequence] to: Data/2-aligned-rep-seqs_arc.qza\u001b[0m\n",
      "\u001b[0m\u001b[32mSaved FeatureData[AlignedSequence] to: Data/2-masked-aligned-rep-seqs_arc.qza\u001b[0m\n",
      "\u001b[0m"
     ]
    }
   ],
   "source": [
    "# Sequence alignment\n",
    "! qiime alignment mafft \\\n",
    "    --i-sequences Data/1-rep-seqs_arc.qza \\\n",
    "    --o-alignment Data/2-aligned-rep-seqs_arc.qza\n",
    "\n",
    "# Alignment masking\n",
    "! qiime alignment mask \\\n",
    "    --i-alignment Data/2-aligned-rep-seqs_arc.qza \\\n",
    "    --o-masked-alignment Data/2-masked-aligned-rep-seqs_arc.qza"
   ]
  },
  {
   "cell_type": "markdown",
   "id": "221d3782-64bf-4745-bbcd-6650b0c496e9",
   "metadata": {},
   "source": [
    "B) Tree construction"
   ]
  },
  {
   "cell_type": "code",
   "execution_count": 20,
   "id": "c924674b-1695-4122-b734-2c0fb713d1b2",
   "metadata": {},
   "outputs": [
    {
     "name": "stdout",
     "output_type": "stream",
     "text": [
      "\u001b[32mSaved Phylogeny[Unrooted] to: Data/2-fasttree-tree_arc.qza\u001b[0m\n",
      "\u001b[0m\u001b[32mSaved Phylogeny[Rooted] to: Data/2-fasttree-tree-rooted_arc.qza\u001b[0m\n",
      "\u001b[0m"
     ]
    }
   ],
   "source": [
    "! qiime phylogeny fasttree \\\n",
    "    --i-alignment Data/2-masked-aligned-rep-seqs_arc.qza \\\n",
    "    --o-tree Data/2-fasttree-tree_arc.qza\n",
    "\n",
    "! qiime phylogeny midpoint-root \\\n",
    "    --i-tree Data/2-fasttree-tree_arc.qza \\\n",
    "    --o-rooted-tree Data/2-fasttree-tree-rooted_arc.qza"
   ]
  },
  {
   "cell_type": "markdown",
   "id": "03ae2197-2e9b-4dae-8058-ee029183198b",
   "metadata": {},
   "source": [
    "#### 2.2 Rarefaction"
   ]
  },
  {
   "cell_type": "code",
   "execution_count": 22,
   "id": "647a6ef4-6749-4d71-b7d4-edb2a48933d5",
   "metadata": {},
   "outputs": [
    {
     "name": "stdout",
     "output_type": "stream",
     "text": [
      "\u001b[32mSaved Visualization to: Results/2-alpha-rarefaction_arc.qzv\u001b[0m\n",
      "\u001b[0m"
     ]
    }
   ],
   "source": [
    "! qiime diversity alpha-rarefaction \\\n",
    "    --i-table Data/1-feature-table_arc.qza \\\n",
    "    --i-phylogeny Data/2-fasttree-tree-rooted_arc.qza \\\n",
    "    --p-max-depth 10000 \\\n",
    "    --p-steps 10 \\\n",
    "    --m-metadata-file Data/0-metadata_arc.tsv \\\n",
    "    --o-visualization Results/2-alpha-rarefaction_arc.qzv"
   ]
  },
  {
   "cell_type": "code",
   "execution_count": 5,
   "id": "bcf70eaf-831d-4e05-9cf6-418680319a1b",
   "metadata": {},
   "outputs": [
    {
     "data": {
      "text/html": [
       "<div><img onload=\"(function(div, url){\n",
       "if (typeof require !== 'undefined') {\n",
       "    var baseURL = require.toUrl('').split('/').slice(0, -2).join('/');\n",
       "} else {\n",
       "    var baseURL = JSON.parse(\n",
       "        document.getElementById('jupyter-config-data').innerHTML\n",
       "    ).baseUrl.slice(0, -1);\n",
       "}\n",
       "url = baseURL + url;\n",
       "fetch(url).then(function(res) {\n",
       "    if (res.status === 404) {\n",
       "        div.innerHTML = 'Install QIIME 2 Jupyter extension with:<br />' +\n",
       "                        '<code>jupyter serverextension enable --py qiime2' +\n",
       "                        ' --sys-prefix</code><br />then restart your server.' +\n",
       "                        '<br /><br />(Interactive output not available on ' +\n",
       "                        'static notebook viewer services like nbviewer.)';\n",
       "    } else if (res.status === 409) {\n",
       "        div.innerHTML = 'Visualization no longer in scope. Re-run this cell' +\n",
       "                        ' to see the visualization.';\n",
       "    } else if (res.ok) {\n",
       "        url = res.url;\n",
       "        div.innerHTML = '<iframe src=\\'' + url + '\\' style=\\'' +\n",
       "                        'width: 100%; height: 700px; border: 0;\\'>' +\n",
       "                        '</iframe><hr />Open in a: <a href=\\'' + url + '\\'' +\n",
       "                        ' target=\\'_blank\\'>new window</a>'\n",
       "    } else {\n",
       "        div.innerHTML = 'Something has gone wrong. Check notebook server for' +\n",
       "                        ' errors.';\n",
       "    }\n",
       "});\n",
       "})(this.parentElement, '/qiime2/redirect?location=/tmp/qiime2-archive-a9ccgyfk')\" src=\"data:image/gif;base64,R0lGODlhAQABAIAAAP///wAAACH5BAEAAAAALAAAAAABAAEAAAICRAEAOw==\" /></div>"
      ],
      "text/plain": [
       "<visualization: Visualization uuid: b9622814-a9cd-4365-b3fa-2a8b5d108041>"
      ]
     },
     "execution_count": 5,
     "metadata": {},
     "output_type": "execute_result"
    }
   ],
   "source": [
    "Visualization.load('Results/2-alpha-rarefaction_arc.qzv')"
   ]
  },
  {
   "cell_type": "code",
   "execution_count": 24,
   "id": "7c23aaa3-6eb3-481c-8718-0f0283ba9464",
   "metadata": {},
   "outputs": [
    {
     "data": {
      "text/html": [
       "<div><img onload=\"(function(div, url){\n",
       "if (typeof require !== 'undefined') {\n",
       "    var baseURL = require.toUrl('').split('/').slice(0, -2).join('/');\n",
       "} else {\n",
       "    var baseURL = JSON.parse(\n",
       "        document.getElementById('jupyter-config-data').innerHTML\n",
       "    ).baseUrl.slice(0, -1);\n",
       "}\n",
       "url = baseURL + url;\n",
       "fetch(url).then(function(res) {\n",
       "    if (res.status === 404) {\n",
       "        div.innerHTML = 'Install QIIME 2 Jupyter extension with:<br />' +\n",
       "                        '<code>jupyter serverextension enable --py qiime2' +\n",
       "                        ' --sys-prefix</code><br />then restart your server.' +\n",
       "                        '<br /><br />(Interactive output not available on ' +\n",
       "                        'static notebook viewer services like nbviewer.)';\n",
       "    } else if (res.status === 409) {\n",
       "        div.innerHTML = 'Visualization no longer in scope. Re-run this cell' +\n",
       "                        ' to see the visualization.';\n",
       "    } else if (res.ok) {\n",
       "        url = res.url;\n",
       "        div.innerHTML = '<iframe src=\\'' + url + '\\' style=\\'' +\n",
       "                        'width: 100%; height: 700px; border: 0;\\'>' +\n",
       "                        '</iframe><hr />Open in a: <a href=\\'' + url + '\\'' +\n",
       "                        ' target=\\'_blank\\'>new window</a>'\n",
       "    } else {\n",
       "        div.innerHTML = 'Something has gone wrong. Check notebook server for' +\n",
       "                        ' errors.';\n",
       "    }\n",
       "});\n",
       "})(this.parentElement, '/qiime2/redirect?location=/tmp/qiime2-archive-fh_3vc17')\" src=\"data:image/gif;base64,R0lGODlhAQABAIAAAP///wAAACH5BAEAAAAALAAAAAABAAEAAAICRAEAOw==\" /></div>"
      ],
      "text/plain": [
       "<visualization: Visualization uuid: 835ce464-10d5-49c8-bd72-089158fd5854>"
      ]
     },
     "execution_count": 24,
     "metadata": {},
     "output_type": "execute_result"
    }
   ],
   "source": [
    "Visualization.load('Results/1-feature-table_arc.qzv')"
   ]
  },
  {
   "cell_type": "markdown",
   "id": "35b9e4cc-884d-4272-bdb4-8bed18551d1a",
   "metadata": {},
   "source": [
    "#### 2.3 Diversity metrics"
   ]
  },
  {
   "cell_type": "code",
   "execution_count": 19,
   "id": "e42ddf0b-ad6d-4c6b-afb5-74e8c8a0ffa2",
   "metadata": {},
   "outputs": [
    {
     "name": "stdout",
     "output_type": "stream",
     "text": [
      "\u001b[32mSaved FeatureTable[Frequency] to: Results/2-core-metrics_arc/rarefied_table.qza\u001b[0m\n",
      "\u001b[32mSaved SampleData[AlphaDiversity] to: Results/2-core-metrics_arc/faith_pd_vector.qza\u001b[0m\n",
      "\u001b[32mSaved SampleData[AlphaDiversity] to: Results/2-core-metrics_arc/observed_features_vector.qza\u001b[0m\n",
      "\u001b[32mSaved SampleData[AlphaDiversity] to: Results/2-core-metrics_arc/shannon_vector.qza\u001b[0m\n",
      "\u001b[32mSaved SampleData[AlphaDiversity] to: Results/2-core-metrics_arc/evenness_vector.qza\u001b[0m\n",
      "\u001b[32mSaved DistanceMatrix to: Results/2-core-metrics_arc/unweighted_unifrac_distance_matrix.qza\u001b[0m\n",
      "\u001b[32mSaved DistanceMatrix to: Results/2-core-metrics_arc/weighted_unifrac_distance_matrix.qza\u001b[0m\n",
      "\u001b[32mSaved DistanceMatrix to: Results/2-core-metrics_arc/jaccard_distance_matrix.qza\u001b[0m\n",
      "\u001b[32mSaved DistanceMatrix to: Results/2-core-metrics_arc/bray_curtis_distance_matrix.qza\u001b[0m\n",
      "\u001b[32mSaved PCoAResults to: Results/2-core-metrics_arc/unweighted_unifrac_pcoa_results.qza\u001b[0m\n",
      "\u001b[32mSaved PCoAResults to: Results/2-core-metrics_arc/weighted_unifrac_pcoa_results.qza\u001b[0m\n",
      "\u001b[32mSaved PCoAResults to: Results/2-core-metrics_arc/jaccard_pcoa_results.qza\u001b[0m\n",
      "\u001b[32mSaved PCoAResults to: Results/2-core-metrics_arc/bray_curtis_pcoa_results.qza\u001b[0m\n",
      "\u001b[32mSaved Visualization to: Results/2-core-metrics_arc/unweighted_unifrac_emperor.qzv\u001b[0m\n",
      "\u001b[32mSaved Visualization to: Results/2-core-metrics_arc/weighted_unifrac_emperor.qzv\u001b[0m\n",
      "\u001b[32mSaved Visualization to: Results/2-core-metrics_arc/jaccard_emperor.qzv\u001b[0m\n",
      "\u001b[32mSaved Visualization to: Results/2-core-metrics_arc/bray_curtis_emperor.qzv\u001b[0m\n",
      "\u001b[0m"
     ]
    }
   ],
   "source": [
    "! qiime diversity core-metrics-phylogenetic \\\n",
    "  --i-table Data/1-feature-table_arc.qza \\\n",
    "  --i-phylogeny Data/2-fasttree-tree-rooted_arc.qza \\\n",
    "  --m-metadata-file Data/0-metadata_arc.tsv \\\n",
    "  --p-sampling-depth  5000 \\\n",
    "  --output-dir Results/2-core-metrics_arc"
   ]
  },
  {
   "cell_type": "markdown",
   "id": "6d6ed18e-84e5-4e09-81e5-af17e9a681eb",
   "metadata": {},
   "source": [
    "# 2.4 Beta diversity"
   ]
  },
  {
   "cell_type": "code",
   "execution_count": 25,
   "id": "68217b48-a50b-464e-89c2-02fdcc244905",
   "metadata": {},
   "outputs": [
    {
     "data": {
      "text/html": [
       "<div><img onload=\"(function(div, url){\n",
       "if (typeof require !== 'undefined') {\n",
       "    var baseURL = require.toUrl('').split('/').slice(0, -2).join('/');\n",
       "} else {\n",
       "    var baseURL = JSON.parse(\n",
       "        document.getElementById('jupyter-config-data').innerHTML\n",
       "    ).baseUrl.slice(0, -1);\n",
       "}\n",
       "url = baseURL + url;\n",
       "fetch(url).then(function(res) {\n",
       "    if (res.status === 404) {\n",
       "        div.innerHTML = 'Install QIIME 2 Jupyter extension with:<br />' +\n",
       "                        '<code>jupyter serverextension enable --py qiime2' +\n",
       "                        ' --sys-prefix</code><br />then restart your server.' +\n",
       "                        '<br /><br />(Interactive output not available on ' +\n",
       "                        'static notebook viewer services like nbviewer.)';\n",
       "    } else if (res.status === 409) {\n",
       "        div.innerHTML = 'Visualization no longer in scope. Re-run this cell' +\n",
       "                        ' to see the visualization.';\n",
       "    } else if (res.ok) {\n",
       "        url = res.url;\n",
       "        div.innerHTML = '<iframe src=\\'' + url + '\\' style=\\'' +\n",
       "                        'width: 100%; height: 700px; border: 0;\\'>' +\n",
       "                        '</iframe><hr />Open in a: <a href=\\'' + url + '\\'' +\n",
       "                        ' target=\\'_blank\\'>new window</a>'\n",
       "    } else {\n",
       "        div.innerHTML = 'Something has gone wrong. Check notebook server for' +\n",
       "                        ' errors.';\n",
       "    }\n",
       "});\n",
       "})(this.parentElement, '/qiime2/redirect?location=/tmp/qiime2-archive-aydzi4dz')\" src=\"data:image/gif;base64,R0lGODlhAQABAIAAAP///wAAACH5BAEAAAAALAAAAAABAAEAAAICRAEAOw==\" /></div>"
      ],
      "text/plain": [
       "<visualization: Visualization uuid: e8b0506c-3a57-4535-96f7-6598010318b2>"
      ]
     },
     "execution_count": 25,
     "metadata": {},
     "output_type": "execute_result"
    }
   ],
   "source": [
    "Visualization.load('Results/2-core-metrics_arc/bray_curtis_emperor.qzv')"
   ]
  },
  {
   "cell_type": "code",
   "execution_count": 26,
   "id": "0a2806d5-92a3-4825-9d31-d412d62eb245",
   "metadata": {},
   "outputs": [
    {
     "data": {
      "text/html": [
       "<div><img onload=\"(function(div, url){\n",
       "if (typeof require !== 'undefined') {\n",
       "    var baseURL = require.toUrl('').split('/').slice(0, -2).join('/');\n",
       "} else {\n",
       "    var baseURL = JSON.parse(\n",
       "        document.getElementById('jupyter-config-data').innerHTML\n",
       "    ).baseUrl.slice(0, -1);\n",
       "}\n",
       "url = baseURL + url;\n",
       "fetch(url).then(function(res) {\n",
       "    if (res.status === 404) {\n",
       "        div.innerHTML = 'Install QIIME 2 Jupyter extension with:<br />' +\n",
       "                        '<code>jupyter serverextension enable --py qiime2' +\n",
       "                        ' --sys-prefix</code><br />then restart your server.' +\n",
       "                        '<br /><br />(Interactive output not available on ' +\n",
       "                        'static notebook viewer services like nbviewer.)';\n",
       "    } else if (res.status === 409) {\n",
       "        div.innerHTML = 'Visualization no longer in scope. Re-run this cell' +\n",
       "                        ' to see the visualization.';\n",
       "    } else if (res.ok) {\n",
       "        url = res.url;\n",
       "        div.innerHTML = '<iframe src=\\'' + url + '\\' style=\\'' +\n",
       "                        'width: 100%; height: 700px; border: 0;\\'>' +\n",
       "                        '</iframe><hr />Open in a: <a href=\\'' + url + '\\'' +\n",
       "                        ' target=\\'_blank\\'>new window</a>'\n",
       "    } else {\n",
       "        div.innerHTML = 'Something has gone wrong. Check notebook server for' +\n",
       "                        ' errors.';\n",
       "    }\n",
       "});\n",
       "})(this.parentElement, '/qiime2/redirect?location=/tmp/qiime2-archive-wz1vq5li')\" src=\"data:image/gif;base64,R0lGODlhAQABAIAAAP///wAAACH5BAEAAAAALAAAAAABAAEAAAICRAEAOw==\" /></div>"
      ],
      "text/plain": [
       "<visualization: Visualization uuid: 86446074-49f3-440d-ae2a-9373c86be538>"
      ]
     },
     "execution_count": 26,
     "metadata": {},
     "output_type": "execute_result"
    }
   ],
   "source": [
    "Visualization.load('Results/2-core-metrics_arc/jaccard_emperor.qzv')"
   ]
  },
  {
   "cell_type": "code",
   "execution_count": 27,
   "id": "052e8782-d29e-45f5-86ef-eadb5eba9898",
   "metadata": {},
   "outputs": [
    {
     "data": {
      "text/html": [
       "<div><img onload=\"(function(div, url){\n",
       "if (typeof require !== 'undefined') {\n",
       "    var baseURL = require.toUrl('').split('/').slice(0, -2).join('/');\n",
       "} else {\n",
       "    var baseURL = JSON.parse(\n",
       "        document.getElementById('jupyter-config-data').innerHTML\n",
       "    ).baseUrl.slice(0, -1);\n",
       "}\n",
       "url = baseURL + url;\n",
       "fetch(url).then(function(res) {\n",
       "    if (res.status === 404) {\n",
       "        div.innerHTML = 'Install QIIME 2 Jupyter extension with:<br />' +\n",
       "                        '<code>jupyter serverextension enable --py qiime2' +\n",
       "                        ' --sys-prefix</code><br />then restart your server.' +\n",
       "                        '<br /><br />(Interactive output not available on ' +\n",
       "                        'static notebook viewer services like nbviewer.)';\n",
       "    } else if (res.status === 409) {\n",
       "        div.innerHTML = 'Visualization no longer in scope. Re-run this cell' +\n",
       "                        ' to see the visualization.';\n",
       "    } else if (res.ok) {\n",
       "        url = res.url;\n",
       "        div.innerHTML = '<iframe src=\\'' + url + '\\' style=\\'' +\n",
       "                        'width: 100%; height: 700px; border: 0;\\'>' +\n",
       "                        '</iframe><hr />Open in a: <a href=\\'' + url + '\\'' +\n",
       "                        ' target=\\'_blank\\'>new window</a>'\n",
       "    } else {\n",
       "        div.innerHTML = 'Something has gone wrong. Check notebook server for' +\n",
       "                        ' errors.';\n",
       "    }\n",
       "});\n",
       "})(this.parentElement, '/qiime2/redirect?location=/tmp/qiime2-archive-881m_vin')\" src=\"data:image/gif;base64,R0lGODlhAQABAIAAAP///wAAACH5BAEAAAAALAAAAAABAAEAAAICRAEAOw==\" /></div>"
      ],
      "text/plain": [
       "<visualization: Visualization uuid: 365fd986-856f-4bf4-b6b7-89b736ea66b1>"
      ]
     },
     "execution_count": 27,
     "metadata": {},
     "output_type": "execute_result"
    }
   ],
   "source": [
    "Visualization.load('Results/2-core-metrics_bac/weighted_unifrac_emperor.qzv')"
   ]
  },
  {
   "cell_type": "code",
   "execution_count": 28,
   "id": "c72a315e-2cff-413c-8857-21a6e27239a0",
   "metadata": {},
   "outputs": [
    {
     "data": {
      "text/html": [
       "<div><img onload=\"(function(div, url){\n",
       "if (typeof require !== 'undefined') {\n",
       "    var baseURL = require.toUrl('').split('/').slice(0, -2).join('/');\n",
       "} else {\n",
       "    var baseURL = JSON.parse(\n",
       "        document.getElementById('jupyter-config-data').innerHTML\n",
       "    ).baseUrl.slice(0, -1);\n",
       "}\n",
       "url = baseURL + url;\n",
       "fetch(url).then(function(res) {\n",
       "    if (res.status === 404) {\n",
       "        div.innerHTML = 'Install QIIME 2 Jupyter extension with:<br />' +\n",
       "                        '<code>jupyter serverextension enable --py qiime2' +\n",
       "                        ' --sys-prefix</code><br />then restart your server.' +\n",
       "                        '<br /><br />(Interactive output not available on ' +\n",
       "                        'static notebook viewer services like nbviewer.)';\n",
       "    } else if (res.status === 409) {\n",
       "        div.innerHTML = 'Visualization no longer in scope. Re-run this cell' +\n",
       "                        ' to see the visualization.';\n",
       "    } else if (res.ok) {\n",
       "        url = res.url;\n",
       "        div.innerHTML = '<iframe src=\\'' + url + '\\' style=\\'' +\n",
       "                        'width: 100%; height: 700px; border: 0;\\'>' +\n",
       "                        '</iframe><hr />Open in a: <a href=\\'' + url + '\\'' +\n",
       "                        ' target=\\'_blank\\'>new window</a>'\n",
       "    } else {\n",
       "        div.innerHTML = 'Something has gone wrong. Check notebook server for' +\n",
       "                        ' errors.';\n",
       "    }\n",
       "});\n",
       "})(this.parentElement, '/qiime2/redirect?location=/tmp/qiime2-archive-n0pra6xb')\" src=\"data:image/gif;base64,R0lGODlhAQABAIAAAP///wAAACH5BAEAAAAALAAAAAABAAEAAAICRAEAOw==\" /></div>"
      ],
      "text/plain": [
       "<visualization: Visualization uuid: 140a3217-366b-4cc5-a978-dabd4804b8d6>"
      ]
     },
     "execution_count": 28,
     "metadata": {},
     "output_type": "execute_result"
    }
   ],
   "source": [
    "Visualization.load('Results/2-core-metrics_arc/unweighted_unifrac_emperor.qzv')"
   ]
  }
 ],
 "metadata": {
  "kernelspec": {
   "display_name": "QIIME2 (shotgun)",
   "language": "python",
   "name": "shotgun"
  },
  "language_info": {
   "codemirror_mode": {
    "name": "ipython",
    "version": 3
   },
   "file_extension": ".py",
   "mimetype": "text/x-python",
   "name": "python",
   "nbconvert_exporter": "python",
   "pygments_lexer": "ipython3",
   "version": "3.8.13"
  }
 },
 "nbformat": 4,
 "nbformat_minor": 5
}
