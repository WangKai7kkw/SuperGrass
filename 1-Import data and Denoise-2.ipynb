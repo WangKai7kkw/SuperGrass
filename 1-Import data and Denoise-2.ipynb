{
 "cells": [
  {
   "cell_type": "markdown",
   "id": "5691d62b-5d6a-43bc-8148-059b3d25b671",
   "metadata": {},
   "source": [
    "# 0. Setup"
   ]
  },
  {
   "cell_type": "code",
   "execution_count": 1,
   "id": "c0b6f38e-7fb4-47d7-80ea-cf88a9776a82",
   "metadata": {},
   "outputs": [],
   "source": [
    "import pandas as pd\n",
    "from qiime2 import Visualization"
   ]
  },
  {
   "cell_type": "markdown",
   "id": "9e7d5e3a-9106-4e1b-aec7-ba3c978de5e7",
   "metadata": {},
   "source": [
    "# 1. Import datasets (downloaded by q2-fondue)"
   ]
  },
  {
   "cell_type": "markdown",
   "id": "499cb95f-b688-4aa5-9e20-a119f8c3ada9",
   "metadata": {},
   "source": [
    "## 1.1 Metadata"
   ]
  },
  {
   "cell_type": "code",
   "execution_count": 4,
   "id": "eea7995a-f996-417a-a7a5-8fd3ac77ad97",
   "metadata": {},
   "outputs": [
    {
     "name": "stdout",
     "output_type": "stream",
     "text": [
      "\u001b[32mExtracted data/metadata.qza to directory data/7dab3233-f05d-4fa2-802c-250900314160\u001b[0m\n"
     ]
    }
   ],
   "source": [
    "! qiime tools extract --input-path data/metadata.qza --output-path data/\n",
    "! mv data/7dab3233-f05d-4fa2-802c-250900314160/data/sra-metadata.tsv data/metadata.tsv\n",
    "! rm -rf data/7dab3233-f05d-4fa2-802c-250900314160/\n",
    "metadata = pd.read_csv(\"data/metadata.tsv\", sep= \"\\t\")"
   ]
  },
  {
   "cell_type": "code",
   "execution_count": 36,
   "id": "8b813f95-f7f1-481c-8427-5dfb7f98cc81",
   "metadata": {},
   "outputs": [
    {
     "data": {
      "text/plain": [
       "liquid phase grass    6\n",
       "rumen fluid corn      6\n",
       "liquid phase hay      6\n",
       "rumen fluid grass     6\n",
       "liquid phase corn     6\n",
       "rumen fluid hay       6\n",
       "solid phase hay       6\n",
       "solid phase corn      6\n",
       "solid phase grass     6\n",
       "Name: Description [sample], dtype: int64"
      ]
     },
     "execution_count": 36,
     "metadata": {},
     "output_type": "execute_result"
    }
   ],
   "source": [
    "metadata['Description [sample]'].value_counts()"
   ]
  },
  {
   "cell_type": "code",
   "execution_count": 5,
   "id": "db99d2ad-49f4-477e-8b85-85f0fd9b75f0",
   "metadata": {},
   "outputs": [],
   "source": [
    "# creating two colomns indicating sample type and diet treatments\n",
    "metadata[['Sample fractions', 'Diets']] = metadata['Description [sample]'].str.rsplit(n=1, expand = True)"
   ]
  },
  {
   "cell_type": "code",
   "execution_count": 15,
   "id": "bb861101-99e6-416e-a60f-bc2bc0c02ebe",
   "metadata": {},
   "outputs": [],
   "source": [
    "metadata.rename(columns = {'ID':'Sample ID'}, inplace = True)\n",
    "metadata = metadata[['Sample ID', 'Sample fractions', 'Diets']]"
   ]
  },
  {
   "cell_type": "code",
   "execution_count": 16,
   "id": "f7528806-a84a-4535-9cba-f9c513a0429a",
   "metadata": {},
   "outputs": [],
   "source": [
    "metadata.to_csv('data/metadata.tsv', sep=\"\\t\", index=False)"
   ]
  },
  {
   "cell_type": "code",
   "execution_count": 17,
   "id": "b0575974-b252-45d9-8259-d6e8c2b42ed7",
   "metadata": {},
   "outputs": [],
   "source": [
    "metadata = pd.read_csv(\"data/metadata.tsv\", sep= \"\\t\")"
   ]
  },
  {
   "cell_type": "markdown",
   "id": "7a1a314a-44b1-4c67-ac3d-4e82a042800f",
   "metadata": {},
   "source": [
    "## 1.2 Sequence"
   ]
  },
  {
   "cell_type": "code",
   "execution_count": 22,
   "id": "3be934e8-9b48-44f2-a322-83427d37f3fe",
   "metadata": {},
   "outputs": [
    {
     "name": "stdout",
     "output_type": "stream",
     "text": [
      "\u001b[32mExported data/sequence.qza as SingleLanePerSamplePairedEndFastqDirFmt to directory data/paired-sequence\u001b[0m\n",
      "\u001b[0m"
     ]
    }
   ],
   "source": [
    "! qiime tools export --input-path data/sequence.qza --output-path data/paired-sequence\n",
    "! gunzip data/paired-sequence/*.fastq.gz"
   ]
  },
  {
   "cell_type": "code",
   "execution_count": 45,
   "id": "c61c79e0-55ad-48d6-bb7c-e41f464eba42",
   "metadata": {},
   "outputs": [
    {
     "name": "stdout",
     "output_type": "stream",
     "text": [
      "@ERR1842970.1 M00214:420:000000000-AUC9M:1:1102:14964:1811 length=251\n",
      "AAGCCTCAAGAGTTAGATCATGGCTCAGGATGAACGCTGGTGGCGTGTCTTATACATGCAAGTCGAGCGGTCCGCAAGGATAGCGGCGCTCGGGTGAGTACCGCCTAAGCAATCTGCCCCGCATATTGGGATAGCCGTGCCAACGCGCGGATAATACCCAATAACGTGGCCCCGCACAGCCGGGGTTGACGAAAGATTCATGGATGCCGGATGAGCTTGCGTCCGATGAGCTAGTTGGCGGGGCAACGGCC\n",
      "+ERR1842970.1 M00214:420:000000000-AUC9M:1:1102:14964:1811 length=251\n",
      "1A>?1@BFFFFFGG3FGGGGGGHHHHGHFHCGGHHFFGGGBFCGGGCEFGFHEGHFHFHF1GHHGEEECEE/E///EEE0FFF1>//////<///B/CGB1B///</1?0<01?F1B1/F@C?AGEH11<.<CGHFA<AA:00..:;---;-9;FF00/0.;;99.---@FA----9--9-@?9@;-99FBF@FBFFBFFF///BBB/--;-9;FF///---------/9///9://BF?@-;@-AF--@=\n",
      "@ERR1842970.2 M00214:420:000000000-AUC9M:1:1102:14564:1863 length=251\n",
      "AAGCCTCAAGGGTTCGATCATGGCTCAGGATGAACGCTAGCGACAGGCTTAACACATGCAAGTCGAGGGGCAGCGCGGAGGTAGCAATACCTCTGGCGGCGACCGGCGCACTGGTGAGTAACACGTATGCGACCTGCCCCGGACAGGGGGATAAACCCGGGAAACTGGGTCTAATACCCCATATGCCCTGGGGACGCATGTCCTTCGGGAGAAAGATCCGTCGGTCCGGGATCGGCATGCGGCCCATGAGC\n",
      "+ERR1842970.2 M00214:420:000000000-AUC9M:1:1102:14564:1863 length=251\n",
      "AA3AAFFFFFFAGGFGGFF2FEGEGEFHHHFGCDGFBAAAFECEAE1FHHHFHHHGFF33GHHHGG@00?E/1FE@?@?E/?C3BDG33B3FFGBFGC////><ADC---CC/:;CB.00C00;.;/9;B.C@-.9F9C.-?-@=E?A---.9BFFF?-----.FFF/.99B///////..9//BF///A?E;9-@-9A?FFF/9/;..--:./9B9B999:@=-A--99-9...9-9.9;@--9.;///:\n",
      "@ERR1842970.3 M00214:420:000000000-AUC9M:1:1102:17268:1888 length=251\n",
      "AAGCCTCAAGGGTTCGATTCTGGCTCAGGACGAACGCTGGCGGCGTGCCTAACACATGCAAGTCGAACGGAGTATTGCGCTGAAACGAGAGTAGCTTGCTACAGGAATTTCTTGTAATACTTAGTGGCGGACGGGTGAGTAACGCGTGAGGAACCTGCCTTACAGAGGGGGACAACAGTTGGAAACGACTGCTAATACCGCATAACATATTGAGAGGACATCCTCTTAATATCAAAGGAGCAATCCGCTGT\n"
     ]
    }
   ],
   "source": [
    "# check fastq file\n",
    "! head -n 10 data/paired-sequence/ERR1842970_00_L001_R1_001.fastq"
   ]
  },
  {
   "cell_type": "markdown",
   "id": "c6c1afb6-e948-4526-87a4-18b051647c5b",
   "metadata": {},
   "source": [
    "# 2. Sequence Quality"
   ]
  },
  {
   "cell_type": "code",
   "execution_count": 28,
   "id": "13f4882a-2e30-4f43-8289-4a32006800dd",
   "metadata": {},
   "outputs": [
    {
     "name": "stdout",
     "output_type": "stream",
     "text": [
      "\u001b[32mSaved Visualization to: data/demux_seqs.qzv\u001b[0m\n",
      "\u001b[0m"
     ]
    }
   ],
   "source": [
    "! qiime demux summarize \\\n",
    "    --i-data data/sequence.qza \\\n",
    "    --o-visualization data/demux_seqs.qzv"
   ]
  },
  {
   "cell_type": "code",
   "execution_count": 3,
   "id": "731862c8-03ae-40fd-b429-637cf945a49e",
   "metadata": {},
   "outputs": [
    {
     "data": {
      "text/html": [
       "<div><img onload=\"(function(div, url){\n",
       "if (typeof require !== 'undefined') {\n",
       "    var baseURL = require.toUrl('').split('/').slice(0, -2).join('/');\n",
       "} else {\n",
       "    var baseURL = JSON.parse(\n",
       "        document.getElementById('jupyter-config-data').innerHTML\n",
       "    ).baseUrl.slice(0, -1);\n",
       "}\n",
       "url = baseURL + url;\n",
       "fetch(url).then(function(res) {\n",
       "    if (res.status === 404) {\n",
       "        div.innerHTML = 'Install QIIME 2 Jupyter extension with:<br />' +\n",
       "                        '<code>jupyter serverextension enable --py qiime2' +\n",
       "                        ' --sys-prefix</code><br />then restart your server.' +\n",
       "                        '<br /><br />(Interactive output not available on ' +\n",
       "                        'static notebook viewer services like nbviewer.)';\n",
       "    } else if (res.status === 409) {\n",
       "        div.innerHTML = 'Visualization no longer in scope. Re-run this cell' +\n",
       "                        ' to see the visualization.';\n",
       "    } else if (res.ok) {\n",
       "        url = res.url;\n",
       "        div.innerHTML = '<iframe src=\\'' + url + '\\' style=\\'' +\n",
       "                        'width: 100%; height: 700px; border: 0;\\'>' +\n",
       "                        '</iframe><hr />Open in a: <a href=\\'' + url + '\\'' +\n",
       "                        ' target=\\'_blank\\'>new window</a>'\n",
       "    } else {\n",
       "        div.innerHTML = 'Something has gone wrong. Check notebook server for' +\n",
       "                        ' errors.';\n",
       "    }\n",
       "});\n",
       "})(this.parentElement, '/qiime2/redirect?location=/tmp/qiime2-archive-zek5uqbu')\" src=\"data:image/gif;base64,R0lGODlhAQABAIAAAP///wAAACH5BAEAAAAALAAAAAABAAEAAAICRAEAOw==\" /></div>"
      ],
      "text/plain": [
       "<visualization: Visualization uuid: 85fd2ab6-92b0-4ea4-93b4-daec3074f92c>"
      ]
     },
     "execution_count": 3,
     "metadata": {},
     "output_type": "execute_result"
    }
   ],
   "source": [
    "Visualization.load('data/demux_seqs.qzv')"
   ]
  },
  {
   "cell_type": "markdown",
   "id": "8072ddb4-7731-4e31-ae8f-f438dccf7f1c",
   "metadata": {},
   "source": [
    "# 3. Denoise"
   ]
  },
  {
   "cell_type": "markdown",
   "id": "f7e45516-10cb-4d0d-b8ad-69971b1e65e2",
   "metadata": {},
   "source": [
    "Truncating parameters `p-trunc-len-f` `p-trunc-len-r` were set based on the quality plot, in which quality scores decreased a lot after position 221 and 172 in forward and reverse sequences respectively. Trim parameters `p-trim-left-f` `p-trim-left-r` were set based on the length of barcode (6nt), linker (2nt), and primers(27f: 20nt, 338r: 18nt) in sequences."
   ]
  },
  {
   "cell_type": "code",
   "execution_count": null,
   "id": "d9172150-d6cc-4943-ab92-e426250f8c67",
   "metadata": {},
   "outputs": [],
   "source": [
    "! qiime dada2 denoise-paired \\\n",
    "    --i-demultiplexed-seqs data/sequence.qza \\\n",
    "    --p-trunc-len-f 221 \\\n",
    "    --p-trunc-len-r 172 \\\n",
    "    --p-trim-left-f 28 \\\n",
    "    --p-trim-left-r 26 \\\n",
    "    --p-n-threads 3 \\\n",
    "    --o-table data/dada2_table.qza \\\n",
    "    --o-representative-sequences data/dada2_rep_set.qza \\\n",
    "    --o-denoising-stats data/dada2_stats.qza"
   ]
  },
  {
   "cell_type": "code",
   "execution_count": 18,
   "id": "ceb249fd-c7e6-468b-9148-590aa9e82e78",
   "metadata": {},
   "outputs": [
    {
     "name": "stdout",
     "output_type": "stream",
     "text": [
      "\u001b[32mSaved Visualization to: data/dada2_stats.qzv\u001b[0m\n",
      "\u001b[0m"
     ]
    }
   ],
   "source": [
    "# denoising stats\n",
    "! qiime metadata tabulate \\\n",
    "    --m-input-file data/dada2_stats.qza \\\n",
    "    --o-visualization data/dada2_stats.qzv"
   ]
  },
  {
   "cell_type": "code",
   "execution_count": 3,
   "id": "5ecde9b8-50a2-4ee7-80a8-d3807325b5df",
   "metadata": {},
   "outputs": [
    {
     "data": {
      "text/html": [
       "<div><img onload=\"(function(div, url){\n",
       "if (typeof require !== 'undefined') {\n",
       "    var baseURL = require.toUrl('').split('/').slice(0, -2).join('/');\n",
       "} else {\n",
       "    var baseURL = JSON.parse(\n",
       "        document.getElementById('jupyter-config-data').innerHTML\n",
       "    ).baseUrl.slice(0, -1);\n",
       "}\n",
       "url = baseURL + url;\n",
       "fetch(url).then(function(res) {\n",
       "    if (res.status === 404) {\n",
       "        div.innerHTML = 'Install QIIME 2 Jupyter extension with:<br />' +\n",
       "                        '<code>jupyter serverextension enable --py qiime2' +\n",
       "                        ' --sys-prefix</code><br />then restart your server.' +\n",
       "                        '<br /><br />(Interactive output not available on ' +\n",
       "                        'static notebook viewer services like nbviewer.)';\n",
       "    } else if (res.status === 409) {\n",
       "        div.innerHTML = 'Visualization no longer in scope. Re-run this cell' +\n",
       "                        ' to see the visualization.';\n",
       "    } else if (res.ok) {\n",
       "        url = res.url;\n",
       "        div.innerHTML = '<iframe src=\\'' + url + '\\' style=\\'' +\n",
       "                        'width: 100%; height: 700px; border: 0;\\'>' +\n",
       "                        '</iframe><hr />Open in a: <a href=\\'' + url + '\\'' +\n",
       "                        ' target=\\'_blank\\'>new window</a>'\n",
       "    } else {\n",
       "        div.innerHTML = 'Something has gone wrong. Check notebook server for' +\n",
       "                        ' errors.';\n",
       "    }\n",
       "});\n",
       "})(this.parentElement, '/qiime2/redirect?location=/tmp/qiime2-archive-bn6x3yc4')\" src=\"data:image/gif;base64,R0lGODlhAQABAIAAAP///wAAACH5BAEAAAAALAAAAAABAAEAAAICRAEAOw==\" /></div>"
      ],
      "text/plain": [
       "<visualization: Visualization uuid: ee48a230-a8f6-4334-818c-4ad6b32fb062>"
      ]
     },
     "execution_count": 3,
     "metadata": {},
     "output_type": "execute_result"
    }
   ],
   "source": [
    "Visualization.load('data/dada2_stats.qzv')"
   ]
  },
  {
   "cell_type": "code",
   "execution_count": 19,
   "id": "99678576-df2c-451f-b985-c794a5bc824f",
   "metadata": {},
   "outputs": [
    {
     "name": "stdout",
     "output_type": "stream",
     "text": [
      "\u001b[32mSaved Visualization to: data/dada2_table.qzv\u001b[0m\n",
      "\u001b[0m"
     ]
    }
   ],
   "source": [
    "# visualize the feature table\n",
    "! qiime feature-table summarize \\\n",
    "    --i-table data/dada2_table.qza \\\n",
    "    --m-sample-metadata-file data/metadata.tsv \\\n",
    "    --o-visualization data/dada2_table.qzv"
   ]
  },
  {
   "cell_type": "code",
   "execution_count": 20,
   "id": "edc53974-17a4-449f-8467-f3e82eed6a0b",
   "metadata": {},
   "outputs": [
    {
     "data": {
      "text/html": [
       "<div><img onload=\"(function(div, url){\n",
       "if (typeof require !== 'undefined') {\n",
       "    var baseURL = require.toUrl('').split('/').slice(0, -2).join('/');\n",
       "} else {\n",
       "    var baseURL = JSON.parse(\n",
       "        document.getElementById('jupyter-config-data').innerHTML\n",
       "    ).baseUrl.slice(0, -1);\n",
       "}\n",
       "url = baseURL + url;\n",
       "fetch(url).then(function(res) {\n",
       "    if (res.status === 404) {\n",
       "        div.innerHTML = 'Install QIIME 2 Jupyter extension with:<br />' +\n",
       "                        '<code>jupyter serverextension enable --py qiime2' +\n",
       "                        ' --sys-prefix</code><br />then restart your server.' +\n",
       "                        '<br /><br />(Interactive output not available on ' +\n",
       "                        'static notebook viewer services like nbviewer.)';\n",
       "    } else if (res.status === 409) {\n",
       "        div.innerHTML = 'Visualization no longer in scope. Re-run this cell' +\n",
       "                        ' to see the visualization.';\n",
       "    } else if (res.ok) {\n",
       "        url = res.url;\n",
       "        div.innerHTML = '<iframe src=\\'' + url + '\\' style=\\'' +\n",
       "                        'width: 100%; height: 700px; border: 0;\\'>' +\n",
       "                        '</iframe><hr />Open in a: <a href=\\'' + url + '\\'' +\n",
       "                        ' target=\\'_blank\\'>new window</a>'\n",
       "    } else {\n",
       "        div.innerHTML = 'Something has gone wrong. Check notebook server for' +\n",
       "                        ' errors.';\n",
       "    }\n",
       "});\n",
       "})(this.parentElement, '/qiime2/redirect?location=/tmp/qiime2-archive-ku9efs3a')\" src=\"data:image/gif;base64,R0lGODlhAQABAIAAAP///wAAACH5BAEAAAAALAAAAAABAAEAAAICRAEAOw==\" /></div>"
      ],
      "text/plain": [
       "<visualization: Visualization uuid: 8d38643a-dc06-4fa2-958f-3787d2f4ee9b>"
      ]
     },
     "execution_count": 20,
     "metadata": {},
     "output_type": "execute_result"
    }
   ],
   "source": [
    "Visualization.load('data/dada2_table.qzv')"
   ]
  }
 ],
 "metadata": {
  "kernelspec": {
   "display_name": "Python 3 (ipykernel)",
   "language": "python",
   "name": "python3"
  },
  "language_info": {
   "codemirror_mode": {
    "name": "ipython",
    "version": 3
   },
   "file_extension": ".py",
   "mimetype": "text/x-python",
   "name": "python",
   "nbconvert_exporter": "python",
   "pygments_lexer": "ipython3",
   "version": "3.8.13"
  }
 },
 "nbformat": 4,
 "nbformat_minor": 5
}
