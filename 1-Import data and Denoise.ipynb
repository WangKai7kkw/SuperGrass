{
 "cells": [
  {
   "cell_type": "markdown",
   "id": "5691d62b-5d6a-43bc-8148-059b3d25b671",
   "metadata": {},
   "source": [
    "# 1 Import data"
   ]
  },
  {
   "cell_type": "code",
   "execution_count": 1,
   "id": "c0b6f38e-7fb4-47d7-80ea-cf88a9776a82",
   "metadata": {},
   "outputs": [],
   "source": [
    "import pandas as pd\n",
    "from qiime2 import Visualization"
   ]
  },
  {
   "cell_type": "markdown",
   "id": "9e7d5e3a-9106-4e1b-aec7-ba3c978de5e7",
   "metadata": {},
   "source": [
    "## 1 raw sequence data downloaded by q2-fondue"
   ]
  },
  {
   "cell_type": "code",
   "execution_count": 8,
   "id": "054f838e-6e0b-4cbc-b6ec-4ce050a81659",
   "metadata": {},
   "outputs": [
    {
     "name": "stdout",
     "output_type": "stream",
     "text": [
      "Traceback (most recent call last):\n",
      "  File \"/opt/conda/bin/qiime\", line 11, in <module>\n",
      "    sys.exit(qiime())\n",
      "  File \"/opt/conda/lib/python3.8/site-packages/click/core.py\", line 829, in __call__\n",
      "    return self.main(*args, **kwargs)\n",
      "  File \"/opt/conda/lib/python3.8/site-packages/click/core.py\", line 782, in main\n",
      "    rv = self.invoke(ctx)\n",
      "  File \"/opt/conda/lib/python3.8/site-packages/click/core.py\", line 1259, in invoke\n",
      "    return _process_result(sub_ctx.command.invoke(sub_ctx))\n",
      "  File \"/opt/conda/lib/python3.8/site-packages/click/core.py\", line 1259, in invoke\n",
      "    return _process_result(sub_ctx.command.invoke(sub_ctx))\n",
      "  File \"/opt/conda/lib/python3.8/site-packages/click/core.py\", line 1066, in invoke\n",
      "    return ctx.invoke(self.callback, **ctx.params)\n",
      "  File \"/opt/conda/lib/python3.8/site-packages/click/core.py\", line 610, in invoke\n",
      "    return callback(*args, **kwargs)\n",
      "  File \"/opt/conda/lib/python3.8/site-packages/q2cli/builtin/tools.py\", line 187, in peek\n",
      "    metadata = qiime2.sdk.Result.peek(path)\n",
      "  File \"/opt/conda/lib/python3.8/site-packages/qiime2/sdk/result.py\", line 56, in peek\n",
      "    return ResultMetadata(*archive.Archiver.peek(filepath))\n",
      "  File \"/opt/conda/lib/python3.8/site-packages/qiime2/core/archive/archiver.py\", line 278, in peek\n",
      "    archive = cls.get_archive(filepath)\n",
      "  File \"/opt/conda/lib/python3.8/site-packages/qiime2/core/archive/archiver.py\", line 264, in get_archive\n",
      "    raise ValueError(\"%s is not a QIIME archive.\" % filepath)\n",
      "ValueError: data/sequence.qza is not a QIIME archive.\n"
     ]
    }
   ],
   "source": [
    "! qiime tools peek data/sequence.qza"
   ]
  },
  {
   "cell_type": "code",
   "execution_count": 7,
   "id": "3be934e8-9b48-44f2-a322-83427d37f3fe",
   "metadata": {},
   "outputs": [
    {
     "name": "stdout",
     "output_type": "stream",
     "text": [
      "Traceback (most recent call last):\n",
      "  File \"/opt/conda/bin/qiime\", line 11, in <module>\n",
      "    sys.exit(qiime())\n",
      "  File \"/opt/conda/lib/python3.8/site-packages/click/core.py\", line 829, in __call__\n",
      "    return self.main(*args, **kwargs)\n",
      "  File \"/opt/conda/lib/python3.8/site-packages/click/core.py\", line 782, in main\n",
      "    rv = self.invoke(ctx)\n",
      "  File \"/opt/conda/lib/python3.8/site-packages/click/core.py\", line 1259, in invoke\n",
      "    return _process_result(sub_ctx.command.invoke(sub_ctx))\n",
      "  File \"/opt/conda/lib/python3.8/site-packages/click/core.py\", line 1259, in invoke\n",
      "    return _process_result(sub_ctx.command.invoke(sub_ctx))\n",
      "  File \"/opt/conda/lib/python3.8/site-packages/click/core.py\", line 1066, in invoke\n",
      "    return ctx.invoke(self.callback, **ctx.params)\n",
      "  File \"/opt/conda/lib/python3.8/site-packages/click/core.py\", line 610, in invoke\n",
      "    return callback(*args, **kwargs)\n",
      "  File \"/opt/conda/lib/python3.8/site-packages/q2cli/builtin/tools.py\", line 49, in export_data\n",
      "    result = qiime2.sdk.Result.load(input_path)\n",
      "  File \"/opt/conda/lib/python3.8/site-packages/qiime2/sdk/result.py\", line 66, in load\n",
      "    archiver = archive.Archiver.load(filepath)\n",
      "  File \"/opt/conda/lib/python3.8/site-packages/qiime2/core/archive/archiver.py\", line 299, in load\n",
      "    archive = cls.get_archive(filepath)\n",
      "  File \"/opt/conda/lib/python3.8/site-packages/qiime2/core/archive/archiver.py\", line 264, in get_archive\n",
      "    raise ValueError(\"%s is not a QIIME archive.\" % filepath)\n",
      "ValueError: data/sequence.qza is not a QIIME archive.\n"
     ]
    }
   ],
   "source": [
    "! qiime tools export --input-path data/sequence.qza --output-path data/paired-sequence\n",
    "#! gunzip data/paired-sequence/*.fastq.gz"
   ]
  },
  {
   "cell_type": "markdown",
   "id": "96d90efc-7fa8-4042-804e-2dff87824a0a",
   "metadata": {},
   "source": [
    "check fastq file"
   ]
  },
  {
   "cell_type": "code",
   "execution_count": 3,
   "id": "c61c79e0-55ad-48d6-bb7c-e41f464eba42",
   "metadata": {},
   "outputs": [
    {
     "name": "stdout",
     "output_type": "stream",
     "text": [
      "head: cannot open 'data/paired-sequence/ERR1842970_00_L001_R2_001.fastq' for reading: No such file or directory\n"
     ]
    }
   ],
   "source": [
    "! head -n 10 data/paired-sequence/ERR1842970_00_L001_R2_001.fastq"
   ]
  },
  {
   "cell_type": "markdown",
   "id": "177f73cf-9695-4e0e-8f1d-c7731ea1af9e",
   "metadata": {},
   "source": [
    "## 2 metadata"
   ]
  },
  {
   "cell_type": "code",
   "execution_count": 3,
   "id": "ec337bc3-5301-43a2-b89d-819e9052789d",
   "metadata": {},
   "outputs": [
    {
     "name": "stdout",
     "output_type": "stream",
     "text": [
      "\u001b[32mExtracted data/metadata.qza to directory data/7dab3233-f05d-4fa2-802c-250900314160\u001b[0m\n"
     ]
    }
   ],
   "source": [
    "! qiime tools extract --input-path data/metadata.qza --output-path data/\n",
    "! mv data/7dab3233-f05d-4fa2-802c-250900314160/data/sra-metadata.tsv data/metadata.tsv\n",
    "! rm -rf data/7dab3233-f05d-4fa2-802c-250900314160/\n",
    "metadata = pd.read_csv(\"data/metadata.tsv\", sep= \"\\t\")"
   ]
  },
  {
   "cell_type": "code",
   "execution_count": 4,
   "id": "71dd9c93-cb22-41b3-aeb3-3ab221ab8098",
   "metadata": {},
   "outputs": [
    {
     "data": {
      "text/html": [
       "<div>\n",
       "<style scoped>\n",
       "    .dataframe tbody tr th:only-of-type {\n",
       "        vertical-align: middle;\n",
       "    }\n",
       "\n",
       "    .dataframe tbody tr th {\n",
       "        vertical-align: top;\n",
       "    }\n",
       "\n",
       "    .dataframe thead th {\n",
       "        text-align: right;\n",
       "    }\n",
       "</style>\n",
       "<table border=\"1\" class=\"dataframe\">\n",
       "  <thead>\n",
       "    <tr style=\"text-align: right;\">\n",
       "      <th></th>\n",
       "      <th>ID</th>\n",
       "      <th>Experiment ID</th>\n",
       "      <th>Biosample ID</th>\n",
       "      <th>Bioproject ID</th>\n",
       "      <th>Study ID</th>\n",
       "      <th>Sample Accession</th>\n",
       "      <th>Organism</th>\n",
       "      <th>Library Source</th>\n",
       "      <th>Library Layout</th>\n",
       "      <th>Library Selection</th>\n",
       "      <th>...</th>\n",
       "      <th>Insdc first public [sample]</th>\n",
       "      <th>Insdc last update [sample]</th>\n",
       "      <th>Insdc status [sample]</th>\n",
       "      <th>Library Name</th>\n",
       "      <th>Name</th>\n",
       "      <th>Sample name [sample]</th>\n",
       "      <th>Sra accession [sample]</th>\n",
       "      <th>Tax ID</th>\n",
       "      <th>Title</th>\n",
       "      <th>Title [sample]</th>\n",
       "    </tr>\n",
       "  </thead>\n",
       "  <tbody>\n",
       "    <tr>\n",
       "      <th>0</th>\n",
       "      <td>ERR1842970</td>\n",
       "      <td>ERX1904947</td>\n",
       "      <td>SAMEA93297418</td>\n",
       "      <td>PRJEB19491</td>\n",
       "      <td>ERP021536</td>\n",
       "      <td>ERS1562511</td>\n",
       "      <td>rumen bacterium 1/9293-11A</td>\n",
       "      <td>GENOMIC</td>\n",
       "      <td>PAIRED</td>\n",
       "      <td>PCR</td>\n",
       "      <td>...</td>\n",
       "      <td>2017-10-04T17:02:10Z</td>\n",
       "      <td>2017-02-17T09:57:13Z</td>\n",
       "      <td>public</td>\n",
       "      <td>unspecified</td>\n",
       "      <td>SAMEA93297418</td>\n",
       "      <td>ERS1562511</td>\n",
       "      <td>ERS1562511</td>\n",
       "      <td>371813</td>\n",
       "      <td>C_RF_23</td>\n",
       "      <td>Sample</td>\n",
       "    </tr>\n",
       "    <tr>\n",
       "      <th>1</th>\n",
       "      <td>ERR1842971</td>\n",
       "      <td>ERX1904948</td>\n",
       "      <td>SAMEA93298168</td>\n",
       "      <td>PRJEB19491</td>\n",
       "      <td>ERP021536</td>\n",
       "      <td>ERS1562512</td>\n",
       "      <td>rumen bacterium 1/9293-11A</td>\n",
       "      <td>GENOMIC</td>\n",
       "      <td>PAIRED</td>\n",
       "      <td>PCR</td>\n",
       "      <td>...</td>\n",
       "      <td>2017-10-04T17:02:10Z</td>\n",
       "      <td>2017-02-17T09:57:13Z</td>\n",
       "      <td>public</td>\n",
       "      <td>unspecified</td>\n",
       "      <td>SAMEA93298168</td>\n",
       "      <td>ERS1562512</td>\n",
       "      <td>ERS1562512</td>\n",
       "      <td>371813</td>\n",
       "      <td>C_RF_59</td>\n",
       "      <td>Sample</td>\n",
       "    </tr>\n",
       "    <tr>\n",
       "      <th>2</th>\n",
       "      <td>ERR1842972</td>\n",
       "      <td>ERX1904949</td>\n",
       "      <td>SAMEA93298918</td>\n",
       "      <td>PRJEB19491</td>\n",
       "      <td>ERP021536</td>\n",
       "      <td>ERS1562513</td>\n",
       "      <td>rumen bacterium 1/9293-11A</td>\n",
       "      <td>GENOMIC</td>\n",
       "      <td>PAIRED</td>\n",
       "      <td>PCR</td>\n",
       "      <td>...</td>\n",
       "      <td>2017-10-04T17:02:10Z</td>\n",
       "      <td>2017-02-17T09:57:13Z</td>\n",
       "      <td>public</td>\n",
       "      <td>unspecified</td>\n",
       "      <td>SAMEA93298918</td>\n",
       "      <td>ERS1562513</td>\n",
       "      <td>ERS1562513</td>\n",
       "      <td>371813</td>\n",
       "      <td>C_RF_28</td>\n",
       "      <td>Sample</td>\n",
       "    </tr>\n",
       "    <tr>\n",
       "      <th>3</th>\n",
       "      <td>ERR1842973</td>\n",
       "      <td>ERX1904950</td>\n",
       "      <td>SAMEA93299668</td>\n",
       "      <td>PRJEB19491</td>\n",
       "      <td>ERP021536</td>\n",
       "      <td>ERS1562514</td>\n",
       "      <td>rumen bacterium 1/9293-11A</td>\n",
       "      <td>GENOMIC</td>\n",
       "      <td>PAIRED</td>\n",
       "      <td>PCR</td>\n",
       "      <td>...</td>\n",
       "      <td>2017-10-04T17:02:10Z</td>\n",
       "      <td>2017-02-17T09:57:13Z</td>\n",
       "      <td>public</td>\n",
       "      <td>unspecified</td>\n",
       "      <td>SAMEA93299668</td>\n",
       "      <td>ERS1562514</td>\n",
       "      <td>ERS1562514</td>\n",
       "      <td>371813</td>\n",
       "      <td>G_RF_28</td>\n",
       "      <td>Sample</td>\n",
       "    </tr>\n",
       "    <tr>\n",
       "      <th>4</th>\n",
       "      <td>ERR1842974</td>\n",
       "      <td>ERX1904951</td>\n",
       "      <td>SAMEA93300418</td>\n",
       "      <td>PRJEB19491</td>\n",
       "      <td>ERP021536</td>\n",
       "      <td>ERS1562515</td>\n",
       "      <td>rumen bacterium 1/9293-11A</td>\n",
       "      <td>GENOMIC</td>\n",
       "      <td>PAIRED</td>\n",
       "      <td>PCR</td>\n",
       "      <td>...</td>\n",
       "      <td>2017-10-04T17:02:10Z</td>\n",
       "      <td>2017-02-17T09:57:13Z</td>\n",
       "      <td>public</td>\n",
       "      <td>unspecified</td>\n",
       "      <td>SAMEA93300418</td>\n",
       "      <td>ERS1562515</td>\n",
       "      <td>ERS1562515</td>\n",
       "      <td>371813</td>\n",
       "      <td>G_RF_23</td>\n",
       "      <td>Sample</td>\n",
       "    </tr>\n",
       "  </tbody>\n",
       "</table>\n",
       "<p>5 rows × 36 columns</p>\n",
       "</div>"
      ],
      "text/plain": [
       "           ID Experiment ID   Biosample ID Bioproject ID   Study ID  \\\n",
       "0  ERR1842970    ERX1904947  SAMEA93297418    PRJEB19491  ERP021536   \n",
       "1  ERR1842971    ERX1904948  SAMEA93298168    PRJEB19491  ERP021536   \n",
       "2  ERR1842972    ERX1904949  SAMEA93298918    PRJEB19491  ERP021536   \n",
       "3  ERR1842973    ERX1904950  SAMEA93299668    PRJEB19491  ERP021536   \n",
       "4  ERR1842974    ERX1904951  SAMEA93300418    PRJEB19491  ERP021536   \n",
       "\n",
       "  Sample Accession                    Organism Library Source Library Layout  \\\n",
       "0       ERS1562511  rumen bacterium 1/9293-11A        GENOMIC         PAIRED   \n",
       "1       ERS1562512  rumen bacterium 1/9293-11A        GENOMIC         PAIRED   \n",
       "2       ERS1562513  rumen bacterium 1/9293-11A        GENOMIC         PAIRED   \n",
       "3       ERS1562514  rumen bacterium 1/9293-11A        GENOMIC         PAIRED   \n",
       "4       ERS1562515  rumen bacterium 1/9293-11A        GENOMIC         PAIRED   \n",
       "\n",
       "  Library Selection  ... Insdc first public [sample]  \\\n",
       "0               PCR  ...        2017-10-04T17:02:10Z   \n",
       "1               PCR  ...        2017-10-04T17:02:10Z   \n",
       "2               PCR  ...        2017-10-04T17:02:10Z   \n",
       "3               PCR  ...        2017-10-04T17:02:10Z   \n",
       "4               PCR  ...        2017-10-04T17:02:10Z   \n",
       "\n",
       "  Insdc last update [sample]  Insdc status [sample]  Library Name  \\\n",
       "0       2017-02-17T09:57:13Z                 public   unspecified   \n",
       "1       2017-02-17T09:57:13Z                 public   unspecified   \n",
       "2       2017-02-17T09:57:13Z                 public   unspecified   \n",
       "3       2017-02-17T09:57:13Z                 public   unspecified   \n",
       "4       2017-02-17T09:57:13Z                 public   unspecified   \n",
       "\n",
       "            Name  Sample name [sample]  Sra accession [sample]  Tax ID  \\\n",
       "0  SAMEA93297418            ERS1562511              ERS1562511  371813   \n",
       "1  SAMEA93298168            ERS1562512              ERS1562512  371813   \n",
       "2  SAMEA93298918            ERS1562513              ERS1562513  371813   \n",
       "3  SAMEA93299668            ERS1562514              ERS1562514  371813   \n",
       "4  SAMEA93300418            ERS1562515              ERS1562515  371813   \n",
       "\n",
       "     Title Title [sample]  \n",
       "0  C_RF_23         Sample  \n",
       "1  C_RF_59         Sample  \n",
       "2  C_RF_28         Sample  \n",
       "3  G_RF_28         Sample  \n",
       "4  G_RF_23         Sample  \n",
       "\n",
       "[5 rows x 36 columns]"
      ]
     },
     "execution_count": 4,
     "metadata": {},
     "output_type": "execute_result"
    }
   ],
   "source": [
    "metadata.head()"
   ]
  },
  {
   "cell_type": "code",
   "execution_count": 5,
   "id": "ed6f7b28-2ee9-4a32-b13f-b47b0c650d13",
   "metadata": {},
   "outputs": [
    {
     "data": {
      "text/plain": [
       "rumen fluid corn      6\n",
       "rumen fluid grass     6\n",
       "rumen fluid hay       6\n",
       "liquid phase corn     6\n",
       "liquid phase grass    6\n",
       "liquid phase hay      6\n",
       "solid phase corn      6\n",
       "solid phase grass     6\n",
       "solid phase hay       6\n",
       "Name: Description [sample], dtype: int64"
      ]
     },
     "execution_count": 5,
     "metadata": {},
     "output_type": "execute_result"
    }
   ],
   "source": [
    "metadata['Description [sample]'].value_counts()"
   ]
  },
  {
   "cell_type": "code",
   "execution_count": 6,
   "id": "279b8a9f-e248-4eb6-9925-decdc2e6c2f6",
   "metadata": {},
   "outputs": [],
   "source": [
    "metadata[['Sample fractions', 'Diets']] = metadata['Description [sample]'].str.rsplit(n=1, expand = True)"
   ]
  },
  {
   "cell_type": "markdown",
   "id": "c6c1afb6-e948-4526-87a4-18b051647c5b",
   "metadata": {},
   "source": [
    "# 2 Sequence Quality"
   ]
  },
  {
   "cell_type": "code",
   "execution_count": 8,
   "id": "13f4882a-2e30-4f43-8289-4a32006800dd",
   "metadata": {},
   "outputs": [
    {
     "name": "stdout",
     "output_type": "stream",
     "text": [
      "\u001b[32mSaved Visualization to: data/demux_seqs.qzv\u001b[0m\n",
      "\u001b[0m"
     ]
    }
   ],
   "source": [
    "! qiime demux summarize \\\n",
    "    --i-data data/sequence.qza \\\n",
    "    --o-visualization data/demux_seqs.qzv"
   ]
  },
  {
   "cell_type": "code",
   "execution_count": 17,
   "id": "731862c8-03ae-40fd-b429-637cf945a49e",
   "metadata": {},
   "outputs": [
    {
     "ename": "NameError",
     "evalue": "name 'Visualization' is not defined",
     "output_type": "error",
     "traceback": [
      "\u001b[0;31m---------------------------------------------------------------------------\u001b[0m",
      "\u001b[0;31mNameError\u001b[0m                                 Traceback (most recent call last)",
      "Cell \u001b[0;32mIn [17], line 1\u001b[0m\n\u001b[0;32m----> 1\u001b[0m \u001b[43mVisualization\u001b[49m\u001b[38;5;241m.\u001b[39mload(\u001b[38;5;124m'\u001b[39m\u001b[38;5;124mdata/demux_seqs.qzv\u001b[39m\u001b[38;5;124m'\u001b[39m)\n",
      "\u001b[0;31mNameError\u001b[0m: name 'Visualization' is not defined"
     ]
    }
   ],
   "source": [
    "Visualization.load('data/demux_seqs.qzv')"
   ]
  },
  {
   "cell_type": "code",
   "execution_count": null,
   "id": "a4b43649-0fcf-4371-9bc0-4cfbd0cd6438",
   "metadata": {},
   "outputs": [],
   "source": []
  }
 ],
 "metadata": {
  "kernelspec": {
   "display_name": "Python 3 (ipykernel)",
   "language": "python",
   "name": "python3"
  },
  "language_info": {
   "codemirror_mode": {
    "name": "ipython",
    "version": 3
   },
   "file_extension": ".py",
   "mimetype": "text/x-python",
   "name": "python",
   "nbconvert_exporter": "python",
   "pygments_lexer": "ipython3",
   "version": "3.8.13"
  }
 },
 "nbformat": 4,
 "nbformat_minor": 5
}
