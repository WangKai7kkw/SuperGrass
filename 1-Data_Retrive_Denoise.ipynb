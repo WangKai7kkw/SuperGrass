{
 "cells": [
  {
   "cell_type": "markdown",
   "id": "aa872fbe-8560-48f6-a745-f04917b7ceec",
   "metadata": {},
   "source": [
    "# Data retrive and denosing "
   ]
  },
  {
   "cell_type": "code",
   "execution_count": 2,
   "id": "ccfa4488-b476-4f38-ab5e-97a831f1a37a",
   "metadata": {},
   "outputs": [],
   "source": [
    "# importing required packages, setting data an results directory\n",
    "\n",
    "import os\n",
    "import qiime2\n",
    "from qiime2 import Visualization\n",
    "import pandas as pd\n",
    "\n",
    "data_dir = 'Data'\n",
    "results_dir = \"Results\"\n",
    "\n",
    "if not os.path.isdir(data_dir):\n",
    "    os.makedirs(data_dir)\n",
    "\n",
    "if not os.path.isdir(results_dir):\n",
    "    os.makedirs(results_dir)"
   ]
  },
  {
   "cell_type": "markdown",
   "id": "eb15329d-ecc8-4bc2-a748-2fc5f8c1a54c",
   "metadata": {},
   "source": [
    "## 1. Data retrieve\n",
    "\n",
    "Download of sequencing data and the corresponding metadata using q2-fondue."
   ]
  },
  {
   "cell_type": "code",
   "execution_count": 3,
   "id": "6e46f063-8613-4bb0-832e-446882573381",
   "metadata": {},
   "outputs": [],
   "source": [
    "!echo -e \"id\\nPRJEB19491\" > $data_dir/0-study-id.tsv"
   ]
  },
  {
   "cell_type": "code",
   "execution_count": 4,
   "id": "12bc41a5-5e20-45f2-97c8-2f386cb921bc",
   "metadata": {},
   "outputs": [],
   "source": [
    "fondue_env = '/home/jovyan/.conda/envs/fondue/bin'"
   ]
  },
  {
   "cell_type": "code",
   "execution_count": 5,
   "id": "1a23080c-7253-4e2c-af38-2d1bc856492d",
   "metadata": {},
   "outputs": [
    {
     "name": "stdout",
     "output_type": "stream",
     "text": [
      "Imported Data/0-study-id.tsv as NCBIAccessionIDsDirFmt to Data/0-study-id.qza\n"
     ]
    },
    {
     "name": "stderr",
     "output_type": "stream",
     "text": [
      "QIIME is caching your current deployment for improved performance. This may take a few moments and should only happen once per deployment.\n",
      "Plugin error from fondue:\n",
      "\n",
      "  Neither single- nor paired-end sequences could be downloaded. Please check your accession IDs.\n",
      "\n",
      "Debug info has been saved to /tmp/qiime2-q2cli-err-_643op38.log\n"
     ]
    },
    {
     "ename": "CalledProcessError",
     "evalue": "Command 'b'\\n# append the env location to PATH so that qiime\\n# can find all required executables\\nexport PATH=$fondue_env:$PATH\\n    \\n$fondue_env/qiime tools import \\\\\\n      --type NCBIAccessionIDs \\\\\\n      --input-path $data_dir/0-study-id.tsv \\\\\\n      --output-path $data_dir/0-study-id.qza\\n\\n$fondue_env/qiime fondue get-all \\\\\\n    --i-accession-ids $data_dir/0-study-id.qza \\\\\\n    --p-email kai.wang@usys.ethz.ch \\\\\\n    --output-dir $data_dir/0-fondue-output\\n'' returned non-zero exit status 1.",
     "output_type": "error",
     "traceback": [
      "\u001b[0;31m---------------------------------------------------------------------------\u001b[0m",
      "\u001b[0;31mCalledProcessError\u001b[0m                        Traceback (most recent call last)",
      "Input \u001b[0;32mIn [5]\u001b[0m, in \u001b[0;36m<cell line: 1>\u001b[0;34m()\u001b[0m\n\u001b[0;32m----> 1\u001b[0m \u001b[43mget_ipython\u001b[49m\u001b[43m(\u001b[49m\u001b[43m)\u001b[49m\u001b[38;5;241;43m.\u001b[39;49m\u001b[43mrun_cell_magic\u001b[49m\u001b[43m(\u001b[49m\u001b[38;5;124;43m'\u001b[39;49m\u001b[38;5;124;43mscript\u001b[39;49m\u001b[38;5;124;43m'\u001b[39;49m\u001b[43m,\u001b[49m\u001b[43m \u001b[49m\u001b[38;5;124;43m'\u001b[39;49m\u001b[38;5;124;43menv fondue_env=\u001b[39;49m\u001b[38;5;124;43m\"\u001b[39;49m\u001b[38;5;124;43m$fondue_env\u001b[39;49m\u001b[38;5;124;43m\"\u001b[39;49m\u001b[38;5;124;43m data_dir=\u001b[39;49m\u001b[38;5;124;43m\"\u001b[39;49m\u001b[38;5;124;43m$data_dir\u001b[39;49m\u001b[38;5;124;43m\"\u001b[39;49m\u001b[38;5;124;43m bash\u001b[39;49m\u001b[38;5;124;43m'\u001b[39;49m\u001b[43m,\u001b[49m\u001b[43m \u001b[49m\u001b[38;5;124;43m'\u001b[39;49m\u001b[38;5;130;43;01m\\n\u001b[39;49;00m\u001b[38;5;124;43m# append the env location to PATH so that qiime\u001b[39;49m\u001b[38;5;130;43;01m\\n\u001b[39;49;00m\u001b[38;5;124;43m# can find all required executables\u001b[39;49m\u001b[38;5;130;43;01m\\n\u001b[39;49;00m\u001b[38;5;124;43mexport PATH=$fondue_env:$PATH\u001b[39;49m\u001b[38;5;130;43;01m\\n\u001b[39;49;00m\u001b[38;5;124;43m    \u001b[39;49m\u001b[38;5;130;43;01m\\n\u001b[39;49;00m\u001b[38;5;124;43m$fondue_env/qiime tools import \u001b[39;49m\u001b[38;5;130;43;01m\\\\\u001b[39;49;00m\u001b[38;5;130;43;01m\\n\u001b[39;49;00m\u001b[38;5;124;43m      --type NCBIAccessionIDs \u001b[39;49m\u001b[38;5;130;43;01m\\\\\u001b[39;49;00m\u001b[38;5;130;43;01m\\n\u001b[39;49;00m\u001b[38;5;124;43m      --input-path $data_dir/0-study-id.tsv \u001b[39;49m\u001b[38;5;130;43;01m\\\\\u001b[39;49;00m\u001b[38;5;130;43;01m\\n\u001b[39;49;00m\u001b[38;5;124;43m      --output-path $data_dir/0-study-id.qza\u001b[39;49m\u001b[38;5;130;43;01m\\n\u001b[39;49;00m\u001b[38;5;130;43;01m\\n\u001b[39;49;00m\u001b[38;5;124;43m$fondue_env/qiime fondue get-all \u001b[39;49m\u001b[38;5;130;43;01m\\\\\u001b[39;49;00m\u001b[38;5;130;43;01m\\n\u001b[39;49;00m\u001b[38;5;124;43m    --i-accession-ids $data_dir/0-study-id.qza \u001b[39;49m\u001b[38;5;130;43;01m\\\\\u001b[39;49;00m\u001b[38;5;130;43;01m\\n\u001b[39;49;00m\u001b[38;5;124;43m    --p-email kai.wang@usys.ethz.ch \u001b[39;49m\u001b[38;5;130;43;01m\\\\\u001b[39;49;00m\u001b[38;5;130;43;01m\\n\u001b[39;49;00m\u001b[38;5;124;43m    --output-dir $data_dir/0-fondue-output\u001b[39;49m\u001b[38;5;130;43;01m\\n\u001b[39;49;00m\u001b[38;5;124;43m'\u001b[39;49m\u001b[43m)\u001b[49m\n",
      "File \u001b[0;32m/opt/conda/lib/python3.8/site-packages/IPython/core/interactiveshell.py:2358\u001b[0m, in \u001b[0;36mInteractiveShell.run_cell_magic\u001b[0;34m(self, magic_name, line, cell)\u001b[0m\n\u001b[1;32m   2356\u001b[0m \u001b[38;5;28;01mwith\u001b[39;00m \u001b[38;5;28mself\u001b[39m\u001b[38;5;241m.\u001b[39mbuiltin_trap:\n\u001b[1;32m   2357\u001b[0m     args \u001b[38;5;241m=\u001b[39m (magic_arg_s, cell)\n\u001b[0;32m-> 2358\u001b[0m     result \u001b[38;5;241m=\u001b[39m \u001b[43mfn\u001b[49m\u001b[43m(\u001b[49m\u001b[38;5;241;43m*\u001b[39;49m\u001b[43margs\u001b[49m\u001b[43m,\u001b[49m\u001b[43m \u001b[49m\u001b[38;5;241;43m*\u001b[39;49m\u001b[38;5;241;43m*\u001b[39;49m\u001b[43mkwargs\u001b[49m\u001b[43m)\u001b[49m\n\u001b[1;32m   2359\u001b[0m \u001b[38;5;28;01mreturn\u001b[39;00m result\n",
      "File \u001b[0;32m/opt/conda/lib/python3.8/site-packages/IPython/core/magics/script.py:305\u001b[0m, in \u001b[0;36mScriptMagics.shebang\u001b[0;34m(self, line, cell)\u001b[0m\n\u001b[1;32m    300\u001b[0m \u001b[38;5;28;01mif\u001b[39;00m args\u001b[38;5;241m.\u001b[39mraise_error \u001b[38;5;129;01mand\u001b[39;00m p\u001b[38;5;241m.\u001b[39mreturncode \u001b[38;5;241m!=\u001b[39m \u001b[38;5;241m0\u001b[39m:\n\u001b[1;32m    301\u001b[0m     \u001b[38;5;66;03m# If we get here and p.returncode is still None, we must have\u001b[39;00m\n\u001b[1;32m    302\u001b[0m     \u001b[38;5;66;03m# killed it but not yet seen its return code. We don't wait for it,\u001b[39;00m\n\u001b[1;32m    303\u001b[0m     \u001b[38;5;66;03m# in case it's stuck in uninterruptible sleep. -9 = SIGKILL\u001b[39;00m\n\u001b[1;32m    304\u001b[0m     rc \u001b[38;5;241m=\u001b[39m p\u001b[38;5;241m.\u001b[39mreturncode \u001b[38;5;129;01mor\u001b[39;00m \u001b[38;5;241m-\u001b[39m\u001b[38;5;241m9\u001b[39m\n\u001b[0;32m--> 305\u001b[0m     \u001b[38;5;28;01mraise\u001b[39;00m CalledProcessError(rc, cell)\n",
      "\u001b[0;31mCalledProcessError\u001b[0m: Command 'b'\\n# append the env location to PATH so that qiime\\n# can find all required executables\\nexport PATH=$fondue_env:$PATH\\n    \\n$fondue_env/qiime tools import \\\\\\n      --type NCBIAccessionIDs \\\\\\n      --input-path $data_dir/0-study-id.tsv \\\\\\n      --output-path $data_dir/0-study-id.qza\\n\\n$fondue_env/qiime fondue get-all \\\\\\n    --i-accession-ids $data_dir/0-study-id.qza \\\\\\n    --p-email kai.wang@usys.ethz.ch \\\\\\n    --output-dir $data_dir/0-fondue-output\\n'' returned non-zero exit status 1."
     ]
    }
   ],
   "source": [
    "%%script env fondue_env=\"$fondue_env\" data_dir=\"$data_dir\" bash\n",
    "\n",
    "# append the env location to PATH so that qiime\n",
    "# can find all required executables\n",
    "export PATH=$fondue_env:$PATH\n",
    "    \n",
    "$fondue_env/qiime tools import \\\n",
    "      --type NCBIAccessionIDs \\\n",
    "      --input-path $data_dir/0-study-id.tsv \\\n",
    "      --output-path $data_dir/0-study-id.qza\n",
    "\n",
    "$fondue_env/qiime fondue get-all \\\n",
    "    --i-accession-ids $data_dir/0-study-id.qza \\\n",
    "    --p-email kai.wang@usys.ethz.ch \\\n",
    "    --output-dir $data_dir/0-fondue-output"
   ]
  },
  {
   "cell_type": "markdown",
   "id": "f6f88452-47ef-48c0-aade-5253a9f83388",
   "metadata": {},
   "source": [
    "## 2. Data export"
   ]
  },
  {
   "cell_type": "code",
   "execution_count": null,
   "id": "470ac944-6797-4c89-81dd-7bcad3002e76",
   "metadata": {},
   "outputs": [],
   "source": [
    "!qiime tools export \\\n",
    "    --input-path $data_dir/0-fondue-output/paired_reads.qza \\\n",
    "    --output-path $data_dir/0-paired_reads"
   ]
  },
  {
   "cell_type": "code",
   "execution_count": null,
   "id": "2edac600-4845-4fa0-9ae4-cd4c80715c2c",
   "metadata": {},
   "outputs": [],
   "source": [
    "! gunzip Data/0-paired_reads/*.fastq.gz"
   ]
  },
  {
   "cell_type": "code",
   "execution_count": null,
   "id": "f9bdd2f4-23cb-46fd-af6b-c4652b90a96e",
   "metadata": {},
   "outputs": [],
   "source": []
  },
  {
   "cell_type": "code",
   "execution_count": 13,
   "id": "08a14562-49eb-425a-a9a3-0934e1050824",
   "metadata": {},
   "outputs": [
    {
     "name": "stdout",
     "output_type": "stream",
     "text": [
      "Exported Data/0-fondue-output/metadata.qza as SRAMetadataDirFmt to directory Data/0-exported-metadata\n"
     ]
    }
   ],
   "source": [
    "%%script env fondue_env=\"$fondue_env\" data_dir=\"$data_dir\" bash\n",
    "export PATH=$fondue_env:$PATH\n",
    "$fondue_env/qiime tools export \\\n",
    "    --input-path $data_dir/0-fondue-output/metadata.qza \\\n",
    "    --output-path $data_dir/0-exported-metadata"
   ]
  },
  {
   "cell_type": "code",
   "execution_count": 207,
   "id": "af4e64d5-5998-429a-bba4-b1f07aa0a12a",
   "metadata": {},
   "outputs": [],
   "source": [
    "metadata = pd.read_csv(f'{data_dir}/0-exported-metadata/sra-metadata.tsv', sep = '\\t')"
   ]
  },
  {
   "cell_type": "code",
   "execution_count": 208,
   "id": "dc13eb85-801d-4983-b11e-4a048441eb55",
   "metadata": {},
   "outputs": [
    {
     "data": {
      "text/plain": [
       "rumen fluid grass     6\n",
       "solid phase hay       6\n",
       "liquid phase grass    6\n",
       "liquid phase corn     6\n",
       "solid phase corn      6\n",
       "rumen fluid corn      6\n",
       "liquid phase hay      6\n",
       "rumen fluid hay       6\n",
       "solid phase grass     6\n",
       "Name: Description [sample], dtype: int64"
      ]
     },
     "execution_count": 208,
     "metadata": {},
     "output_type": "execute_result"
    }
   ],
   "source": [
    "metadata['Description [sample]'].value_counts()"
   ]
  },
  {
   "cell_type": "code",
   "execution_count": 209,
   "id": "334b0098-0f20-48d5-809a-964c5eca5ec6",
   "metadata": {},
   "outputs": [
    {
     "data": {
      "text/html": [
       "<div>\n",
       "<style scoped>\n",
       "    .dataframe tbody tr th:only-of-type {\n",
       "        vertical-align: middle;\n",
       "    }\n",
       "\n",
       "    .dataframe tbody tr th {\n",
       "        vertical-align: top;\n",
       "    }\n",
       "\n",
       "    .dataframe thead th {\n",
       "        text-align: right;\n",
       "    }\n",
       "</style>\n",
       "<table border=\"1\" class=\"dataframe\">\n",
       "  <thead>\n",
       "    <tr style=\"text-align: right;\">\n",
       "      <th></th>\n",
       "      <th>ID</th>\n",
       "      <th>Phase</th>\n",
       "      <th>Diets</th>\n",
       "    </tr>\n",
       "  </thead>\n",
       "  <tbody>\n",
       "    <tr>\n",
       "      <th>0</th>\n",
       "      <td>ERR1842970</td>\n",
       "      <td>rumen fluid</td>\n",
       "      <td>corn</td>\n",
       "    </tr>\n",
       "    <tr>\n",
       "      <th>1</th>\n",
       "      <td>ERR1842971</td>\n",
       "      <td>rumen fluid</td>\n",
       "      <td>corn</td>\n",
       "    </tr>\n",
       "    <tr>\n",
       "      <th>2</th>\n",
       "      <td>ERR1842972</td>\n",
       "      <td>rumen fluid</td>\n",
       "      <td>corn</td>\n",
       "    </tr>\n",
       "    <tr>\n",
       "      <th>3</th>\n",
       "      <td>ERR1842973</td>\n",
       "      <td>rumen fluid</td>\n",
       "      <td>grass</td>\n",
       "    </tr>\n",
       "    <tr>\n",
       "      <th>4</th>\n",
       "      <td>ERR1842974</td>\n",
       "      <td>rumen fluid</td>\n",
       "      <td>grass</td>\n",
       "    </tr>\n",
       "  </tbody>\n",
       "</table>\n",
       "</div>"
      ],
      "text/plain": [
       "           ID        Phase  Diets\n",
       "0  ERR1842970  rumen fluid   corn\n",
       "1  ERR1842971  rumen fluid   corn\n",
       "2  ERR1842972  rumen fluid   corn\n",
       "3  ERR1842973  rumen fluid  grass\n",
       "4  ERR1842974  rumen fluid  grass"
      ]
     },
     "execution_count": 209,
     "metadata": {},
     "output_type": "execute_result"
    }
   ],
   "source": [
    "metadata[['Phase', \"Diets\"]] = metadata['Description [sample]'].str.rsplit(\" \",expand=True, n = 1)\n",
    "metadata = metadata[['ID', 'Phase', 'Diets']]\n",
    "metadata.head()"
   ]
  },
  {
   "cell_type": "code",
   "execution_count": 26,
   "id": "097787b7-2ccd-4b3d-bbbc-bc9606bef4c2",
   "metadata": {},
   "outputs": [],
   "source": [
    "metadata_bac = metadata[0:27]\n",
    "metadata_arc = metadata[27:54]"
   ]
  },
  {
   "cell_type": "code",
   "execution_count": 30,
   "id": "3f69c87b-3ea7-4c1d-b5b0-0e6de4acef84",
   "metadata": {},
   "outputs": [],
   "source": [
    "metadata_bac.to_csv(f'{data_dir}/0-metadata_bac.tsv', sep = '\\t', index=False)\n",
    "metadata_arc.to_csv(f'{data_dir}/0-metadata_arc.tsv', sep = '\\t', index=False)"
   ]
  },
  {
   "cell_type": "markdown",
   "id": "0927e018-c541-4dc7-9ac4-d0af49b662e4",
   "metadata": {},
   "source": [
    "# 3 Data import"
   ]
  },
  {
   "cell_type": "code",
   "execution_count": 215,
   "id": "b346aa88-8e58-49da-8156-6c1a9afd5c41",
   "metadata": {},
   "outputs": [],
   "source": [
    "manifest = pd.read_csv(f'{data_dir}/0-paired_reads/MANIFEST')"
   ]
  },
  {
   "cell_type": "code",
   "execution_count": 216,
   "id": "70f4b6c6-27ba-4f17-9389-fed321ea0c1a",
   "metadata": {},
   "outputs": [],
   "source": [
    "manifest['filename'] = f'$PWD/Data/0-paired_reads/' + manifest['filename'].str.slice(0,31)"
   ]
  },
  {
   "cell_type": "code",
   "execution_count": 217,
   "id": "dcb76a67-70bc-421a-b28f-bfc0197e5dc4",
   "metadata": {},
   "outputs": [],
   "source": [
    "manifest = pd.pivot(manifest, columns= 'direction', values='filename', index = ['sample-id'])"
   ]
  },
  {
   "cell_type": "code",
   "execution_count": 218,
   "id": "346ab97c-e6a9-4056-9e3a-c08255f81e38",
   "metadata": {},
   "outputs": [],
   "source": [
    "manifest.reset_index(inplace=True)"
   ]
  },
  {
   "cell_type": "code",
   "execution_count": 221,
   "id": "1efe322c-5b0e-4131-b305-9f595154ab19",
   "metadata": {},
   "outputs": [],
   "source": [
    "manifest.rename(columns={\"forward\": \"forward-absolute-filepath\", \"reverse\": \"reverse-absolute-filepath\"}, inplace=True)"
   ]
  },
  {
   "cell_type": "code",
   "execution_count": 232,
   "id": "0ad46184-b3bd-4196-8655-9827781dcde1",
   "metadata": {},
   "outputs": [],
   "source": [
    "manifest_bac = manifest[0:27]\n",
    "manifest_arc = manifest[27:54]"
   ]
  },
  {
   "cell_type": "code",
   "execution_count": 239,
   "id": "7ae4150f-5e1e-4a05-adac-53d8168acc74",
   "metadata": {},
   "outputs": [],
   "source": [
    "manifest_bac.to_csv(f'{data_dir}/0-manifest_bac', sep = '\\t', index=False)\n",
    "manifest_arc.to_csv(f'{data_dir}/0-manifest_arc', sep = '\\t', index=False)"
   ]
  },
  {
   "cell_type": "code",
   "execution_count": 235,
   "id": "31dafabb-1f9f-4d77-9f00-22d80f6d5be0",
   "metadata": {},
   "outputs": [
    {
     "name": "stdout",
     "output_type": "stream",
     "text": [
      "sample-id\tforward-absolute-filepath\treverse-absolute-filepath\n",
      "ERR1842997\t$PWD/Data/0-paired_reads/ERR1842997_00_L001_R1_001.fastq\t$PWD/Data/0-paired_reads/ERR1842997_00_L001_R2_001.fastq\n",
      "ERR1842998\t$PWD/Data/0-paired_reads/ERR1842998_00_L001_R1_001.fastq\t$PWD/Data/0-paired_reads/ERR1842998_00_L001_R2_001.fastq\n"
     ]
    }
   ],
   "source": [
    "!head Data/0-manifest_arc -n 3"
   ]
  },
  {
   "cell_type": "code",
   "execution_count": 240,
   "id": "26a2ebcc-3087-48c3-a7ee-465a2a7970cf",
   "metadata": {},
   "outputs": [
    {
     "name": "stdout",
     "output_type": "stream",
     "text": [
      "\u001b[32mImported Data/0-manifest_arc as PairedEndFastqManifestPhred33V2 to Data/1-seqs_arc.qza\u001b[0m\n",
      "\u001b[0m"
     ]
    }
   ],
   "source": [
    "! qiime tools import \\\n",
    "    --type \"SampleData[PairedEndSequencesWithQuality]\" \\\n",
    "    --input-format PairedEndFastqManifestPhred33V2 \\\n",
    "    --input-path Data/0-manifest_arc \\\n",
    "    --output-path Data/1-seqs_arc.qza"
   ]
  },
  {
   "cell_type": "code",
   "execution_count": 241,
   "id": "7fc955eb-3610-425b-b11c-5c17a181c1d4",
   "metadata": {},
   "outputs": [
    {
     "name": "stdout",
     "output_type": "stream",
     "text": [
      "\u001b[32mImported Data/0-manifest_bac as PairedEndFastqManifestPhred33V2 to Data/1-seqs_bac.qza\u001b[0m\n",
      "\u001b[0m"
     ]
    }
   ],
   "source": [
    "! qiime tools import \\\n",
    "    --type \"SampleData[PairedEndSequencesWithQuality]\" \\\n",
    "    --input-format PairedEndFastqManifestPhred33V2 \\\n",
    "    --input-path Data/0-manifest_bac \\\n",
    "    --output-path Data/1-seqs_bac.qza"
   ]
  },
  {
   "cell_type": "markdown",
   "id": "af65fdba-c821-45dc-a6ea-44e054a39541",
   "metadata": {},
   "source": [
    "# 4.Denosing-Bacteria"
   ]
  },
  {
   "cell_type": "code",
   "execution_count": 247,
   "id": "7f4e31ef-e6ea-4595-bd2f-6e8a57c17241",
   "metadata": {},
   "outputs": [
    {
     "data": {
      "text/html": [
       "<div><img onload=\"(function(div, url){\n",
       "if (typeof require !== 'undefined') {\n",
       "    var baseURL = require.toUrl('').split('/').slice(0, -2).join('/');\n",
       "} else {\n",
       "    var baseURL = JSON.parse(\n",
       "        document.getElementById('jupyter-config-data').innerHTML\n",
       "    ).baseUrl.slice(0, -1);\n",
       "}\n",
       "url = baseURL + url;\n",
       "fetch(url).then(function(res) {\n",
       "    if (res.status === 404) {\n",
       "        div.innerHTML = 'Install QIIME 2 Jupyter extension with:<br />' +\n",
       "                        '<code>jupyter serverextension enable --py qiime2' +\n",
       "                        ' --sys-prefix</code><br />then restart your server.' +\n",
       "                        '<br /><br />(Interactive output not available on ' +\n",
       "                        'static notebook viewer services like nbviewer.)';\n",
       "    } else if (res.status === 409) {\n",
       "        div.innerHTML = 'Visualization no longer in scope. Re-run this cell' +\n",
       "                        ' to see the visualization.';\n",
       "    } else if (res.ok) {\n",
       "        url = res.url;\n",
       "        div.innerHTML = '<iframe src=\\'' + url + '\\' style=\\'' +\n",
       "                        'width: 100%; height: 700px; border: 0;\\'>' +\n",
       "                        '</iframe><hr />Open in a: <a href=\\'' + url + '\\'' +\n",
       "                        ' target=\\'_blank\\'>new window</a>'\n",
       "    } else {\n",
       "        div.innerHTML = 'Something has gone wrong. Check notebook server for' +\n",
       "                        ' errors.';\n",
       "    }\n",
       "});\n",
       "})(this.parentElement, '/qiime2/redirect?location=/tmp/qiime2-archive-pwgdds2i')\" src=\"data:image/gif;base64,R0lGODlhAQABAIAAAP///wAAACH5BAEAAAAALAAAAAABAAEAAAICRAEAOw==\" /></div>"
      ],
      "text/plain": [
       "<visualization: Visualization uuid: f62cff31-9a9f-4050-9fc3-9163e6bc3463>"
      ]
     },
     "execution_count": 247,
     "metadata": {},
     "output_type": "execute_result"
    }
   ],
   "source": [
    "!qiime demux summarize \\\n",
    "      --i-data Data/1-seqs_bac.qza \\\n",
    "      --o-visualization Results/1-seqs_bac.qzv\n",
    "\n",
    "Visualization.load('Results/1-seqs_bac.qzv')"
   ]
  },
  {
   "cell_type": "code",
   "execution_count": 253,
   "id": "be78d9f9-a6f8-419e-9ccc-058d106d21a6",
   "metadata": {},
   "outputs": [
    {
     "name": "stdout",
     "output_type": "stream",
     "text": [
      "\u001b[32mSaved FeatureTable[Frequency] to: Data/1-feature-table_bac.qza\u001b[0m\n",
      "\u001b[32mSaved FeatureData[Sequence] to: Data/1-rep-seqs_bac.qza\u001b[0m\n",
      "\u001b[32mSaved SampleData[DADA2Stats] to: Data/1-dada2-stats_bac.qza\u001b[0m\n",
      "\u001b[0m"
     ]
    }
   ],
   "source": [
    "!qiime dada2 denoise-paired \\\n",
    "    --i-demultiplexed-seqs Data/1-seqs_bac.qza \\\n",
    "    --p-trim-left-f 28 \\\n",
    "    --p-trim-left-r 19 \\\n",
    "    --p-trunc-len-f 207 \\\n",
    "    --p-trunc-len-r 199 \\\n",
    "    --p-n-threads 3 \\\n",
    "    --o-table Data/1-feature-table_bac.qza \\\n",
    "    --o-representative-sequences Data/1-rep-seqs_bac.qza \\\n",
    "    --o-denoising-stats Data/1-dada2-stats_bac.qza"
   ]
  },
  {
   "cell_type": "code",
   "execution_count": null,
   "id": "4a61e7ca-8696-4ce3-bffe-015f0146d50f",
   "metadata": {},
   "outputs": [],
   "source": []
  },
  {
   "cell_type": "code",
   "execution_count": 1,
   "id": "faf8e3bd-b867-4d0b-b562-185df618f407",
   "metadata": {},
   "outputs": [
    {
     "name": "stdout",
     "output_type": "stream",
     "text": [
      "\u001b[32mSaved Visualization to: Results/1-feature-table_bac.qzv\u001b[0m\n",
      "\u001b[0m"
     ]
    },
    {
     "ename": "NameError",
     "evalue": "name 'Visualization' is not defined",
     "output_type": "error",
     "traceback": [
      "\u001b[0;31m---------------------------------------------------------------------------\u001b[0m",
      "\u001b[0;31mNameError\u001b[0m                                 Traceback (most recent call last)",
      "Input \u001b[0;32mIn [1]\u001b[0m, in \u001b[0;36m<cell line: 2>\u001b[0;34m()\u001b[0m\n\u001b[1;32m      1\u001b[0m get_ipython()\u001b[38;5;241m.\u001b[39msystem(\u001b[38;5;124m'\u001b[39m\u001b[38;5;124mqiime feature-table summarize      --i-table Data/1-feature-table_bac.qza      --m-sample-metadata-file Data/0-metadata_bac.tsv      --o-visualization Results/1-feature-table_bac.qzv\u001b[39m\u001b[38;5;124m'\u001b[39m)\n\u001b[0;32m----> 2\u001b[0m \u001b[43mVisualization\u001b[49m\u001b[38;5;241m.\u001b[39mload(\u001b[38;5;124m'\u001b[39m\u001b[38;5;124mResults/1-feature-table_bac.qzv\u001b[39m\u001b[38;5;124m'\u001b[39m)\n",
      "\u001b[0;31mNameError\u001b[0m: name 'Visualization' is not defined"
     ]
    }
   ],
   "source": [
    "!qiime feature-table summarize \\\n",
    "    --i-table Data/1-feature-table_bac.qza \\\n",
    "    --m-sample-metadata-file Data/0-metadata_bac.tsv \\\n",
    "    --o-visualization Results/1-feature-table_bac.qzv"
   ]
  },
  {
   "cell_type": "code",
   "execution_count": 3,
   "id": "2917ca2a-9b8c-4e0e-88df-c997ed568f6e",
   "metadata": {},
   "outputs": [
    {
     "data": {
      "text/html": [
       "<div><img onload=\"(function(div, url){\n",
       "if (typeof require !== 'undefined') {\n",
       "    var baseURL = require.toUrl('').split('/').slice(0, -2).join('/');\n",
       "} else {\n",
       "    var baseURL = JSON.parse(\n",
       "        document.getElementById('jupyter-config-data').innerHTML\n",
       "    ).baseUrl.slice(0, -1);\n",
       "}\n",
       "url = baseURL + url;\n",
       "fetch(url).then(function(res) {\n",
       "    if (res.status === 404) {\n",
       "        div.innerHTML = 'Install QIIME 2 Jupyter extension with:<br />' +\n",
       "                        '<code>jupyter serverextension enable --py qiime2' +\n",
       "                        ' --sys-prefix</code><br />then restart your server.' +\n",
       "                        '<br /><br />(Interactive output not available on ' +\n",
       "                        'static notebook viewer services like nbviewer.)';\n",
       "    } else if (res.status === 409) {\n",
       "        div.innerHTML = 'Visualization no longer in scope. Re-run this cell' +\n",
       "                        ' to see the visualization.';\n",
       "    } else if (res.ok) {\n",
       "        url = res.url;\n",
       "        div.innerHTML = '<iframe src=\\'' + url + '\\' style=\\'' +\n",
       "                        'width: 100%; height: 700px; border: 0;\\'>' +\n",
       "                        '</iframe><hr />Open in a: <a href=\\'' + url + '\\'' +\n",
       "                        ' target=\\'_blank\\'>new window</a>'\n",
       "    } else {\n",
       "        div.innerHTML = 'Something has gone wrong. Check notebook server for' +\n",
       "                        ' errors.';\n",
       "    }\n",
       "});\n",
       "})(this.parentElement, '/qiime2/redirect?location=/tmp/qiime2-archive-_jc45iul')\" src=\"data:image/gif;base64,R0lGODlhAQABAIAAAP///wAAACH5BAEAAAAALAAAAAABAAEAAAICRAEAOw==\" /></div>"
      ],
      "text/plain": [
       "<visualization: Visualization uuid: 2335af30-1ee9-428d-920e-6a50db15141b>"
      ]
     },
     "execution_count": 3,
     "metadata": {},
     "output_type": "execute_result"
    }
   ],
   "source": [
    "Visualization.load('Results/1-feature-table_bac.qzv')"
   ]
  },
  {
   "cell_type": "code",
   "execution_count": 4,
   "id": "08c2037e-7e12-48c7-b441-f924cb32f666",
   "metadata": {},
   "outputs": [
    {
     "name": "stdout",
     "output_type": "stream",
     "text": [
      "\u001b[32mSaved Visualization to: Results/1-dada2-stats_bac.qzv\u001b[0m\n",
      "\u001b[0m"
     ]
    },
    {
     "data": {
      "text/html": [
       "<div><img onload=\"(function(div, url){\n",
       "if (typeof require !== 'undefined') {\n",
       "    var baseURL = require.toUrl('').split('/').slice(0, -2).join('/');\n",
       "} else {\n",
       "    var baseURL = JSON.parse(\n",
       "        document.getElementById('jupyter-config-data').innerHTML\n",
       "    ).baseUrl.slice(0, -1);\n",
       "}\n",
       "url = baseURL + url;\n",
       "fetch(url).then(function(res) {\n",
       "    if (res.status === 404) {\n",
       "        div.innerHTML = 'Install QIIME 2 Jupyter extension with:<br />' +\n",
       "                        '<code>jupyter serverextension enable --py qiime2' +\n",
       "                        ' --sys-prefix</code><br />then restart your server.' +\n",
       "                        '<br /><br />(Interactive output not available on ' +\n",
       "                        'static notebook viewer services like nbviewer.)';\n",
       "    } else if (res.status === 409) {\n",
       "        div.innerHTML = 'Visualization no longer in scope. Re-run this cell' +\n",
       "                        ' to see the visualization.';\n",
       "    } else if (res.ok) {\n",
       "        url = res.url;\n",
       "        div.innerHTML = '<iframe src=\\'' + url + '\\' style=\\'' +\n",
       "                        'width: 100%; height: 700px; border: 0;\\'>' +\n",
       "                        '</iframe><hr />Open in a: <a href=\\'' + url + '\\'' +\n",
       "                        ' target=\\'_blank\\'>new window</a>'\n",
       "    } else {\n",
       "        div.innerHTML = 'Something has gone wrong. Check notebook server for' +\n",
       "                        ' errors.';\n",
       "    }\n",
       "});\n",
       "})(this.parentElement, '/qiime2/redirect?location=/tmp/qiime2-archive-90fj8u5a')\" src=\"data:image/gif;base64,R0lGODlhAQABAIAAAP///wAAACH5BAEAAAAALAAAAAABAAEAAAICRAEAOw==\" /></div>"
      ],
      "text/plain": [
       "<visualization: Visualization uuid: aacb6d25-2dc1-4207-b3a8-27f03261a7f6>"
      ]
     },
     "execution_count": 4,
     "metadata": {},
     "output_type": "execute_result"
    }
   ],
   "source": [
    "!qiime metadata tabulate \\\n",
    "    --m-input-file Data/1-dada2-stats_bac.qza \\\n",
    "    --o-visualization Results/1-dada2-stats_bac.qzv\n",
    "\n",
    "Visualization.load('Results/1-dada2-stats_bac.qzv')"
   ]
  },
  {
   "cell_type": "markdown",
   "id": "9d22a47e-b3e9-4e5f-89d5-ab6aa8aca69d",
   "metadata": {},
   "source": [
    "## 5. Denoising-Archaea"
   ]
  },
  {
   "cell_type": "code",
   "execution_count": 252,
   "id": "f4a08c9b-c956-4e67-ae34-5b458f59c71c",
   "metadata": {},
   "outputs": [
    {
     "name": "stdout",
     "output_type": "stream",
     "text": [
      "\u001b[32mSaved Visualization to: Results/1-seqs_arc.qzv\u001b[0m\n",
      "\u001b[0m"
     ]
    },
    {
     "data": {
      "text/html": [
       "<div><img onload=\"(function(div, url){\n",
       "if (typeof require !== 'undefined') {\n",
       "    var baseURL = require.toUrl('').split('/').slice(0, -2).join('/');\n",
       "} else {\n",
       "    var baseURL = JSON.parse(\n",
       "        document.getElementById('jupyter-config-data').innerHTML\n",
       "    ).baseUrl.slice(0, -1);\n",
       "}\n",
       "url = baseURL + url;\n",
       "fetch(url).then(function(res) {\n",
       "    if (res.status === 404) {\n",
       "        div.innerHTML = 'Install QIIME 2 Jupyter extension with:<br />' +\n",
       "                        '<code>jupyter serverextension enable --py qiime2' +\n",
       "                        ' --sys-prefix</code><br />then restart your server.' +\n",
       "                        '<br /><br />(Interactive output not available on ' +\n",
       "                        'static notebook viewer services like nbviewer.)';\n",
       "    } else if (res.status === 409) {\n",
       "        div.innerHTML = 'Visualization no longer in scope. Re-run this cell' +\n",
       "                        ' to see the visualization.';\n",
       "    } else if (res.ok) {\n",
       "        url = res.url;\n",
       "        div.innerHTML = '<iframe src=\\'' + url + '\\' style=\\'' +\n",
       "                        'width: 100%; height: 700px; border: 0;\\'>' +\n",
       "                        '</iframe><hr />Open in a: <a href=\\'' + url + '\\'' +\n",
       "                        ' target=\\'_blank\\'>new window</a>'\n",
       "    } else {\n",
       "        div.innerHTML = 'Something has gone wrong. Check notebook server for' +\n",
       "                        ' errors.';\n",
       "    }\n",
       "});\n",
       "})(this.parentElement, '/qiime2/redirect?location=/tmp/qiime2-archive-q96li1xp')\" src=\"data:image/gif;base64,R0lGODlhAQABAIAAAP///wAAACH5BAEAAAAALAAAAAABAAEAAAICRAEAOw==\" /></div>"
      ],
      "text/plain": [
       "<visualization: Visualization uuid: 68d94bc9-7eb9-467b-af20-b2e6f149cd7b>"
      ]
     },
     "execution_count": 252,
     "metadata": {},
     "output_type": "execute_result"
    }
   ],
   "source": [
    "!qiime demux summarize \\\n",
    "      --i-data Data/1-seqs_arc.qza \\\n",
    "      --o-visualization Results/1-seqs_arc.qzv\n",
    "\n",
    "Visualization.load('Results/1-seqs_arc.qzv')"
   ]
  },
  {
   "cell_type": "code",
   "execution_count": null,
   "id": "8343d8b8-7e2b-42f6-a894-7d42fb8c90b0",
   "metadata": {},
   "outputs": [],
   "source": []
  },
  {
   "cell_type": "code",
   "execution_count": 9,
   "id": "933534a1-9787-4a1d-8e05-8c2528f32a11",
   "metadata": {},
   "outputs": [
    {
     "name": "stdout",
     "output_type": "stream",
     "text": [
      "\u001b[32mSaved FeatureTable[Frequency] to: Data/1-feature-table_arc.qza\u001b[0m\n",
      "\u001b[32mSaved FeatureData[Sequence] to: Data/1-rep-seqs_arc.qza\u001b[0m\n",
      "\u001b[32mSaved SampleData[DADA2Stats] to: Data/1-dada2-stats_arc.qza\u001b[0m\n",
      "\u001b[0m"
     ]
    }
   ],
   "source": [
    "!qiime dada2 denoise-paired \\\n",
    "    --i-demultiplexed-seqs Data/1-seqs_arc.qza \\\n",
    "    --p-trim-left-f 25 \\\n",
    "    --p-trim-left-r 20 \\\n",
    "    --p-trunc-len-f 247 \\\n",
    "    --p-trunc-len-r 200 \\\n",
    "    --p-n-threads 3 \\\n",
    "    --o-table Data/1-feature-table_arc.qza \\\n",
    "    --o-representative-sequences Data/1-rep-seqs_arc.qza \\\n",
    "    --o-denoising-stats Data/1-dada2-stats_arc.qza"
   ]
  },
  {
   "cell_type": "code",
   "execution_count": 2,
   "id": "6c8359d4-c625-48a7-9c46-2e7cb4fb019e",
   "metadata": {},
   "outputs": [
    {
     "name": "stdout",
     "output_type": "stream",
     "text": [
      "\u001b[32mSaved Visualization to: Results/1-feature-table_arc.qzv\u001b[0m\n",
      "\u001b[0m"
     ]
    },
    {
     "data": {
      "text/html": [
       "<div><img onload=\"(function(div, url){\n",
       "if (typeof require !== 'undefined') {\n",
       "    var baseURL = require.toUrl('').split('/').slice(0, -2).join('/');\n",
       "} else {\n",
       "    var baseURL = JSON.parse(\n",
       "        document.getElementById('jupyter-config-data').innerHTML\n",
       "    ).baseUrl.slice(0, -1);\n",
       "}\n",
       "url = baseURL + url;\n",
       "fetch(url).then(function(res) {\n",
       "    if (res.status === 404) {\n",
       "        div.innerHTML = 'Install QIIME 2 Jupyter extension with:<br />' +\n",
       "                        '<code>jupyter serverextension enable --py qiime2' +\n",
       "                        ' --sys-prefix</code><br />then restart your server.' +\n",
       "                        '<br /><br />(Interactive output not available on ' +\n",
       "                        'static notebook viewer services like nbviewer.)';\n",
       "    } else if (res.status === 409) {\n",
       "        div.innerHTML = 'Visualization no longer in scope. Re-run this cell' +\n",
       "                        ' to see the visualization.';\n",
       "    } else if (res.ok) {\n",
       "        url = res.url;\n",
       "        div.innerHTML = '<iframe src=\\'' + url + '\\' style=\\'' +\n",
       "                        'width: 100%; height: 700px; border: 0;\\'>' +\n",
       "                        '</iframe><hr />Open in a: <a href=\\'' + url + '\\'' +\n",
       "                        ' target=\\'_blank\\'>new window</a>'\n",
       "    } else {\n",
       "        div.innerHTML = 'Something has gone wrong. Check notebook server for' +\n",
       "                        ' errors.';\n",
       "    }\n",
       "});\n",
       "})(this.parentElement, '/qiime2/redirect?location=/tmp/qiime2-archive-gu8eq4_r')\" src=\"data:image/gif;base64,R0lGODlhAQABAIAAAP///wAAACH5BAEAAAAALAAAAAABAAEAAAICRAEAOw==\" /></div>"
      ],
      "text/plain": [
       "<visualization: Visualization uuid: 835ce464-10d5-49c8-bd72-089158fd5854>"
      ]
     },
     "execution_count": 2,
     "metadata": {},
     "output_type": "execute_result"
    }
   ],
   "source": [
    "!qiime feature-table summarize \\\n",
    "    --i-table Data/1-feature-table_arc.qza \\\n",
    "    --m-sample-metadata-file Data/0-metadata_arc.tsv \\\n",
    "    --o-visualization Results/1-feature-table_arc.qzv\n",
    "Visualization.load('Results/1-feature-table_arc.qzv')"
   ]
  },
  {
   "cell_type": "code",
   "execution_count": 1,
   "id": "ae0d6d7a-578a-4e7c-ab75-7c0da8b8db96",
   "metadata": {},
   "outputs": [
    {
     "name": "stdout",
     "output_type": "stream",
     "text": [
      "\u001b[32mSaved Visualization to: Results/1-dada2-stats_arc.qzv\u001b[0m\n",
      "\u001b[0m"
     ]
    },
    {
     "ename": "NameError",
     "evalue": "name 'Visualization' is not defined",
     "output_type": "error",
     "traceback": [
      "\u001b[0;31m---------------------------------------------------------------------------\u001b[0m",
      "\u001b[0;31mNameError\u001b[0m                                 Traceback (most recent call last)",
      "Input \u001b[0;32mIn [1]\u001b[0m, in \u001b[0;36m<cell line: 3>\u001b[0;34m()\u001b[0m\n\u001b[1;32m      1\u001b[0m get_ipython()\u001b[38;5;241m.\u001b[39msystem(\u001b[38;5;124m'\u001b[39m\u001b[38;5;124mqiime metadata tabulate      --m-input-file Data/1-dada2-stats_arc.qza      --o-visualization Results/1-dada2-stats_arc.qzv\u001b[39m\u001b[38;5;124m'\u001b[39m)\n\u001b[0;32m----> 3\u001b[0m \u001b[43mVisualization\u001b[49m\u001b[38;5;241m.\u001b[39mload(\u001b[38;5;124m'\u001b[39m\u001b[38;5;124mResults/1-dada2-stats_arc.qzv\u001b[39m\u001b[38;5;124m'\u001b[39m)\n",
      "\u001b[0;31mNameError\u001b[0m: name 'Visualization' is not defined"
     ]
    }
   ],
   "source": [
    "!qiime metadata tabulate \\\n",
    "    --m-input-file Data/1-dada2-stats_arc.qza \\\n",
    "    --o-visualization Results/1-dada2-stats_arc.qzv\n",
    "\n",
    "Visualization.load('Results/1-dada2-stats_arc.qzv')"
   ]
  },
  {
   "cell_type": "code",
   "execution_count": null,
   "id": "5ea3b3cb-5b48-48d2-8dfd-97ee064d5744",
   "metadata": {},
   "outputs": [],
   "source": []
  }
 ],
 "metadata": {
  "kernelspec": {
   "display_name": "Python 3 (ipykernel)",
   "language": "python",
   "name": "python3"
  },
  "language_info": {
   "codemirror_mode": {
    "name": "ipython",
    "version": 3
   },
   "file_extension": ".py",
   "mimetype": "text/x-python",
   "name": "python",
   "nbconvert_exporter": "python",
   "pygments_lexer": "ipython3",
   "version": "3.8.13"
  }
 },
 "nbformat": 4,
 "nbformat_minor": 5
}
