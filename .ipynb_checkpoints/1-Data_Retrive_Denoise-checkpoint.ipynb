{
 "cells": [
  {
   "cell_type": "markdown",
   "id": "aa872fbe-8560-48f6-a745-f04917b7ceec",
   "metadata": {},
   "source": [
    "# Data retrive and denosing "
   ]
  },
  {
   "cell_type": "code",
   "execution_count": 2,
   "id": "ccfa4488-b476-4f38-ab5e-97a831f1a37a",
   "metadata": {},
   "outputs": [],
   "source": [
    "# importing required packages, setting data and results directories\n",
    "\n",
    "import os\n",
    "import qiime2\n",
    "from qiime2 import Visualization\n",
    "import pandas as pd\n",
    "\n",
    "data_dir = 'Data'\n",
    "results_dir = \"Results\"\n",
    "\n",
    "if not os.path.isdir(data_dir):\n",
    "    os.makedirs(data_dir)\n",
    "\n",
    "if not os.path.isdir(results_dir):\n",
    "    os.makedirs(results_dir)"
   ]
  },
  {
   "cell_type": "markdown",
   "id": "eb15329d-ecc8-4bc2-a748-2fc5f8c1a54c",
   "metadata": {},
   "source": [
    "## 1. Data retrieve\n",
    "\n",
    "We use QIIME2 fondue plugin to download sequence data and the corresponding metadata with study ID PRJEB19491. "
   ]
  },
  {
   "cell_type": "code",
   "execution_count": null,
   "id": "6e46f063-8613-4bb0-832e-446882573381",
   "metadata": {},
   "outputs": [],
   "source": [
    "!echo -e \"id\\nPRJEB19491\" > $data_dir/0-study-id.tsv"
   ]
  },
  {
   "cell_type": "code",
   "execution_count": null,
   "id": "12bc41a5-5e20-45f2-97c8-2f386cb921bc",
   "metadata": {},
   "outputs": [],
   "source": [
    "fondue_env = '/home/jovyan/.conda/envs/fondue/bin'"
   ]
  },
  {
   "cell_type": "code",
   "execution_count": null,
   "id": "7c1cc79d-814e-42c8-bb89-32d9fa006113",
   "metadata": {
    "tags": []
   },
   "outputs": [],
   "source": [
    "# append the env location of fondue to PATH so that qiime can find all required executables\n",
    "%%script env fondue_env=\"$fondue_env\" data_dir=\"$data_dir\" bash\n",
    "\n",
    "export PATH=$fondue_env:$PATH\n",
    "    \n",
    "$fondue_env/qiime tools import \\\n",
    "      --type NCBIAccessionIDs \\\n",
    "      --input-path $data_dir/0-study-id.tsv \\\n",
    "      --output-path $data_dir/0-study-id.qza\n",
    "\n",
    "$fondue_env/qiime fondue get-all \\\n",
    "    --i-accession-ids $data_dir/0-study-id.qza \\\n",
    "    --p-email zakirul.islam@usys.ethz.ch \\\n",
    "    --output-dir $data_dir/0-fondue-output"
   ]
  },
  {
   "cell_type": "markdown",
   "id": "f6f88452-47ef-48c0-aade-5253a9f83388",
   "metadata": {},
   "source": [
    "## 2. Data export\n",
    "\n",
    "**16s rRNA gene were amplified using two sets of primer pairs, including `27F-308R` and `Arch349-Arch806`. We export sequence data and metadata from qza files, and make manifests of two sets of data.**"
   ]
  },
  {
   "cell_type": "code",
   "execution_count": null,
   "id": "470ac944-6797-4c89-81dd-7bcad3002e76",
   "metadata": {
    "tags": []
   },
   "outputs": [],
   "source": [
    "!qiime tools export \\\n",
    "    --input-path $data_dir/0-fondue-output/paired_reads.qza \\\n",
    "    --output-path $data_dir/0-paired_reads"
   ]
  },
  {
   "cell_type": "code",
   "execution_count": null,
   "id": "2edac600-4845-4fa0-9ae4-cd4c80715c2c",
   "metadata": {},
   "outputs": [],
   "source": [
    "! gunzip Data/0-paired_reads/*.fastq.gz"
   ]
  },
  {
   "cell_type": "code",
   "execution_count": null,
   "id": "08a14562-49eb-425a-a9a3-0934e1050824",
   "metadata": {},
   "outputs": [],
   "source": [
    "%%script env fondue_env=\"$fondue_env\" data_dir=\"$data_dir\" bash\n",
    "export PATH=$fondue_env:$PATH\n",
    "$fondue_env/qiime tools export \\\n",
    "    --input-path $data_dir/0-fondue-output/metadata.qza \\\n",
    "    --output-path $data_dir/0-exported-metadata"
   ]
  },
  {
   "cell_type": "code",
   "execution_count": null,
   "id": "af4e64d5-5998-429a-bba4-b1f07aa0a12a",
   "metadata": {},
   "outputs": [],
   "source": [
    "metadata = pd.read_csv(f'{data_dir}/0-exported-metadata/sra-metadata.tsv', sep = '\\t')"
   ]
  },
  {
   "cell_type": "code",
   "execution_count": null,
   "id": "dc13eb85-801d-4983-b11e-4a048441eb55",
   "metadata": {},
   "outputs": [],
   "source": [
    "metadata['Description [sample]'].value_counts()"
   ]
  },
  {
   "cell_type": "code",
   "execution_count": null,
   "id": "334b0098-0f20-48d5-809a-964c5eca5ec6",
   "metadata": {},
   "outputs": [],
   "source": [
    "metadata[['Phase', \"Diets\"]] = metadata['Description [sample]'].str.rsplit(\" \",expand=True, n = 1)\n",
    "metadata = metadata[['ID', 'Phase', 'Diets']]\n",
    "metadata.head()"
   ]
  },
  {
   "cell_type": "markdown",
   "id": "4385b5be-0957-421b-8327-5086f361fb66",
   "metadata": {},
   "source": [
    "**The first 27 samples listed in the metadata are amplified with 27F-308R and others are amplified with Arch349-Arch806R. We have distinguish this by inspect the primers of sampled sequences from each sample.**"
   ]
  },
  {
   "cell_type": "code",
   "execution_count": null,
   "id": "097787b7-2ccd-4b3d-bbbc-bc9606bef4c2",
   "metadata": {},
   "outputs": [],
   "source": [
    "metadata_bac = metadata[0:27]\n",
    "metadata_arc = metadata[27:54]"
   ]
  },
  {
   "cell_type": "code",
   "execution_count": null,
   "id": "3f69c87b-3ea7-4c1d-b5b0-0e6de4acef84",
   "metadata": {},
   "outputs": [],
   "source": [
    "metadata_bac.to_csv(f'{data_dir}/0-metadata_bac.tsv', sep = '\\t', index=False)\n",
    "metadata_arc.to_csv(f'{data_dir}/0-metadata_arc.tsv', sep = '\\t', index=False)"
   ]
  },
  {
   "cell_type": "markdown",
   "id": "0927e018-c541-4dc7-9ac4-d0af49b662e4",
   "metadata": {},
   "source": [
    "# 3 Data import\n",
    "\n",
    "Paired-end sequences in fastq files are imported into qiime2 artfacts again separately for downstream analysis. Manifest files are generated based on the locations of each fastq files. "
   ]
  },
  {
   "cell_type": "code",
   "execution_count": null,
   "id": "b346aa88-8e58-49da-8156-6c1a9afd5c41",
   "metadata": {},
   "outputs": [],
   "source": [
    "manifest = pd.read_csv(f'{data_dir}/0-paired_reads/MANIFEST')"
   ]
  },
  {
   "cell_type": "code",
   "execution_count": null,
   "id": "70f4b6c6-27ba-4f17-9389-fed321ea0c1a",
   "metadata": {},
   "outputs": [],
   "source": [
    "manifest['filename'] = f'$PWD/Data/0-paired_reads/' + manifest['filename'].str.slice(0,31)"
   ]
  },
  {
   "cell_type": "code",
   "execution_count": null,
   "id": "dcb76a67-70bc-421a-b28f-bfc0197e5dc4",
   "metadata": {},
   "outputs": [],
   "source": [
    "manifest = pd.pivot(manifest, columns= 'direction', values='filename', index = ['sample-id'])"
   ]
  },
  {
   "cell_type": "code",
   "execution_count": null,
   "id": "346ab97c-e6a9-4056-9e3a-c08255f81e38",
   "metadata": {},
   "outputs": [],
   "source": [
    "manifest.reset_index(inplace=True)"
   ]
  },
  {
   "cell_type": "code",
   "execution_count": null,
   "id": "1efe322c-5b0e-4131-b305-9f595154ab19",
   "metadata": {},
   "outputs": [],
   "source": [
    "manifest.rename(columns={\"forward\": \"forward-absolute-filepath\", \"reverse\": \"reverse-absolute-filepath\"}, inplace=True)"
   ]
  },
  {
   "cell_type": "code",
   "execution_count": null,
   "id": "0ad46184-b3bd-4196-8655-9827781dcde1",
   "metadata": {},
   "outputs": [],
   "source": [
    "manifest_bac = manifest[0:27]\n",
    "manifest_arc = manifest[27:54]"
   ]
  },
  {
   "cell_type": "code",
   "execution_count": null,
   "id": "7ae4150f-5e1e-4a05-adac-53d8168acc74",
   "metadata": {},
   "outputs": [],
   "source": [
    "manifest_bac.to_csv(f'{data_dir}/0-manifest_bac', sep = '\\t', index=False)\n",
    "manifest_arc.to_csv(f'{data_dir}/0-manifest_arc', sep = '\\t', index=False)"
   ]
  },
  {
   "cell_type": "code",
   "execution_count": null,
   "id": "31dafabb-1f9f-4d77-9f00-22d80f6d5be0",
   "metadata": {},
   "outputs": [],
   "source": [
    "!head Data/0-manifest_arc -n 3"
   ]
  },
  {
   "cell_type": "code",
   "execution_count": null,
   "id": "26a2ebcc-3087-48c3-a7ee-465a2a7970cf",
   "metadata": {},
   "outputs": [],
   "source": [
    "! qiime tools import \\\n",
    "    --type \"SampleData[PairedEndSequencesWithQuality]\" \\\n",
    "    --input-format PairedEndFastqManifestPhred33V2 \\\n",
    "    --input-path Data/0-manifest_arc \\\n",
    "    --output-path Data/1-seqs_arc.qza"
   ]
  },
  {
   "cell_type": "code",
   "execution_count": null,
   "id": "7fc955eb-3610-425b-b11c-5c17a181c1d4",
   "metadata": {},
   "outputs": [],
   "source": [
    "! qiime tools import \\\n",
    "    --type \"SampleData[PairedEndSequencesWithQuality]\" \\\n",
    "    --input-format PairedEndFastqManifestPhred33V2 \\\n",
    "    --input-path Data/0-manifest_bac \\\n",
    "    --output-path Data/1-seqs_bac.qza"
   ]
  },
  {
   "cell_type": "markdown",
   "id": "af65fdba-c821-45dc-a6ea-44e054a39541",
   "metadata": {},
   "source": [
    "# 4.Denosing-Bacteria\n",
    "\n",
    "Paired-end sequences from two PCR libraries were denoised separately via q2-dada2. Quality scores of bases are first inspected here."
   ]
  },
  {
   "cell_type": "code",
   "execution_count": null,
   "id": "7f4e31ef-e6ea-4595-bd2f-6e8a57c17241",
   "metadata": {
    "tags": []
   },
   "outputs": [],
   "source": [
    "!qiime demux summarize \\\n",
    "      --i-data Data/1-seqs_bac.qza \\\n",
    "      --o-visualization Results/1-seqs_bac.qzv"
   ]
  },
  {
   "cell_type": "code",
   "execution_count": 3,
   "id": "b7728ea9-d036-4d3c-8486-0a8364f770be",
   "metadata": {},
   "outputs": [
    {
     "data": {
      "text/html": [
       "<div><img onload=\"(function(div, url){\n",
       "if (typeof require !== 'undefined') {\n",
       "    var baseURL = require.toUrl('').split('/').slice(0, -2).join('/');\n",
       "} else {\n",
       "    var baseURL = JSON.parse(\n",
       "        document.getElementById('jupyter-config-data').innerHTML\n",
       "    ).baseUrl.slice(0, -1);\n",
       "}\n",
       "url = baseURL + url;\n",
       "fetch(url).then(function(res) {\n",
       "    if (res.status === 404) {\n",
       "        div.innerHTML = 'Install QIIME 2 Jupyter extension with:<br />' +\n",
       "                        '<code>jupyter serverextension enable --py qiime2' +\n",
       "                        ' --sys-prefix</code><br />then restart your server.' +\n",
       "                        '<br /><br />(Interactive output not available on ' +\n",
       "                        'static notebook viewer services like nbviewer.)';\n",
       "    } else if (res.status === 409) {\n",
       "        div.innerHTML = 'Visualization no longer in scope. Re-run this cell' +\n",
       "                        ' to see the visualization.';\n",
       "    } else if (res.ok) {\n",
       "        url = res.url;\n",
       "        div.innerHTML = '<iframe src=\\'' + url + '\\' style=\\'' +\n",
       "                        'width: 100%; height: 700px; border: 0;\\'>' +\n",
       "                        '</iframe><hr />Open in a: <a href=\\'' + url + '\\'' +\n",
       "                        ' target=\\'_blank\\'>new window</a>'\n",
       "    } else {\n",
       "        div.innerHTML = 'Something has gone wrong. Check notebook server for' +\n",
       "                        ' errors.';\n",
       "    }\n",
       "});\n",
       "})(this.parentElement, '/qiime2/redirect?location=/tmp/qiime2-archive-kym1xl08')\" src=\"data:image/gif;base64,R0lGODlhAQABAIAAAP///wAAACH5BAEAAAAALAAAAAABAAEAAAICRAEAOw==\" /></div>"
      ],
      "text/plain": [
       "<visualization: Visualization uuid: 024deab9-843b-43d9-bd24-98c5cb6d5e5a>"
      ]
     },
     "execution_count": 3,
     "metadata": {},
     "output_type": "execute_result"
    }
   ],
   "source": [
    "Visualization.load('Results/1-seqs_bac.qzv')"
   ]
  },
  {
   "cell_type": "markdown",
   "id": "7b003b59-0df3-4d2b-aabb-d19057aa93b0",
   "metadata": {},
   "source": [
    "Forward and reverse sequences were truncated to 207 and 199 bp respectively to discard low quality bases and meanwhile have a sufficient overlap for read merging."
   ]
  },
  {
   "cell_type": "markdown",
   "id": "b3ba1288-f97d-4dcd-93f9-8d2d617ed885",
   "metadata": {},
   "source": [
    "Barcode, linker, and primer were trimmed by setting trimming parameters for forward sequences (p-trim-left-f, 28) and reverse sequences (p-trim-left-r, 19). To discard bases with low quality scores and meanwhile main the sufficient overlap for read merging, forward and reverse sequences were truncated to 207 and 199 bp respectively. All other parameters were default settings of q2-dada2.  "
   ]
  },
  {
   "cell_type": "code",
   "execution_count": null,
   "id": "be78d9f9-a6f8-419e-9ccc-058d106d21a6",
   "metadata": {},
   "outputs": [],
   "source": [
    "!qiime dada2 denoise-paired \\\n",
    "    --i-demultiplexed-seqs Data/1-seqs_bac.qza \\\n",
    "    --p-trim-left-f 28 \\\n",
    "    --p-trim-left-r 19 \\\n",
    "    --p-trunc-len-f 207 \\\n",
    "    --p-trunc-len-r 199 \\\n",
    "    --p-n-threads 3 \\\n",
    "    --o-table Data/1-feature-table_bac.qza \\\n",
    "    --o-representative-sequences Data/1-rep-seqs_bac.qza \\\n",
    "    --o-denoising-stats Data/1-dada2-stats_bac.qza"
   ]
  },
  {
   "cell_type": "markdown",
   "id": "1c323d93-eecf-4e36-847f-e0c67cfeaa06",
   "metadata": {},
   "source": [
    "Among 1,617,074 high-quality reads obtained after denoising, 8128 amplicon sequence variants (ASVs) were identified for bacteria in 27 samples. "
   ]
  },
  {
   "cell_type": "code",
   "execution_count": null,
   "id": "faf8e3bd-b867-4d0b-b562-185df618f407",
   "metadata": {},
   "outputs": [],
   "source": [
    "!qiime feature-table summarize \\\n",
    "    --i-table Data/1-feature-table_bac.qza \\\n",
    "    --m-sample-metadata-file Data/0-metadata_bac.tsv \\\n",
    "    --o-visualization Results/1-feature-table_bac.qzv"
   ]
  },
  {
   "cell_type": "code",
   "execution_count": 3,
   "id": "2917ca2a-9b8c-4e0e-88df-c997ed568f6e",
   "metadata": {
    "collapsed": true,
    "jupyter": {
     "outputs_hidden": true
    },
    "tags": []
   },
   "outputs": [
    {
     "data": {
      "text/html": [
       "<div><img onload=\"(function(div, url){\n",
       "if (typeof require !== 'undefined') {\n",
       "    var baseURL = require.toUrl('').split('/').slice(0, -2).join('/');\n",
       "} else {\n",
       "    var baseURL = JSON.parse(\n",
       "        document.getElementById('jupyter-config-data').innerHTML\n",
       "    ).baseUrl.slice(0, -1);\n",
       "}\n",
       "url = baseURL + url;\n",
       "fetch(url).then(function(res) {\n",
       "    if (res.status === 404) {\n",
       "        div.innerHTML = 'Install QIIME 2 Jupyter extension with:<br />' +\n",
       "                        '<code>jupyter serverextension enable --py qiime2' +\n",
       "                        ' --sys-prefix</code><br />then restart your server.' +\n",
       "                        '<br /><br />(Interactive output not available on ' +\n",
       "                        'static notebook viewer services like nbviewer.)';\n",
       "    } else if (res.status === 409) {\n",
       "        div.innerHTML = 'Visualization no longer in scope. Re-run this cell' +\n",
       "                        ' to see the visualization.';\n",
       "    } else if (res.ok) {\n",
       "        url = res.url;\n",
       "        div.innerHTML = '<iframe src=\\'' + url + '\\' style=\\'' +\n",
       "                        'width: 100%; height: 700px; border: 0;\\'>' +\n",
       "                        '</iframe><hr />Open in a: <a href=\\'' + url + '\\'' +\n",
       "                        ' target=\\'_blank\\'>new window</a>'\n",
       "    } else {\n",
       "        div.innerHTML = 'Something has gone wrong. Check notebook server for' +\n",
       "                        ' errors.';\n",
       "    }\n",
       "});\n",
       "})(this.parentElement, '/qiime2/redirect?location=/tmp/qiime2-archive-uu1kk69p')\" src=\"data:image/gif;base64,R0lGODlhAQABAIAAAP///wAAACH5BAEAAAAALAAAAAABAAEAAAICRAEAOw==\" /></div>"
      ],
      "text/plain": [
       "<visualization: Visualization uuid: 2335af30-1ee9-428d-920e-6a50db15141b>"
      ]
     },
     "execution_count": 3,
     "metadata": {},
     "output_type": "execute_result"
    }
   ],
   "source": [
    "Visualization.load('Results/1-feature-table_bac.qzv')"
   ]
  },
  {
   "cell_type": "markdown",
   "id": "d63578ac-7b65-4577-8230-12bfb2dfe320",
   "metadata": {},
   "source": [
    "A relatively high proportion (48.95 % ~ 66.53%) of sequences retained after denosing."
   ]
  },
  {
   "cell_type": "code",
   "execution_count": null,
   "id": "08c2037e-7e12-48c7-b441-f924cb32f666",
   "metadata": {},
   "outputs": [],
   "source": [
    "!qiime metadata tabulate \\\n",
    "    --m-input-file Data/1-dada2-stats_bac.qza \\\n",
    "    --o-visualization Results/1-dada2-stats_bac.qzv"
   ]
  },
  {
   "cell_type": "code",
   "execution_count": 4,
   "id": "0e8acb35-fac5-4da7-9420-1eaf3891ebfe",
   "metadata": {},
   "outputs": [
    {
     "data": {
      "text/html": [
       "<div><img onload=\"(function(div, url){\n",
       "if (typeof require !== 'undefined') {\n",
       "    var baseURL = require.toUrl('').split('/').slice(0, -2).join('/');\n",
       "} else {\n",
       "    var baseURL = JSON.parse(\n",
       "        document.getElementById('jupyter-config-data').innerHTML\n",
       "    ).baseUrl.slice(0, -1);\n",
       "}\n",
       "url = baseURL + url;\n",
       "fetch(url).then(function(res) {\n",
       "    if (res.status === 404) {\n",
       "        div.innerHTML = 'Install QIIME 2 Jupyter extension with:<br />' +\n",
       "                        '<code>jupyter serverextension enable --py qiime2' +\n",
       "                        ' --sys-prefix</code><br />then restart your server.' +\n",
       "                        '<br /><br />(Interactive output not available on ' +\n",
       "                        'static notebook viewer services like nbviewer.)';\n",
       "    } else if (res.status === 409) {\n",
       "        div.innerHTML = 'Visualization no longer in scope. Re-run this cell' +\n",
       "                        ' to see the visualization.';\n",
       "    } else if (res.ok) {\n",
       "        url = res.url;\n",
       "        div.innerHTML = '<iframe src=\\'' + url + '\\' style=\\'' +\n",
       "                        'width: 100%; height: 700px; border: 0;\\'>' +\n",
       "                        '</iframe><hr />Open in a: <a href=\\'' + url + '\\'' +\n",
       "                        ' target=\\'_blank\\'>new window</a>'\n",
       "    } else {\n",
       "        div.innerHTML = 'Something has gone wrong. Check notebook server for' +\n",
       "                        ' errors.';\n",
       "    }\n",
       "});\n",
       "})(this.parentElement, '/qiime2/redirect?location=/tmp/qiime2-archive-elbwdymn')\" src=\"data:image/gif;base64,R0lGODlhAQABAIAAAP///wAAACH5BAEAAAAALAAAAAABAAEAAAICRAEAOw==\" /></div>"
      ],
      "text/plain": [
       "<visualization: Visualization uuid: aacb6d25-2dc1-4207-b3a8-27f03261a7f6>"
      ]
     },
     "execution_count": 4,
     "metadata": {},
     "output_type": "execute_result"
    }
   ],
   "source": [
    "Visualization.load('Results/1-dada2-stats_bac.qzv')"
   ]
  },
  {
   "cell_type": "markdown",
   "id": "9d22a47e-b3e9-4e5f-89d5-ab6aa8aca69d",
   "metadata": {},
   "source": [
    "## 5. Denoising-Archaea"
   ]
  },
  {
   "cell_type": "markdown",
   "id": "ec9eed1d-a60a-4173-a86e-82ec091a031f",
   "metadata": {},
   "source": [
    "Barcode, linker, and primer were trimmed by setting trimming parameters for forward sequences (p-trim-left-f, 25) and reverse sequences (p-trim-left-r, 20). To discard bases with low quality scores and meanwhile main the sufficient overlap for read merging, forward and reverse sequences were truncated to 247 and 200 bp respectively. All other parameters were default settings of q2-dada2.  "
   ]
  },
  {
   "cell_type": "code",
   "execution_count": null,
   "id": "f4a08c9b-c956-4e67-ae34-5b458f59c71c",
   "metadata": {},
   "outputs": [],
   "source": [
    "!qiime demux summarize \\\n",
    "      --i-data Data/1-seqs_arc.qza \\\n",
    "      --o-visualization Results/1-seqs_arc.qzv"
   ]
  },
  {
   "cell_type": "code",
   "execution_count": 4,
   "id": "8343d8b8-7e2b-42f6-a894-7d42fb8c90b0",
   "metadata": {},
   "outputs": [
    {
     "data": {
      "text/html": [
       "<div><img onload=\"(function(div, url){\n",
       "if (typeof require !== 'undefined') {\n",
       "    var baseURL = require.toUrl('').split('/').slice(0, -2).join('/');\n",
       "} else {\n",
       "    var baseURL = JSON.parse(\n",
       "        document.getElementById('jupyter-config-data').innerHTML\n",
       "    ).baseUrl.slice(0, -1);\n",
       "}\n",
       "url = baseURL + url;\n",
       "fetch(url).then(function(res) {\n",
       "    if (res.status === 404) {\n",
       "        div.innerHTML = 'Install QIIME 2 Jupyter extension with:<br />' +\n",
       "                        '<code>jupyter serverextension enable --py qiime2' +\n",
       "                        ' --sys-prefix</code><br />then restart your server.' +\n",
       "                        '<br /><br />(Interactive output not available on ' +\n",
       "                        'static notebook viewer services like nbviewer.)';\n",
       "    } else if (res.status === 409) {\n",
       "        div.innerHTML = 'Visualization no longer in scope. Re-run this cell' +\n",
       "                        ' to see the visualization.';\n",
       "    } else if (res.ok) {\n",
       "        url = res.url;\n",
       "        div.innerHTML = '<iframe src=\\'' + url + '\\' style=\\'' +\n",
       "                        'width: 100%; height: 700px; border: 0;\\'>' +\n",
       "                        '</iframe><hr />Open in a: <a href=\\'' + url + '\\'' +\n",
       "                        ' target=\\'_blank\\'>new window</a>'\n",
       "    } else {\n",
       "        div.innerHTML = 'Something has gone wrong. Check notebook server for' +\n",
       "                        ' errors.';\n",
       "    }\n",
       "});\n",
       "})(this.parentElement, '/qiime2/redirect?location=/tmp/qiime2-archive-mw0sz_4d')\" src=\"data:image/gif;base64,R0lGODlhAQABAIAAAP///wAAACH5BAEAAAAALAAAAAABAAEAAAICRAEAOw==\" /></div>"
      ],
      "text/plain": [
       "<visualization: Visualization uuid: 68d94bc9-7eb9-467b-af20-b2e6f149cd7b>"
      ]
     },
     "execution_count": 4,
     "metadata": {},
     "output_type": "execute_result"
    }
   ],
   "source": [
    "Visualization.load('Results/1-seqs_arc.qzv')"
   ]
  },
  {
   "cell_type": "code",
   "execution_count": null,
   "id": "933534a1-9787-4a1d-8e05-8c2528f32a11",
   "metadata": {},
   "outputs": [],
   "source": [
    "!qiime dada2 denoise-paired \\\n",
    "    --i-demultiplexed-seqs Data/1-seqs_arc.qza \\\n",
    "    --p-trim-left-f 25 \\\n",
    "    --p-trim-left-r 20 \\\n",
    "    --p-trunc-len-f 247 \\\n",
    "    --p-trunc-len-r 200 \\\n",
    "    --p-n-threads 3 \\\n",
    "    --o-table Data/1-feature-table_arc.qza \\\n",
    "    --o-representative-sequences Data/1-rep-seqs_arc.qza \\\n",
    "    --o-denoising-stats Data/1-dada2-stats_arc.qza"
   ]
  },
  {
   "cell_type": "markdown",
   "id": "bfb573b6-ca8a-4cfe-a196-cb2aca2683e7",
   "metadata": {},
   "source": [
    "Among 570,769 high-quality reads obtained after denoising, 815 amplicon sequence variants (ASVs) were  in 27 samples. "
   ]
  },
  {
   "cell_type": "code",
   "execution_count": null,
   "id": "6c8359d4-c625-48a7-9c46-2e7cb4fb019e",
   "metadata": {
    "tags": []
   },
   "outputs": [],
   "source": [
    "!qiime feature-table summarize \\\n",
    "    --i-table Data/1-feature-table_arc.qza \\\n",
    "    --m-sample-metadata-file Data/0-metadata_arc.tsv \\\n",
    "    --o-visualization Results/1-feature-table_arc.qzv"
   ]
  },
  {
   "cell_type": "code",
   "execution_count": 7,
   "id": "ebfc1878-8877-43eb-ae5c-de7071195c02",
   "metadata": {},
   "outputs": [
    {
     "data": {
      "text/html": [
       "<div><img onload=\"(function(div, url){\n",
       "if (typeof require !== 'undefined') {\n",
       "    var baseURL = require.toUrl('').split('/').slice(0, -2).join('/');\n",
       "} else {\n",
       "    var baseURL = JSON.parse(\n",
       "        document.getElementById('jupyter-config-data').innerHTML\n",
       "    ).baseUrl.slice(0, -1);\n",
       "}\n",
       "url = baseURL + url;\n",
       "fetch(url).then(function(res) {\n",
       "    if (res.status === 404) {\n",
       "        div.innerHTML = 'Install QIIME 2 Jupyter extension with:<br />' +\n",
       "                        '<code>jupyter serverextension enable --py qiime2' +\n",
       "                        ' --sys-prefix</code><br />then restart your server.' +\n",
       "                        '<br /><br />(Interactive output not available on ' +\n",
       "                        'static notebook viewer services like nbviewer.)';\n",
       "    } else if (res.status === 409) {\n",
       "        div.innerHTML = 'Visualization no longer in scope. Re-run this cell' +\n",
       "                        ' to see the visualization.';\n",
       "    } else if (res.ok) {\n",
       "        url = res.url;\n",
       "        div.innerHTML = '<iframe src=\\'' + url + '\\' style=\\'' +\n",
       "                        'width: 100%; height: 700px; border: 0;\\'>' +\n",
       "                        '</iframe><hr />Open in a: <a href=\\'' + url + '\\'' +\n",
       "                        ' target=\\'_blank\\'>new window</a>'\n",
       "    } else {\n",
       "        div.innerHTML = 'Something has gone wrong. Check notebook server for' +\n",
       "                        ' errors.';\n",
       "    }\n",
       "});\n",
       "})(this.parentElement, '/qiime2/redirect?location=/tmp/qiime2-archive-tzr9vxdd')\" src=\"data:image/gif;base64,R0lGODlhAQABAIAAAP///wAAACH5BAEAAAAALAAAAAABAAEAAAICRAEAOw==\" /></div>"
      ],
      "text/plain": [
       "<visualization: Visualization uuid: 835ce464-10d5-49c8-bd72-089158fd5854>"
      ]
     },
     "execution_count": 7,
     "metadata": {},
     "output_type": "execute_result"
    }
   ],
   "source": [
    "Visualization.load('Results/1-feature-table_arc.qzv')"
   ]
  },
  {
   "cell_type": "code",
   "execution_count": null,
   "id": "ae0d6d7a-578a-4e7c-ab75-7c0da8b8db96",
   "metadata": {},
   "outputs": [],
   "source": [
    "!qiime metadata tabulate \\\n",
    "    --m-input-file Data/1-dada2-stats_arc.qza \\\n",
    "    --o-visualization Results/1-dada2-stats_arc.qzv\n",
    "\n",
    "Visualization.load('Results/1-dada2-stats_arc.qzv')"
   ]
  }
 ],
 "metadata": {
  "kernelspec": {
   "display_name": "Python 3 (ipykernel)",
   "language": "python",
   "name": "python3"
  },
  "language_info": {
   "codemirror_mode": {
    "name": "ipython",
    "version": 3
   },
   "file_extension": ".py",
   "mimetype": "text/x-python",
   "name": "python",
   "nbconvert_exporter": "python",
   "pygments_lexer": "ipython3",
   "version": "3.8.13"
  }
 },
 "nbformat": 4,
 "nbformat_minor": 5
}
