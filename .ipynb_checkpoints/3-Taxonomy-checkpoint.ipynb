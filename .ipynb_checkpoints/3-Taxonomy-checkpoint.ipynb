{
 "cells": [
  {
   "cell_type": "markdown",
   "id": "a6a2ffbc-5ff0-41cf-b454-6dcf616b597f",
   "metadata": {
    "tags": []
   },
   "source": [
    "# Taxonomy classification"
   ]
  },
  {
   "cell_type": "markdown",
   "id": "d3a6065f-58a9-4e70-b2fa-c31c28ed505c",
   "metadata": {},
   "source": [
    "# 1. Download and construct reference database \n"
   ]
  },
  {
   "cell_type": "markdown",
   "id": "8b1b2436-cd31-4dd4-b1db-9bd85b93a540",
   "metadata": {},
   "source": [
    "## 1.1 Download reference database"
   ]
  },
  {
   "cell_type": "code",
   "execution_count": 1,
   "id": "1a884bf2-3192-4ab7-9ce1-5737c47935b1",
   "metadata": {},
   "outputs": [
    {
     "name": "stdout",
     "output_type": "stream",
     "text": [
      "\u001b[32mSaved FeatureData[RNASequence] to: Data/3-silva-138-ssu-nr99-seqs.qza\u001b[0m\n",
      "\u001b[32mSaved FeatureData[Taxonomy] to: Data/3-silva-138-ssu-nr99-tax.qza\u001b[0m\n",
      "\u001b[0m"
     ]
    }
   ],
   "source": [
    "! qiime rescript get-silva-data \\\n",
    "    --p-version '138' \\\n",
    "    --p-target 'SSURef_NR99' \\\n",
    "    --p-include-species-labels \\\n",
    "    --o-silva-sequences Data/3-silva-138-ssu-nr99-seqs.qza \\\n",
    "    --o-silva-taxonomy Data/3-silva-138-ssu-nr99-tax.qza"
   ]
  },
  {
   "cell_type": "markdown",
   "id": "f8d8e78e-17b7-4530-932a-e230388dcd04",
   "metadata": {},
   "source": [
    "## 1.2 Database curation"
   ]
  },
  {
   "cell_type": "code",
   "execution_count": 1,
   "id": "7a318ea9-fd9b-4fed-85b1-901ae9839dd5",
   "metadata": {},
   "outputs": [
    {
     "name": "stdout",
     "output_type": "stream",
     "text": [
      "\u001b[32mSaved FeatureData[Sequence] to: Data/3-silva-138-ssu-nr99-seqs-cleaned.qza\u001b[0m\n",
      "\u001b[0m"
     ]
    }
   ],
   "source": [
    "! qiime rescript cull-seqs \\\n",
    "    --i-sequences Data/3-silva-138-ssu-nr99-seqs.qza \\\n",
    "    --p-num-degenerates 5 \\\n",
    "    --p-homopolymer-length 8 \\\n",
    "    --p-n-jobs 3 \\\n",
    "    --o-clean-sequences Data/3-silva-138-ssu-nr99-seqs-cleaned.qza"
   ]
  },
  {
   "cell_type": "code",
   "execution_count": 1,
   "id": "33f148b6-c19e-4c0a-a9fe-30c976a813ff",
   "metadata": {},
   "outputs": [
    {
     "name": "stdout",
     "output_type": "stream",
     "text": [
      "\u001b[32mSaved FeatureData[Sequence] to: Data/3-silva-138-ssu-nr99-seqs-filt.qza\u001b[0m\n",
      "\u001b[32mSaved FeatureData[Sequence] to: Data/3-silva-138-ssu-nr99-seqs-discard.qza\u001b[0m\n",
      "\u001b[0m"
     ]
    }
   ],
   "source": [
    "! qiime rescript filter-seqs-length-by-taxon \\\n",
    "    --i-sequences Data/3-silva-138-ssu-nr99-seqs-cleaned.qza \\\n",
    "    --i-taxonomy Data/3-silva-138-ssu-nr99-tax.qza \\\n",
    "    --p-labels Archaea Bacteria Eukaryota \\\n",
    "    --p-min-lens 900 1200 1400 \\\n",
    "    --o-filtered-seqs Data/3-silva-138-ssu-nr99-seqs-filt.qza \\\n",
    "    --o-discarded-seqs Data/3-silva-138-ssu-nr99-seqs-discard.qza"
   ]
  },
  {
   "cell_type": "code",
   "execution_count": 1,
   "id": "b91d54f3-db23-4f46-832d-3f163db7e9f7",
   "metadata": {},
   "outputs": [
    {
     "name": "stdout",
     "output_type": "stream",
     "text": [
      "\u001b[32mSaved FeatureData[Sequence] to: Data/3-silva-138-ssu-nr99-seqs-derep-uniq.qza\u001b[0m\n",
      "\u001b[32mSaved FeatureData[Taxonomy] to: Data/3-silva-138-ssu-nr99-tax-derep-uniq.qza\u001b[0m\n",
      "\u001b[0m"
     ]
    }
   ],
   "source": [
    "! qiime rescript dereplicate \\\n",
    "    --i-sequences Data/3-silva-138-ssu-nr99-seqs-filt.qza  \\\n",
    "    --i-taxa Data/3-silva-138-ssu-nr99-tax.qza \\\n",
    "    --p-rank-handles 'silva' \\\n",
    "    --p-mode 'uniq' \\\n",
    "    --p-threads 3 \\\n",
    "    --o-dereplicated-sequences Data/3-silva-138-ssu-nr99-seqs-derep-uniq.qza \\\n",
    "    --o-dereplicated-taxa Data/3-silva-138-ssu-nr99-tax-derep-uniq.qza"
   ]
  },
  {
   "cell_type": "markdown",
   "id": "2e78b47a-ee59-4947-aeb4-51a857011a4d",
   "metadata": {},
   "source": [
    "## 1.3 PCR-region extraction"
   ]
  },
  {
   "cell_type": "markdown",
   "id": "b66ae9f5-f7f5-4479-a13a-949a096a60d6",
   "metadata": {},
   "source": [
    "### 1.3.1 Bacteria (27f-338r)"
   ]
  },
  {
   "cell_type": "code",
   "execution_count": 4,
   "id": "54a9c128-a757-4dde-a140-278135233b4e",
   "metadata": {},
   "outputs": [
    {
     "name": "stdout",
     "output_type": "stream",
     "text": [
      "\u001b[32mSaved FeatureData[Sequence] to: Data/3-silva-138-ssu-nr99-seqs-27f-338r.qza\u001b[0m\n",
      "\u001b[0m"
     ]
    }
   ],
   "source": [
    "! qiime feature-classifier extract-reads \\\n",
    "    --i-sequences Data/3-silva-138-ssu-nr99-seqs-derep-uniq.qza \\\n",
    "    --p-f-primer AGRGTTHGATYMTGGCTCAG \\\n",
    "    --p-r-primer GCTGCCTCCCGTAGGAGT \\\n",
    "    --p-n-jobs 3 \\\n",
    "    --p-read-orientation 'forward' \\\n",
    "    --o-reads Data/3-silva-138-ssu-nr99-seqs-27f-338r.qza"
   ]
  },
  {
   "cell_type": "code",
   "execution_count": 1,
   "id": "a03d9826-3525-4db4-b241-9b9f21a0defc",
   "metadata": {},
   "outputs": [
    {
     "name": "stdout",
     "output_type": "stream",
     "text": [
      "\u001b[32mSaved FeatureData[Sequence] to: Data/3-silva-138-ssu-nr99-seqs-27f-338r-uniq.qza\u001b[0m\n",
      "\u001b[32mSaved FeatureData[Taxonomy] to: Data/3-silva-138-ssu-nr99-tax-27f-338r-derep-uniq.qza\u001b[0m\n",
      "\u001b[0m"
     ]
    }
   ],
   "source": [
    "! qiime rescript dereplicate \\\n",
    "    --i-sequences Data/3-silva-138-ssu-nr99-seqs-27f-338r.qza \\\n",
    "    --i-taxa Data/3-silva-138-ssu-nr99-tax-derep-uniq.qza \\\n",
    "    --p-rank-handles 'silva' \\\n",
    "    --p-mode 'uniq' \\\n",
    "    --p-threads 3 \\\n",
    "    --o-dereplicated-sequences Data/3-silva-138-ssu-nr99-seqs-27f-338r-uniq.qza \\\n",
    "    --o-dereplicated-taxa  Data/3-silva-138-ssu-nr99-tax-27f-338r-derep-uniq.qza"
   ]
  },
  {
   "cell_type": "markdown",
   "id": "d4bfa668-69e9-4397-85b7-e5f26b52dd47",
   "metadata": {},
   "source": [
    "### 1.3.2 Archaea (arch349F-arch806R)"
   ]
  },
  {
   "cell_type": "code",
   "execution_count": 2,
   "id": "7f0aacb5-6f4e-4c9e-a4f5-d7174ec06475",
   "metadata": {},
   "outputs": [
    {
     "name": "stdout",
     "output_type": "stream",
     "text": [
      "\u001b[32mSaved FeatureData[Sequence] to: Data/3-silva-138-ssu-nr99-seqs-349f-806r.qza\u001b[0m\n",
      "\u001b[0m"
     ]
    }
   ],
   "source": [
    "! qiime feature-classifier extract-reads \\\n",
    "    --i-sequences Data/3-silva-138-ssu-nr99-seqs-derep-uniq.qza \\\n",
    "    --p-f-primer GYGCASCAGKCGMGAAW \\\n",
    "    --p-r-primer GGACTACVSGGGTATCTAAT \\\n",
    "    --p-n-jobs 3 \\\n",
    "    --p-read-orientation 'forward' \\\n",
    "    --o-reads Data/3-silva-138-ssu-nr99-seqs-349f-806r.qza"
   ]
  },
  {
   "cell_type": "code",
   "execution_count": 3,
   "id": "d21cd8d2-073e-447b-918a-820b581863cc",
   "metadata": {},
   "outputs": [
    {
     "name": "stdout",
     "output_type": "stream",
     "text": [
      "\u001b[32mSaved FeatureData[Sequence] to: Data/3-silva-138-ssu-nr99-seqs-349f-806r-uniq.qza\u001b[0m\n",
      "\u001b[32mSaved FeatureData[Taxonomy] to: Data/3-silva-138-ssu-nr99-tax-349f-806r-derep-uniq.qza\u001b[0m\n",
      "\u001b[0m"
     ]
    }
   ],
   "source": [
    "! qiime rescript dereplicate \\\n",
    "    --i-sequences Data/3-silva-138-ssu-nr99-seqs-349f-806r.qza \\\n",
    "    --i-taxa Data/3-silva-138-ssu-nr99-tax-derep-uniq.qza \\\n",
    "    --p-rank-handles 'silva' \\\n",
    "    --p-mode 'uniq' \\\n",
    "    --p-threads 3 \\\n",
    "    --o-dereplicated-sequences Data/3-silva-138-ssu-nr99-seqs-349f-806r-uniq.qza \\\n",
    "    --o-dereplicated-taxa  Data/3-silva-138-ssu-nr99-tax-349f-806r-derep-uniq.qza"
   ]
  },
  {
   "cell_type": "markdown",
   "id": "c5193b7d-29a7-46ac-a287-9047fae9d379",
   "metadata": {},
   "source": [
    "# 2. Taxonomy assignment of bacteria "
   ]
  },
  {
   "cell_type": "markdown",
   "id": "292e266e-e01d-424d-9617-37c6bb615b53",
   "metadata": {},
   "source": [
    "## 2.1 Taxonomy classifier for region 27f-308r"
   ]
  },
  {
   "cell_type": "code",
   "execution_count": 1,
   "id": "24a0aa94-1839-4ce4-b74a-ad84e02fbee1",
   "metadata": {},
   "outputs": [
    {
     "name": "stdout",
     "output_type": "stream",
     "text": [
      "^C\n",
      "\n",
      "Aborted!\n",
      "\u001b[0m"
     ]
    }
   ],
   "source": [
    "! qiime feature-classifier fit-classifier-naive-bayes \\\n",
    "    --i-reference-reads Data/3-silva-138-ssu-nr99-seqs-27f-338r-uniq.qza \\\n",
    "    --i-reference-taxonomy Data/3-silva-138-ssu-nr99-tax-27f-338r-derep-uniq.qza \\\n",
    "    --o-classifier Data/3-classifier-27f-308r.qza"
   ]
  },
  {
   "cell_type": "markdown",
   "id": "3c08ef60-51ae-4609-9ade-aee6a246041b",
   "metadata": {},
   "source": [
    "## 2.1 Taxonomy Assignment"
   ]
  },
  {
   "cell_type": "code",
   "execution_count": 3,
   "id": "50a975ef-991b-4add-b57d-8ddffd12862a",
   "metadata": {},
   "outputs": [
    {
     "name": "stdout",
     "output_type": "stream",
     "text": [
      "\u001b[32mSaved FeatureData[Taxonomy] to: Results/3-taxonomy_bac.qza\u001b[0m\n",
      "\u001b[0m"
     ]
    }
   ],
   "source": [
    "! qiime feature-classifier classify-sklearn \\\n",
    "    --i-classifier Data/3-classifier-27f-308r.qza \\\n",
    "    --i-reads Data/1-rep-seqs_bac.qza \\\n",
    "    --o-classification Results/3-taxonomy_bac.qza"
   ]
  },
  {
   "cell_type": "markdown",
   "id": "c92024fc-8405-4b33-b618-89e88c7277cb",
   "metadata": {
    "tags": []
   },
   "source": [
    "# 3. Taxonomy assignment of archaea"
   ]
  },
  {
   "cell_type": "markdown",
   "id": "5924dc83-85bb-4202-839c-959ede6b7986",
   "metadata": {
    "tags": []
   },
   "source": [
    "## 3.1 Taxonomy classifier for region archaea349f-archaea806r"
   ]
  },
  {
   "cell_type": "code",
   "execution_count": null,
   "id": "ab19e07d-1fe9-4230-a879-480e6b7575cc",
   "metadata": {},
   "outputs": [],
   "source": [
    "! qiime feature-classifier fit-classifier-naive-bayes \\\n",
    "    --i-reference-reads Data/3-silva-138-ssu-nr99-seqs-349f-806r-uniq.qza \\\n",
    "    --i-reference-taxonomy Data/3-silva-138-ssu-nr99-tax-349f-806r-derep-uniq.qza \\\n",
    "    --o-classifier Data/3-classifier-349f-806r.qza"
   ]
  },
  {
   "cell_type": "markdown",
   "id": "9167744f-1a33-41e6-a645-1202f52d472f",
   "metadata": {},
   "source": [
    "## 3.2 Taxonomy Assignment"
   ]
  },
  {
   "cell_type": "code",
   "execution_count": 4,
   "id": "96e182b5-5668-4908-a1b6-a39ffacf2262",
   "metadata": {},
   "outputs": [
    {
     "name": "stdout",
     "output_type": "stream",
     "text": [
      "\u001b[32mSaved FeatureData[Taxonomy] to: Results/3-taxonomy_arc.qza\u001b[0m\n",
      "\u001b[0m"
     ]
    }
   ],
   "source": [
    "! qiime feature-classifier classify-sklearn \\\n",
    "    --i-classifier Data/3-classifier-349f-806r.qza \\\n",
    "    --i-reads Data/1-rep-seqs_arc.qza \\\n",
    "    --o-classification Results/3-taxonomy_arc.qza"
   ]
  }
 ],
 "metadata": {
  "kernelspec": {
   "display_name": "Python 3 (ipykernel)",
   "language": "python",
   "name": "python3"
  },
  "language_info": {
   "codemirror_mode": {
    "name": "ipython",
    "version": 3
   },
   "file_extension": ".py",
   "mimetype": "text/x-python",
   "name": "python",
   "nbconvert_exporter": "python",
   "pygments_lexer": "ipython3",
   "version": "3.8.13"
  }
 },
 "nbformat": 4,
 "nbformat_minor": 5
}
