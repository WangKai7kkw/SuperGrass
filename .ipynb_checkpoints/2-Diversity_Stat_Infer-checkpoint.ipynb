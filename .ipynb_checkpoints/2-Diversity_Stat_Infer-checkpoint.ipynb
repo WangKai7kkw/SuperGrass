{
 "cells": [
  {
   "cell_type": "code",
   "execution_count": 54,
   "id": "770eb09f-9827-4d9b-a685-3e09bbab05b7",
   "metadata": {},
   "outputs": [],
   "source": [
    "import qiime2 as q2\n",
    "import pandas as pd\n",
    "from qiime2 import Artifact\n",
    "%matplotlib inline"
   ]
  },
  {
   "cell_type": "code",
   "execution_count": 48,
   "id": "c5ebdb88-af9b-444d-ab4a-fe6b581d9220",
   "metadata": {},
   "outputs": [],
   "source": [
    "metadata = pd.read_csv('Data/0-metadata_bac.tsv', sep = \"\\t\", index_col=0)"
   ]
  },
  {
   "cell_type": "code",
   "execution_count": 49,
   "id": "3a080735-9d95-459c-b39a-f6bc5ba1fac1",
   "metadata": {},
   "outputs": [
    {
     "data": {
      "text/html": [
       "<div>\n",
       "<style scoped>\n",
       "    .dataframe tbody tr th:only-of-type {\n",
       "        vertical-align: middle;\n",
       "    }\n",
       "\n",
       "    .dataframe tbody tr th {\n",
       "        vertical-align: top;\n",
       "    }\n",
       "\n",
       "    .dataframe thead th {\n",
       "        text-align: right;\n",
       "    }\n",
       "</style>\n",
       "<table border=\"1\" class=\"dataframe\">\n",
       "  <thead>\n",
       "    <tr style=\"text-align: right;\">\n",
       "      <th></th>\n",
       "      <th>Phase</th>\n",
       "      <th>Diets</th>\n",
       "    </tr>\n",
       "    <tr>\n",
       "      <th>ID</th>\n",
       "      <th></th>\n",
       "      <th></th>\n",
       "    </tr>\n",
       "  </thead>\n",
       "  <tbody>\n",
       "    <tr>\n",
       "      <th>ERR1842970</th>\n",
       "      <td>rumen fluid</td>\n",
       "      <td>corn</td>\n",
       "    </tr>\n",
       "    <tr>\n",
       "      <th>ERR1842971</th>\n",
       "      <td>rumen fluid</td>\n",
       "      <td>corn</td>\n",
       "    </tr>\n",
       "    <tr>\n",
       "      <th>ERR1842972</th>\n",
       "      <td>rumen fluid</td>\n",
       "      <td>corn</td>\n",
       "    </tr>\n",
       "    <tr>\n",
       "      <th>ERR1842973</th>\n",
       "      <td>rumen fluid</td>\n",
       "      <td>grass</td>\n",
       "    </tr>\n",
       "    <tr>\n",
       "      <th>ERR1842974</th>\n",
       "      <td>rumen fluid</td>\n",
       "      <td>grass</td>\n",
       "    </tr>\n",
       "  </tbody>\n",
       "</table>\n",
       "</div>"
      ],
      "text/plain": [
       "                  Phase  Diets\n",
       "ID                            \n",
       "ERR1842970  rumen fluid   corn\n",
       "ERR1842971  rumen fluid   corn\n",
       "ERR1842972  rumen fluid   corn\n",
       "ERR1842973  rumen fluid  grass\n",
       "ERR1842974  rumen fluid  grass"
      ]
     },
     "execution_count": 49,
     "metadata": {},
     "output_type": "execute_result"
    }
   ],
   "source": [
    "metadata.head()"
   ]
  },
  {
   "cell_type": "code",
   "execution_count": 50,
   "id": "06c57636-0a89-49a9-ab73-ec0391601b67",
   "metadata": {
    "tags": []
   },
   "outputs": [],
   "source": [
    "for x in ['evenness', 'shannon', 'faith_pd', 'observed_features']:\n",
    "    alpha = Artifact.load(f'Results/2-core-metrics_bac/{x}_vector.qza').view(pd.Series)\n",
    "    metadata  = pd.concat([metadata, alpha], axis=1)"
   ]
  },
  {
   "cell_type": "code",
   "execution_count": 51,
   "id": "129316a8-4884-407e-bac9-35d847b46624",
   "metadata": {},
   "outputs": [
    {
     "data": {
      "text/html": [
       "<div>\n",
       "<style scoped>\n",
       "    .dataframe tbody tr th:only-of-type {\n",
       "        vertical-align: middle;\n",
       "    }\n",
       "\n",
       "    .dataframe tbody tr th {\n",
       "        vertical-align: top;\n",
       "    }\n",
       "\n",
       "    .dataframe thead th {\n",
       "        text-align: right;\n",
       "    }\n",
       "</style>\n",
       "<table border=\"1\" class=\"dataframe\">\n",
       "  <thead>\n",
       "    <tr style=\"text-align: right;\">\n",
       "      <th></th>\n",
       "      <th>Phase</th>\n",
       "      <th>Diets</th>\n",
       "      <th>pielou_evenness</th>\n",
       "      <th>shannon_entropy</th>\n",
       "      <th>faith_pd</th>\n",
       "      <th>observed_features</th>\n",
       "    </tr>\n",
       "  </thead>\n",
       "  <tbody>\n",
       "    <tr>\n",
       "      <th>ERR1842970</th>\n",
       "      <td>rumen fluid</td>\n",
       "      <td>corn</td>\n",
       "      <td>0.855995</td>\n",
       "      <td>8.840333</td>\n",
       "      <td>136.292187</td>\n",
       "      <td>1285</td>\n",
       "    </tr>\n",
       "    <tr>\n",
       "      <th>ERR1842971</th>\n",
       "      <td>rumen fluid</td>\n",
       "      <td>corn</td>\n",
       "      <td>0.863974</td>\n",
       "      <td>8.707259</td>\n",
       "      <td>150.818365</td>\n",
       "      <td>1081</td>\n",
       "    </tr>\n",
       "    <tr>\n",
       "      <th>ERR1842972</th>\n",
       "      <td>rumen fluid</td>\n",
       "      <td>corn</td>\n",
       "      <td>0.862050</td>\n",
       "      <td>8.792623</td>\n",
       "      <td>166.402869</td>\n",
       "      <td>1176</td>\n",
       "    </tr>\n",
       "    <tr>\n",
       "      <th>ERR1842973</th>\n",
       "      <td>rumen fluid</td>\n",
       "      <td>grass</td>\n",
       "      <td>0.878213</td>\n",
       "      <td>9.122891</td>\n",
       "      <td>126.515234</td>\n",
       "      <td>1340</td>\n",
       "    </tr>\n",
       "    <tr>\n",
       "      <th>ERR1842974</th>\n",
       "      <td>rumen fluid</td>\n",
       "      <td>grass</td>\n",
       "      <td>0.868675</td>\n",
       "      <td>8.824532</td>\n",
       "      <td>139.413695</td>\n",
       "      <td>1143</td>\n",
       "    </tr>\n",
       "  </tbody>\n",
       "</table>\n",
       "</div>"
      ],
      "text/plain": [
       "                  Phase  Diets  pielou_evenness  shannon_entropy    faith_pd  \\\n",
       "ERR1842970  rumen fluid   corn         0.855995         8.840333  136.292187   \n",
       "ERR1842971  rumen fluid   corn         0.863974         8.707259  150.818365   \n",
       "ERR1842972  rumen fluid   corn         0.862050         8.792623  166.402869   \n",
       "ERR1842973  rumen fluid  grass         0.878213         9.122891  126.515234   \n",
       "ERR1842974  rumen fluid  grass         0.868675         8.824532  139.413695   \n",
       "\n",
       "            observed_features  \n",
       "ERR1842970               1285  \n",
       "ERR1842971               1081  \n",
       "ERR1842972               1176  \n",
       "ERR1842973               1340  \n",
       "ERR1842974               1143  "
      ]
     },
     "execution_count": 51,
     "metadata": {},
     "output_type": "execute_result"
    }
   ],
   "source": [
    "metadata.head()"
   ]
  },
  {
   "cell_type": "code",
   "execution_count": 56,
   "id": "2c5eba19-3ed7-457f-be32-f227127d9f96",
   "metadata": {},
   "outputs": [
    {
     "data": {
      "text/plain": [
       "<AxesSubplot:title={'center':'pielou_evenness'}, xlabel='[Diets, Phase]'>"
      ]
     },
     "execution_count": 56,
     "metadata": {},
     "output_type": "execute_result"
    },
    {
     "data": {
      "image/png": "[encoded data removed]",
      "text/plain": [
       "<Figure size 432x288 with 1 Axes>"
      ]
     },
     "metadata": {
      "needs_background": "light"
     },
     "output_type": "display_data"
    }
   ],
   "source": [
    "metadata.boxplot(column='pielou_evenness', by=['Diets', 'Phase'], rot=90)"
   ]
  },
  {
   "cell_type": "code",
   "execution_count": null,
   "id": "cd8c2752-81b1-49d8-bc01-c4c29fcf924f",
   "metadata": {},
   "outputs": [],
   "source": []
  }
 ],
 "metadata": {
  "kernelspec": {
   "display_name": "Python 3 (ipykernel)",
   "language": "python",
   "name": "python3"
  },
  "language_info": {
   "codemirror_mode": {
    "name": "ipython",
    "version": 3
   },
   "file_extension": ".py",
   "mimetype": "text/x-python",
   "name": "python",
   "nbconvert_exporter": "python",
   "pygments_lexer": "ipython3",
   "version": "3.8.13"
  }
 },
 "nbformat": 4,
 "nbformat_minor": 5
}
