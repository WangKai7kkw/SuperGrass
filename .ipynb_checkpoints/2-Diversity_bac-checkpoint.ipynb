{
 "cells": [
  {
   "cell_type": "code",
   "execution_count": null,
   "id": "2a8d0ce1-3536-4862-9292-6568f17cf766",
   "metadata": {},
   "outputs": [],
   "source": []
  }
 ],
 "metadata": {
  "kernelspec": {
   "display_name": "Python 3 (ipykernel)",
   "language": "python",
   "name": "python3"
  },
  "language_info": {
   "name": ""
  }
 },
 "nbformat": 4,
 "nbformat_minor": 5
}
