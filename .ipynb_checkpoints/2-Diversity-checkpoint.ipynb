{
 "cells": [
  {
   "cell_type": "markdown",
   "id": "8b74757f-2f4c-4ff7-ac77-764cd5fd5724",
   "metadata": {},
   "source": [
    "# Diversity analysis of microbial communities"
   ]
  },
  {
   "cell_type": "code",
   "execution_count": 2,
   "id": "55ac6609-4719-4a4f-a3fc-fa39f59843a6",
   "metadata": {},
   "outputs": [],
   "source": [
    "import os\n",
    "from qiime2 import Visualization\n",
    "\n",
    "data_dir = '1-Denoise'\n",
    "results_dir = '2-Diversity'\n",
    "\n",
    "if not os.path.isdir(data_dir):\n",
    "    os.makedirs(data_dir)\n",
    "\n",
    "if not os.path.isdir(results_dir):\n",
    "    os.makedirs(results_dir)"
   ]
  },
  {
   "cell_type": "markdown",
   "id": "8b25dacf-078f-415c-b5f1-6338b03a855d",
   "metadata": {
    "tags": []
   },
   "source": [
    "### Phylogeny"
   ]
  },
  {
   "cell_type": "code",
   "execution_count": 6,
   "id": "b00bdc49-4c9b-4543-9881-64bb9f51fc61",
   "metadata": {
    "tags": []
   },
   "outputs": [
    {
     "name": "stdout",
     "output_type": "stream",
     "text": [
      "\u001b[32mSaved FeatureData[AlignedSequence] to: 2-Diversity/aligned-rep-seqs.qza\u001b[0m\n",
      "\u001b[0m\u001b[32mSaved FeatureData[AlignedSequence] to: 2-Diversity/masked-aligned-rep-seqs.qza\u001b[0m\n",
      "\u001b[0m\u001b[32mSaved Phylogeny[Unrooted] to: 2-Diversity/fasttree-tree.qza\u001b[0m\n",
      "\u001b[0m\u001b[32mSaved Phylogeny[Rooted] to: 2-Diversity/fasttree-tree-rooted.qza\u001b[0m\n",
      "\u001b[0m"
     ]
    }
   ],
   "source": [
    "! qiime alignment mafft \\\n",
    "    --i-sequences $data_dir/rep-sequences.qza \\\n",
    "    --o-alignment $results_dir/aligned-rep-seqs.qza\n",
    "\n",
    "! qiime alignment mask \\\n",
    "    --i-alignment $results_dir/aligned-rep-seqs.qza \\\n",
    "    --o-masked-alignment $results_dir/masked-aligned-rep-seqs.qza\n",
    "\n",
    "! qiime phylogeny fasttree \\\n",
    "    --i-alignment $results_dir/masked-aligned-rep-seqs.qza \\\n",
    "    --o-tree $results_dir/fasttree-tree.qza\n",
    "\n",
    "! qiime phylogeny midpoint-root \\\n",
    "    --i-tree $results_dir/fasttree-tree.qza \\\n",
    "    --o-rooted-tree $results_dir/fasttree-tree-rooted.qza"
   ]
  },
  {
   "cell_type": "markdown",
   "id": "ea5b8857-0307-498c-9418-a6df210879e9",
   "metadata": {},
   "source": [
    "### Rarefaction curve"
   ]
  },
  {
   "cell_type": "code",
   "execution_count": 8,
   "id": "c7e69c51-494a-42d4-a02a-d00035c6e4a4",
   "metadata": {},
   "outputs": [
    {
     "name": "stdout",
     "output_type": "stream",
     "text": [
      "\u001b[32mSaved Visualization to: 1-Denoise/dada2-stats.qzv\u001b[0m\n",
      "\u001b[0m"
     ]
    }
   ],
   "source": [
    "!qiime metadata tabulate \\\n",
    "    --m-input-file 1-Denoise/dada2-stats.qza \\\n",
    "    --o-visualization 1-Denoise/dada2-stats.qzv "
   ]
  },
  {
   "cell_type": "code",
   "execution_count": 9,
   "id": "059a1bd7-3685-4d39-9525-e0cdb4be9029",
   "metadata": {
    "tags": []
   },
   "outputs": [
    {
     "data": {
      "text/html": [
       "<div><img onload=\"(function(div, url){\n",
       "if (typeof require !== 'undefined') {\n",
       "    var baseURL = require.toUrl('').split('/').slice(0, -2).join('/');\n",
       "} else {\n",
       "    var baseURL = JSON.parse(\n",
       "        document.getElementById('jupyter-config-data').innerHTML\n",
       "    ).baseUrl.slice(0, -1);\n",
       "}\n",
       "url = baseURL + url;\n",
       "fetch(url).then(function(res) {\n",
       "    if (res.status === 404) {\n",
       "        div.innerHTML = 'Install QIIME 2 Jupyter extension with:<br />' +\n",
       "                        '<code>jupyter serverextension enable --py qiime2' +\n",
       "                        ' --sys-prefix</code><br />then restart your server.' +\n",
       "                        '<br /><br />(Interactive output not available on ' +\n",
       "                        'static notebook viewer services like nbviewer.)';\n",
       "    } else if (res.status === 409) {\n",
       "        div.innerHTML = 'Visualization no longer in scope. Re-run this cell' +\n",
       "                        ' to see the visualization.';\n",
       "    } else if (res.ok) {\n",
       "        url = res.url;\n",
       "        div.innerHTML = '<iframe src=\\'' + url + '\\' style=\\'' +\n",
       "                        'width: 100%; height: 700px; border: 0;\\'>' +\n",
       "                        '</iframe><hr />Open in a: <a href=\\'' + url + '\\'' +\n",
       "                        ' target=\\'_blank\\'>new window</a>'\n",
       "    } else {\n",
       "        div.innerHTML = 'Something has gone wrong. Check notebook server for' +\n",
       "                        ' errors.';\n",
       "    }\n",
       "});\n",
       "})(this.parentElement, '/qiime2/redirect?location=/tmp/qiime2-archive-2a90v_8a')\" src=\"data:image/gif;base64,R0lGODlhAQABAIAAAP///wAAACH5BAEAAAAALAAAAAABAAEAAAICRAEAOw==\" /></div>"
      ],
      "text/plain": [
       "<visualization: Visualization uuid: ba6b26d8-63ec-4e14-8d12-18d8c1e4eeb9>"
      ]
     },
     "execution_count": 9,
     "metadata": {},
     "output_type": "execute_result"
    }
   ],
   "source": [
    "Visualization.load('1-Denoise/dada2-stats.qzv')"
   ]
  },
  {
   "cell_type": "code",
   "execution_count": 12,
   "id": "6b8d0326-bb6f-4b79-ac8d-d38f3f321ad9",
   "metadata": {},
   "outputs": [
    {
     "name": "stdout",
     "output_type": "stream",
     "text": [
      "\u001b[32mSaved Visualization to: 1-Denoise/feature-table.qzv\u001b[0m\n",
      "\u001b[0m"
     ]
    }
   ],
   "source": [
    "!qiime feature-table summarize \\\n",
    "    --i-table 1-Denoise/feature-table.qza \\\n",
    "    --m-sample-metadata-file RawData/metadata.tsv \\\n",
    "    --o-visualization 1-Denoise/feature-table.qzv"
   ]
  },
  {
   "cell_type": "code",
   "execution_count": 15,
   "id": "ea15a551-5982-48e5-bd28-609c46aa5560",
   "metadata": {},
   "outputs": [
    {
     "data": {
      "text/html": [
       "<div><img onload=\"(function(div, url){\n",
       "if (typeof require !== 'undefined') {\n",
       "    var baseURL = require.toUrl('').split('/').slice(0, -2).join('/');\n",
       "} else {\n",
       "    var baseURL = JSON.parse(\n",
       "        document.getElementById('jupyter-config-data').innerHTML\n",
       "    ).baseUrl.slice(0, -1);\n",
       "}\n",
       "url = baseURL + url;\n",
       "fetch(url).then(function(res) {\n",
       "    if (res.status === 404) {\n",
       "        div.innerHTML = 'Install QIIME 2 Jupyter extension with:<br />' +\n",
       "                        '<code>jupyter serverextension enable --py qiime2' +\n",
       "                        ' --sys-prefix</code><br />then restart your server.' +\n",
       "                        '<br /><br />(Interactive output not available on ' +\n",
       "                        'static notebook viewer services like nbviewer.)';\n",
       "    } else if (res.status === 409) {\n",
       "        div.innerHTML = 'Visualization no longer in scope. Re-run this cell' +\n",
       "                        ' to see the visualization.';\n",
       "    } else if (res.ok) {\n",
       "        url = res.url;\n",
       "        div.innerHTML = '<iframe src=\\'' + url + '\\' style=\\'' +\n",
       "                        'width: 100%; height: 700px; border: 0;\\'>' +\n",
       "                        '</iframe><hr />Open in a: <a href=\\'' + url + '\\'' +\n",
       "                        ' target=\\'_blank\\'>new window</a>'\n",
       "    } else {\n",
       "        div.innerHTML = 'Something has gone wrong. Check notebook server for' +\n",
       "                        ' errors.';\n",
       "    }\n",
       "});\n",
       "})(this.parentElement, '/qiime2/redirect?location=/tmp/qiime2-archive-8l211rre')\" src=\"data:image/gif;base64,R0lGODlhAQABAIAAAP///wAAACH5BAEAAAAALAAAAAABAAEAAAICRAEAOw==\" /></div>"
      ],
      "text/plain": [
       "<visualization: Visualization uuid: 47a63b9c-1f95-4757-93fa-adc494a6b0ad>"
      ]
     },
     "execution_count": 15,
     "metadata": {},
     "output_type": "execute_result"
    }
   ],
   "source": [
    "Visualization.load('1-Denoise/feature-table.qzv')"
   ]
  },
  {
   "cell_type": "code",
   "execution_count": 2,
   "id": "5cc37cb2-a909-4765-8830-ddbbca3db807",
   "metadata": {},
   "outputs": [
    {
     "name": "stdout",
     "output_type": "stream",
     "text": [
      "Usage: \u001b[94mqiime diversity alpha-rarefaction\u001b[0m [OPTIONS]\n",
      "\n",
      "  Generate interactive alpha rarefaction curves by computing rarefactions\n",
      "  between `min_depth` and `max_depth`. The number of intermediate depths to\n",
      "  compute is controlled by the `steps` parameter, with n `iterations` being\n",
      "  computed at each rarefaction depth. If sample metadata is provided,\n",
      "  samples may be grouped based on distinct values within a metadata column.\n",
      "\n",
      "\u001b[1mInputs\u001b[0m:\n",
      "  \u001b[94m\u001b[4m--i-table\u001b[0m ARTIFACT \u001b[32mFeatureTable[Frequency]\u001b[0m\n",
      "                          Feature table to compute rarefaction curves from.\n",
      "                                                                    \u001b[35m[required]\u001b[0m\n",
      "  \u001b[94m--i-phylogeny\u001b[0m ARTIFACT  Optional phylogeny for phylogenetic metrics.\n",
      "    \u001b[32mPhylogeny[Rooted]\u001b[0m                                               \u001b[35m[optional]\u001b[0m\n",
      "\u001b[1mParameters\u001b[0m:\n",
      "  \u001b[94m\u001b[4m--p-max-depth\u001b[0m INTEGER   The maximum rarefaction depth. Must be greater than\n",
      "    \u001b[32mRange(1, None)\u001b[0m        \u001b[4mmin-depth\u001b[0m.                                \u001b[35m[required]\u001b[0m\n",
      "  \u001b[94m--p-metrics\u001b[0m TEXT... \u001b[32mChoices('berger_parker_d', 'chao1', 'faith_pd',\u001b[0m\n",
      "    \u001b[32m'simpson', 'brillouin_d', 'michaelis_menten_fit', 'robbins',\u001b[0m\n",
      "    \u001b[32m'fisher_alpha', 'margalef', 'singles', 'goods_coverage', 'gini_index',\u001b[0m\n",
      "    \u001b[32m'mcintosh_d', 'ace', 'lladser_pe', 'menhinick', 'shannon',\u001b[0m\n",
      "    \u001b[32m'observed_features', 'doubles', 'simpson_e', 'heip_e', 'mcintosh_e',\u001b[0m\n",
      "    \u001b[32m'enspie', 'pielou_e', 'dominance')\u001b[0m\n",
      "                          The metrics to be measured. By default computes\n",
      "                          observed_features, shannon, and if phylogeny is\n",
      "                          provided, faith_pd.                       \u001b[35m[optional]\u001b[0m\n",
      "  \u001b[94m--m-metadata-file\u001b[0m METADATA...\n",
      "    (multiple arguments   The sample metadata.\n",
      "     will be merged)                                                \u001b[35m[optional]\u001b[0m\n",
      "  \u001b[94m--p-min-depth\u001b[0m INTEGER   The minimum rarefaction depth.\n",
      "    \u001b[32mRange(1, None)\u001b[0m                                                \u001b[35m[default: 1]\u001b[0m\n",
      "  \u001b[94m--p-steps\u001b[0m INTEGER       The number of rarefaction depths to include between\n",
      "    \u001b[32mRange(2, None)\u001b[0m        \u001b[4mmin-depth\u001b[0m and \u001b[4mmax-depth\u001b[0m.               \u001b[35m[default: 10]\u001b[0m\n",
      "  \u001b[94m--p-iterations\u001b[0m INTEGER  The number of rarefied feature tables to compute at\n",
      "    \u001b[32mRange(1, None)\u001b[0m        each step.                             \u001b[35m[default: 10]\u001b[0m\n",
      "\u001b[1mOutputs\u001b[0m:\n",
      "  \u001b[94m\u001b[4m--o-visualization\u001b[0m VISUALIZATION\n",
      "                                                                    \u001b[35m[required]\u001b[0m\n",
      "\u001b[1mMiscellaneous\u001b[0m:\n",
      "  \u001b[94m--output-dir\u001b[0m PATH       Output unspecified results to a directory\n",
      "  \u001b[94m--verbose\u001b[0m / \u001b[94m--quiet\u001b[0m     Display verbose output to stdout and/or stderr\n",
      "                          during execution of this action. Or silence output\n",
      "                          if execution is successful (silence is golden).\n",
      "  \u001b[94m--example-data\u001b[0m PATH     Write example data and exit.\n",
      "  \u001b[94m--citations\u001b[0m             Show citations and exit.\n",
      "  \u001b[94m--help\u001b[0m                  Show this message and exit.\n"
     ]
    }
   ],
   "source": [
    "!qiime diversity alpha-rarefaction --help"
   ]
  },
  {
   "cell_type": "code",
   "execution_count": 4,
   "id": "9f0d8878-f205-430f-9cd9-ab68c9abe8ea",
   "metadata": {},
   "outputs": [
    {
     "name": "stdout",
     "output_type": "stream",
     "text": [
      "\u001b[32mSaved Visualization to: 2-Diversity/rarefaction.qzv\u001b[0m\n",
      "\u001b[0m"
     ]
    }
   ],
   "source": [
    "!qiime diversity alpha-rarefaction \\\n",
    "    --i-table 1-Denoise/feature-table.qza \\\n",
    "    --i-phylogeny 2-Diversity/fasttree-tree-rooted.qza \\\n",
    "    --p-max-depth 20000 \\\n",
    "    --m-metadata-file RawData/metadata.tsv \\\n",
    "    --p-steps 20 \\\n",
    "    --o-visualization 2-Diversity/rarefaction.qzv"
   ]
  },
  {
   "cell_type": "code",
   "execution_count": 17,
   "id": "b07015f9-a50a-4955-8452-0df568b2c64d",
   "metadata": {},
   "outputs": [
    {
     "data": {
      "text/html": [
       "<div><img onload=\"(function(div, url){\n",
       "if (typeof require !== 'undefined') {\n",
       "    var baseURL = require.toUrl('').split('/').slice(0, -2).join('/');\n",
       "} else {\n",
       "    var baseURL = JSON.parse(\n",
       "        document.getElementById('jupyter-config-data').innerHTML\n",
       "    ).baseUrl.slice(0, -1);\n",
       "}\n",
       "url = baseURL + url;\n",
       "fetch(url).then(function(res) {\n",
       "    if (res.status === 404) {\n",
       "        div.innerHTML = 'Install QIIME 2 Jupyter extension with:<br />' +\n",
       "                        '<code>jupyter serverextension enable --py qiime2' +\n",
       "                        ' --sys-prefix</code><br />then restart your server.' +\n",
       "                        '<br /><br />(Interactive output not available on ' +\n",
       "                        'static notebook viewer services like nbviewer.)';\n",
       "    } else if (res.status === 409) {\n",
       "        div.innerHTML = 'Visualization no longer in scope. Re-run this cell' +\n",
       "                        ' to see the visualization.';\n",
       "    } else if (res.ok) {\n",
       "        url = res.url;\n",
       "        div.innerHTML = '<iframe src=\\'' + url + '\\' style=\\'' +\n",
       "                        'width: 100%; height: 700px; border: 0;\\'>' +\n",
       "                        '</iframe><hr />Open in a: <a href=\\'' + url + '\\'' +\n",
       "                        ' target=\\'_blank\\'>new window</a>'\n",
       "    } else {\n",
       "        div.innerHTML = 'Something has gone wrong. Check notebook server for' +\n",
       "                        ' errors.';\n",
       "    }\n",
       "});\n",
       "})(this.parentElement, '/qiime2/redirect?location=/tmp/qiime2-archive-vrx3mns0')\" src=\"data:image/gif;base64,R0lGODlhAQABAIAAAP///wAAACH5BAEAAAAALAAAAAABAAEAAAICRAEAOw==\" /></div>"
      ],
      "text/plain": [
       "<visualization: Visualization uuid: 86ecd7f7-0c78-4b13-8d39-089f93d16b2e>"
      ]
     },
     "execution_count": 17,
     "metadata": {},
     "output_type": "execute_result"
    }
   ],
   "source": [
    "Visualization.load('rarefaction.qzv')"
   ]
  },
  {
   "cell_type": "markdown",
   "id": "670915a9-d6fc-4c21-94c6-fe4c3bd47a9f",
   "metadata": {},
   "source": [
    "### Diversity metrics"
   ]
  },
  {
   "cell_type": "code",
   "execution_count": 19,
   "id": "020f10dc-5f97-4af1-80e9-db8e6bd3c35d",
   "metadata": {},
   "outputs": [
    {
     "name": "stdout",
     "output_type": "stream",
     "text": [
      "Usage: \u001b[94mqiime diversity core-metrics-phylogenetic\u001b[0m [OPTIONS]\n",
      "\n",
      "  Applies a collection of diversity metrics (both phylogenetic and non-\n",
      "  phylogenetic) to a feature table.\n",
      "\n",
      "\u001b[1mInputs\u001b[0m:\n",
      "  \u001b[94m\u001b[4m--i-table\u001b[0m ARTIFACT \u001b[32mFeatureTable[Frequency]\u001b[0m\n",
      "                          The feature table containing the samples over which\n",
      "                          diversity metrics should be computed.     \u001b[35m[required]\u001b[0m\n",
      "  \u001b[94m\u001b[4m--i-phylogeny\u001b[0m ARTIFACT  Phylogenetic tree containing tip identifiers that\n",
      "    \u001b[32mPhylogeny[Rooted]\u001b[0m     correspond to the feature identifiers in the table.\n",
      "                          This tree can contain tip ids that are not present\n",
      "                          in the table, but all feature ids in the table must\n",
      "                          be present in this tree.                  \u001b[35m[required]\u001b[0m\n",
      "\u001b[1mParameters\u001b[0m:\n",
      "  \u001b[94m\u001b[4m--p-sampling-depth\u001b[0m INTEGER\n",
      "    \u001b[32mRange(1, None)\u001b[0m        The total frequency that each sample should be\n",
      "                          rarefied to prior to computing diversity metrics.\n",
      "                                                                    \u001b[35m[required]\u001b[0m\n",
      "  \u001b[94m\u001b[4m--m-metadata-file\u001b[0m METADATA...\n",
      "    (multiple arguments   The sample metadata to use in the emperor plots.\n",
      "     will be merged)                                                \u001b[35m[required]\u001b[0m\n",
      "  \u001b[94m--p-with-replacement\u001b[0m / \u001b[94m--p-no-with-replacement\u001b[0m\n",
      "                          Rarefy with replacement by sampling from the\n",
      "                          multinomial distribution instead of rarefying\n",
      "                          without replacement.                \u001b[35m[default: False]\u001b[0m\n",
      "  \u001b[94m--p-n-jobs-or-threads\u001b[0m VALUE \u001b[32mInt % Range(1, None) | Str % Choices('auto')\u001b[0m\n",
      "                          [beta/beta-phylogenetic methods only] - The number\n",
      "                          of concurrent jobs or CPU threads to use in\n",
      "                          performing this calculation. Individual methods will\n",
      "                          create jobs/threads as implemented in\n",
      "                          q2-diversity-lib dependencies. May not exceed the\n",
      "                          number of available physical cores. If\n",
      "                          \u001b[4mn-jobs-or-threads\u001b[0m = 'auto', one thread/job will be\n",
      "                          created for each identified CPU core on the host.\n",
      "                                                                  \u001b[35m[default: 1]\u001b[0m\n",
      "\u001b[1mOutputs\u001b[0m:\n",
      "  \u001b[94m\u001b[4m--o-rarefied-table\u001b[0m ARTIFACT \u001b[32mFeatureTable[Frequency]\u001b[0m\n",
      "                          The resulting rarefied feature table.     \u001b[35m[required]\u001b[0m\n",
      "  \u001b[94m\u001b[4m--o-faith-pd-vector\u001b[0m ARTIFACT \u001b[32mSampleData[AlphaDiversity]\u001b[0m\n",
      "                          Vector of Faith PD values by sample.      \u001b[35m[required]\u001b[0m\n",
      "  \u001b[94m\u001b[4m--o-observed-features-vector\u001b[0m ARTIFACT \u001b[32mSampleData[AlphaDiversity]\u001b[0m\n",
      "                          Vector of Observed Features values by sample.\n",
      "                                                                    \u001b[35m[required]\u001b[0m\n",
      "  \u001b[94m\u001b[4m--o-shannon-vector\u001b[0m ARTIFACT \u001b[32mSampleData[AlphaDiversity]\u001b[0m\n",
      "                          Vector of Shannon diversity values by sample.\n",
      "                                                                    \u001b[35m[required]\u001b[0m\n",
      "  \u001b[94m\u001b[4m--o-evenness-vector\u001b[0m ARTIFACT \u001b[32mSampleData[AlphaDiversity]\u001b[0m\n",
      "                          Vector of Pielou's evenness values by sample.\n",
      "                                                                    \u001b[35m[required]\u001b[0m\n",
      "  \u001b[94m\u001b[4m--o-unweighted-unifrac-distance-matrix\u001b[0m ARTIFACT\n",
      "    \u001b[32mDistanceMatrix\u001b[0m        Matrix of unweighted UniFrac distances between\n",
      "                          pairs of samples.                         \u001b[35m[required]\u001b[0m\n",
      "  \u001b[94m\u001b[4m--o-weighted-unifrac-distance-matrix\u001b[0m ARTIFACT\n",
      "    \u001b[32mDistanceMatrix\u001b[0m        Matrix of weighted UniFrac distances between pairs\n",
      "                          of samples.                               \u001b[35m[required]\u001b[0m\n",
      "  \u001b[94m\u001b[4m--o-jaccard-distance-matrix\u001b[0m ARTIFACT\n",
      "    \u001b[32mDistanceMatrix\u001b[0m        Matrix of Jaccard distances between pairs of\n",
      "                          samples.                                  \u001b[35m[required]\u001b[0m\n",
      "  \u001b[94m\u001b[4m--o-bray-curtis-distance-matrix\u001b[0m ARTIFACT\n",
      "    \u001b[32mDistanceMatrix\u001b[0m        Matrix of Bray-Curtis distances between pairs of\n",
      "                          samples.                                  \u001b[35m[required]\u001b[0m\n",
      "  \u001b[94m\u001b[4m--o-unweighted-unifrac-pcoa-results\u001b[0m ARTIFACT\n",
      "    \u001b[32mPCoAResults\u001b[0m           PCoA matrix computed from unweighted UniFrac\n",
      "                          distances between samples.                \u001b[35m[required]\u001b[0m\n",
      "  \u001b[94m\u001b[4m--o-weighted-unifrac-pcoa-results\u001b[0m ARTIFACT\n",
      "    \u001b[32mPCoAResults\u001b[0m           PCoA matrix computed from weighted UniFrac\n",
      "                          distances between samples.                \u001b[35m[required]\u001b[0m\n",
      "  \u001b[94m\u001b[4m--o-jaccard-pcoa-results\u001b[0m ARTIFACT\n",
      "    \u001b[32mPCoAResults\u001b[0m           PCoA matrix computed from Jaccard distances between\n",
      "                          samples.                                  \u001b[35m[required]\u001b[0m\n",
      "  \u001b[94m\u001b[4m--o-bray-curtis-pcoa-results\u001b[0m ARTIFACT\n",
      "    \u001b[32mPCoAResults\u001b[0m           PCoA matrix computed from Bray-Curtis distances\n",
      "                          between samples.                          \u001b[35m[required]\u001b[0m\n",
      "  \u001b[94m\u001b[4m--o-unweighted-unifrac-emperor\u001b[0m VISUALIZATION\n",
      "                          Emperor plot of the PCoA matrix computed from\n",
      "                          unweighted UniFrac.                       \u001b[35m[required]\u001b[0m\n",
      "  \u001b[94m\u001b[4m--o-weighted-unifrac-emperor\u001b[0m VISUALIZATION\n",
      "                          Emperor plot of the PCoA matrix computed from\n",
      "                          weighted UniFrac.                         \u001b[35m[required]\u001b[0m\n",
      "  \u001b[94m\u001b[4m--o-jaccard-emperor\u001b[0m VISUALIZATION\n",
      "                          Emperor plot of the PCoA matrix computed from\n",
      "                          Jaccard.                                  \u001b[35m[required]\u001b[0m\n",
      "  \u001b[94m\u001b[4m--o-bray-curtis-emperor\u001b[0m VISUALIZATION\n",
      "                          Emperor plot of the PCoA matrix computed from\n",
      "                          Bray-Curtis.                              \u001b[35m[required]\u001b[0m\n",
      "\u001b[1mMiscellaneous\u001b[0m:\n",
      "  \u001b[94m--output-dir\u001b[0m PATH       Output unspecified results to a directory\n",
      "  \u001b[94m--verbose\u001b[0m / \u001b[94m--quiet\u001b[0m     Display verbose output to stdout and/or stderr\n",
      "                          during execution of this action. Or silence output\n",
      "                          if execution is successful (silence is golden).\n",
      "  \u001b[94m--example-data\u001b[0m PATH     Write example data and exit.\n",
      "  \u001b[94m--citations\u001b[0m             Show citations and exit.\n",
      "  \u001b[94m--help\u001b[0m                  Show this message and exit.\n"
     ]
    }
   ],
   "source": [
    "!qiime diversity core-metrics-phylogenetic --help"
   ]
  },
  {
   "cell_type": "code",
   "execution_count": 20,
   "id": "8b96f625-b969-4608-a61b-f4368f1eb0e4",
   "metadata": {},
   "outputs": [
    {
     "name": "stdout",
     "output_type": "stream",
     "text": [
      "\u001b[32mSaved FeatureTable[Frequency] to: 2-Diversity/core-metrics-phylogenetic/rarefied_table.qza\u001b[0m\n",
      "\u001b[32mSaved SampleData[AlphaDiversity] to: 2-Diversity/core-metrics-phylogenetic/faith_pd_vector.qza\u001b[0m\n",
      "\u001b[32mSaved SampleData[AlphaDiversity] to: 2-Diversity/core-metrics-phylogenetic/observed_features_vector.qza\u001b[0m\n",
      "\u001b[32mSaved SampleData[AlphaDiversity] to: 2-Diversity/core-metrics-phylogenetic/shannon_vector.qza\u001b[0m\n",
      "\u001b[32mSaved SampleData[AlphaDiversity] to: 2-Diversity/core-metrics-phylogenetic/evenness_vector.qza\u001b[0m\n",
      "\u001b[32mSaved DistanceMatrix to: 2-Diversity/core-metrics-phylogenetic/unweighted_unifrac_distance_matrix.qza\u001b[0m\n",
      "\u001b[32mSaved DistanceMatrix to: 2-Diversity/core-metrics-phylogenetic/weighted_unifrac_distance_matrix.qza\u001b[0m\n",
      "\u001b[32mSaved DistanceMatrix to: 2-Diversity/core-metrics-phylogenetic/jaccard_distance_matrix.qza\u001b[0m\n",
      "\u001b[32mSaved DistanceMatrix to: 2-Diversity/core-metrics-phylogenetic/bray_curtis_distance_matrix.qza\u001b[0m\n",
      "\u001b[32mSaved PCoAResults to: 2-Diversity/core-metrics-phylogenetic/unweighted_unifrac_pcoa_results.qza\u001b[0m\n",
      "\u001b[32mSaved PCoAResults to: 2-Diversity/core-metrics-phylogenetic/weighted_unifrac_pcoa_results.qza\u001b[0m\n",
      "\u001b[32mSaved PCoAResults to: 2-Diversity/core-metrics-phylogenetic/jaccard_pcoa_results.qza\u001b[0m\n",
      "\u001b[32mSaved PCoAResults to: 2-Diversity/core-metrics-phylogenetic/bray_curtis_pcoa_results.qza\u001b[0m\n",
      "\u001b[32mSaved Visualization to: 2-Diversity/core-metrics-phylogenetic/unweighted_unifrac_emperor.qzv\u001b[0m\n",
      "\u001b[32mSaved Visualization to: 2-Diversity/core-metrics-phylogenetic/weighted_unifrac_emperor.qzv\u001b[0m\n",
      "\u001b[32mSaved Visualization to: 2-Diversity/core-metrics-phylogenetic/jaccard_emperor.qzv\u001b[0m\n",
      "\u001b[32mSaved Visualization to: 2-Diversity/core-metrics-phylogenetic/bray_curtis_emperor.qzv\u001b[0m\n",
      "\u001b[0m"
     ]
    }
   ],
   "source": [
    "!qiime diversity core-metrics-phylogenetic \\\n",
    "    --i-table 1-Denoise/feature-table.qza \\\n",
    "    --i-phylogeny 2-Diversity/fasttree-tree-rooted.qza \\\n",
    "    --p-sampling-depth 10000 \\\n",
    "    --m-metadata-file RawData/metadata.tsv \\\n",
    "    --output-dir 2-Diversity/core-metrics-phylogenetic"
   ]
  },
  {
   "cell_type": "markdown",
   "id": "cf8a0728-7925-4418-93e4-3ecfed235b2e",
   "metadata": {},
   "source": [
    "### Group difference"
   ]
  },
  {
   "cell_type": "markdown",
   "id": "ece987ee-67e4-43da-976a-f514f694d3da",
   "metadata": {},
   "source": [
    "#### 1. Alpha diversity"
   ]
  },
  {
   "cell_type": "code",
   "execution_count": 28,
   "id": "c9a06081-102f-43bd-8157-ae30d7dfc161",
   "metadata": {},
   "outputs": [],
   "source": [
    "if not os.path.isdir('2-Diversity/alpha-group-significance'):\n",
    "    os.mkdir('2-Diversity/alpha-group-significance')"
   ]
  },
  {
   "cell_type": "code",
   "execution_count": 27,
   "id": "0f0de64b-9395-4628-8fdf-85a56c0c8cfd",
   "metadata": {
    "tags": []
   },
   "outputs": [
    {
     "name": "stdout",
     "output_type": "stream",
     "text": [
      "\u001b[32mSaved Visualization to: 2-Diversity/alpha-group-significance/faith_pd_group_significane.qzv\u001b[0m\n",
      "\u001b[0m"
     ]
    }
   ],
   "source": [
    "!qiime diversity alpha-group-significance \\\n",
    "    --i-alpha-diversity 2-Diversity/core-metrics-phylogenetic/faith_pd_vector.qza \\\n",
    "    --m-metadata-file RawData/metadata.tsv \\\n",
    "    --o-visualization 2-Diversity/alpha-group-significance/faith_pd_group_significane.qzv"
   ]
  },
  {
   "cell_type": "code",
   "execution_count": 29,
   "id": "f7fefea7-a5e6-46fe-abde-87da6bc4d508",
   "metadata": {},
   "outputs": [
    {
     "data": {
      "text/html": [
       "<div><img onload=\"(function(div, url){\n",
       "if (typeof require !== 'undefined') {\n",
       "    var baseURL = require.toUrl('').split('/').slice(0, -2).join('/');\n",
       "} else {\n",
       "    var baseURL = JSON.parse(\n",
       "        document.getElementById('jupyter-config-data').innerHTML\n",
       "    ).baseUrl.slice(0, -1);\n",
       "}\n",
       "url = baseURL + url;\n",
       "fetch(url).then(function(res) {\n",
       "    if (res.status === 404) {\n",
       "        div.innerHTML = 'Install QIIME 2 Jupyter extension with:<br />' +\n",
       "                        '<code>jupyter serverextension enable --py qiime2' +\n",
       "                        ' --sys-prefix</code><br />then restart your server.' +\n",
       "                        '<br /><br />(Interactive output not available on ' +\n",
       "                        'static notebook viewer services like nbviewer.)';\n",
       "    } else if (res.status === 409) {\n",
       "        div.innerHTML = 'Visualization no longer in scope. Re-run this cell' +\n",
       "                        ' to see the visualization.';\n",
       "    } else if (res.ok) {\n",
       "        url = res.url;\n",
       "        div.innerHTML = '<iframe src=\\'' + url + '\\' style=\\'' +\n",
       "                        'width: 100%; height: 700px; border: 0;\\'>' +\n",
       "                        '</iframe><hr />Open in a: <a href=\\'' + url + '\\'' +\n",
       "                        ' target=\\'_blank\\'>new window</a>'\n",
       "    } else {\n",
       "        div.innerHTML = 'Something has gone wrong. Check notebook server for' +\n",
       "                        ' errors.';\n",
       "    }\n",
       "});\n",
       "})(this.parentElement, '/qiime2/redirect?location=/tmp/qiime2-archive-8kz87y68')\" src=\"data:image/gif;base64,R0lGODlhAQABAIAAAP///wAAACH5BAEAAAAALAAAAAABAAEAAAICRAEAOw==\" /></div>"
      ],
      "text/plain": [
       "<visualization: Visualization uuid: 3053b74f-1cf9-4252-b66f-6eaa8bc95eaf>"
      ]
     },
     "execution_count": 29,
     "metadata": {},
     "output_type": "execute_result"
    }
   ],
   "source": [
    "Visualization.load('2-Diversity/alpha-group-significance/faith_pd_group_significane.qzv')"
   ]
  },
  {
   "cell_type": "markdown",
   "id": "5c3980e4-51af-4cbc-a4ea-27f0a973e0c6",
   "metadata": {},
   "source": [
    "#### 2. Beta diversity"
   ]
  },
  {
   "cell_type": "code",
   "execution_count": 3,
   "id": "c525c40b-ce2f-4c49-bfc3-2aa8733337c4",
   "metadata": {},
   "outputs": [
    {
     "data": {
      "text/html": [
       "<div><img onload=\"(function(div, url){\n",
       "if (typeof require !== 'undefined') {\n",
       "    var baseURL = require.toUrl('').split('/').slice(0, -2).join('/');\n",
       "} else {\n",
       "    var baseURL = JSON.parse(\n",
       "        document.getElementById('jupyter-config-data').innerHTML\n",
       "    ).baseUrl.slice(0, -1);\n",
       "}\n",
       "url = baseURL + url;\n",
       "fetch(url).then(function(res) {\n",
       "    if (res.status === 404) {\n",
       "        div.innerHTML = 'Install QIIME 2 Jupyter extension with:<br />' +\n",
       "                        '<code>jupyter serverextension enable --py qiime2' +\n",
       "                        ' --sys-prefix</code><br />then restart your server.' +\n",
       "                        '<br /><br />(Interactive output not available on ' +\n",
       "                        'static notebook viewer services like nbviewer.)';\n",
       "    } else if (res.status === 409) {\n",
       "        div.innerHTML = 'Visualization no longer in scope. Re-run this cell' +\n",
       "                        ' to see the visualization.';\n",
       "    } else if (res.ok) {\n",
       "        url = res.url;\n",
       "        div.innerHTML = '<iframe src=\\'' + url + '\\' style=\\'' +\n",
       "                        'width: 100%; height: 700px; border: 0;\\'>' +\n",
       "                        '</iframe><hr />Open in a: <a href=\\'' + url + '\\'' +\n",
       "                        ' target=\\'_blank\\'>new window</a>'\n",
       "    } else {\n",
       "        div.innerHTML = 'Something has gone wrong. Check notebook server for' +\n",
       "                        ' errors.';\n",
       "    }\n",
       "});\n",
       "})(this.parentElement, '/qiime2/redirect?location=/tmp/qiime2-archive-wolhmkwd')\" src=\"data:image/gif;base64,R0lGODlhAQABAIAAAP///wAAACH5BAEAAAAALAAAAAABAAEAAAICRAEAOw==\" /></div>"
      ],
      "text/plain": [
       "<visualization: Visualization uuid: 1de54cbb-d759-4e3a-b3a0-38aa4fc6957a>"
      ]
     },
     "execution_count": 3,
     "metadata": {},
     "output_type": "execute_result"
    }
   ],
   "source": [
    "Visualization.load('2-Diversity/core-metrics-phylogenetic/bray_curtis_emperor.qzv')"
   ]
  },
  {
   "cell_type": "code",
   "execution_count": null,
   "id": "eb44d27c-6886-40c6-9fc4-ef00e0509980",
   "metadata": {},
   "outputs": [],
   "source": []
  }
 ],
 "metadata": {
  "kernelspec": {
   "display_name": "Python 3 (ipykernel)",
   "language": "python",
   "name": "python3"
  },
  "language_info": {
   "codemirror_mode": {
    "name": "ipython",
    "version": 3
   },
   "file_extension": ".py",
   "mimetype": "text/x-python",
   "name": "python",
   "nbconvert_exporter": "python",
   "pygments_lexer": "ipython3",
   "version": "3.8.13"
  }
 },
 "nbformat": 4,
 "nbformat_minor": 5
}
