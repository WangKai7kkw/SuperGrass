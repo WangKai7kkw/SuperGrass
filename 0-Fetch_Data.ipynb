{
 "cells": [
  {
   "cell_type": "markdown",
   "id": "3c42d7ff-6717-4547-884c-db3ba15ef93a",
   "metadata": {},
   "source": [
    "# Step 0: Fetching data"
   ]
  },
  {
   "cell_type": "code",
   "execution_count": 1,
   "id": "12bc9e17-fe3a-4dd6-8e85-ad9a15cc6f8f",
   "metadata": {},
   "outputs": [],
   "source": [
    "# importing all required packages and setting data directory\n",
    "import os\n",
    "import qiime2\n",
    "from qiime2 import Visualization\n",
    "import pandas as pd\n",
    "\n",
    "\n",
    "data_dir = 'RawData'\n",
    "\n",
    "if not os.path.isdir(data_dir):\n",
    "    os.makedirs(data_dir)"
   ]
  },
  {
   "cell_type": "markdown",
   "id": "020d11b1-eae8-4814-a876-420e15d0b52c",
   "metadata": {},
   "source": [
    "## Creating a tsv file of study id `PRJEB19491` and convert it to a QIIME2 artifact"
   ]
  },
  {
   "cell_type": "code",
   "execution_count": 2,
   "id": "35b8663d-ac46-4f8e-8167-9aafaf6a1a87",
   "metadata": {},
   "outputs": [],
   "source": [
    "# Study ID PRJEB19491\n",
    "!echo -e \"id\\nPRJEB19491\" > $data_dir/study-id.tsv"
   ]
  },
  {
   "cell_type": "code",
   "execution_count": 3,
   "id": "f166a8ec-9c40-429e-a4c5-465ce6e38557",
   "metadata": {},
   "outputs": [
    {
     "name": "stdout",
     "output_type": "stream",
     "text": [
      "\u001b[32mImported RawData/study-id.tsv as NCBIAccessionIDsDirFmt to RawData/study-id.qza\u001b[0m\n"
     ]
    }
   ],
   "source": [
    "!/home/jovyan/.conda/envs/fondue/bin/qiime tools import \\\n",
    "      --type NCBIAccessionIDs \\\n",
    "      --input-path $data_dir/study-id.tsv \\\n",
    "      --output-path $data_dir/study-id.qza"
   ]
  },
  {
   "cell_type": "markdown",
   "id": "c125c9de-59cc-42a8-b8a3-25f3139e0846",
   "metadata": {},
   "source": [
    "## Fetch sequence and metadata using `q2-fondue`"
   ]
  },
  {
   "cell_type": "markdown",
   "id": "46d2ef3d-784e-4225-b988-0b11eaab5e09",
   "metadata": {},
   "source": [
    "There were errors running fondue code here. So this action was actually running in terminal. I will debug latter."
   ]
  },
  {
   "cell_type": "code",
   "execution_count": 4,
   "id": "98b420e8-2fb4-4f1f-a98f-c40a96fd9f70",
   "metadata": {},
   "outputs": [],
   "source": [
    "# !/home/jovyan/.conda/envs/fondue/bin/qiime fondue get-all \\\n",
    "#       --i-accession-ids $data_dir/study-id.qza \\\n",
    "#       --p-email kai.wang@usys.ethz.ch \\\n",
    "#       --output-dir $data_dir/fondue-output"
   ]
  },
  {
   "cell_type": "markdown",
   "id": "cf39bf73-d27e-4f4c-be08-beddb8b5c088",
   "metadata": {},
   "source": [
    "## Checking downloaded data"
   ]
  },
  {
   "cell_type": "markdown",
   "id": "87b2b1cc-5867-43fe-8e6a-bb36058f24b5",
   "metadata": {},
   "source": [
    "### A) Checking if there are samples that failed to download"
   ]
  },
  {
   "cell_type": "code",
   "execution_count": 5,
   "id": "61827295-85d1-4ac8-9b20-e6a7e4cfac10",
   "metadata": {},
   "outputs": [
    {
     "name": "stdout",
     "output_type": "stream",
     "text": [
      "\u001b[32mExported RawData/fondue-output/failed_runs.qza as SRAFailedIDsDirFmt to directory RawData/fondue-output/\u001b[0m\n"
     ]
    }
   ],
   "source": [
    "!/home/jovyan/.conda/envs/fondue/bin/qiime tools export \\\n",
    "      --input-path $data_dir/fondue-output/failed_runs.qza \\\n",
    "      --output-path $data_dir/fondue-output/"
   ]
  },
  {
   "cell_type": "code",
   "execution_count": 6,
   "id": "defb38bb-91b3-4ee6-a742-eda944eb51e0",
   "metadata": {},
   "outputs": [
    {
     "data": {
      "text/html": [
       "<div>\n",
       "<style scoped>\n",
       "    .dataframe tbody tr th:only-of-type {\n",
       "        vertical-align: middle;\n",
       "    }\n",
       "\n",
       "    .dataframe tbody tr th {\n",
       "        vertical-align: top;\n",
       "    }\n",
       "\n",
       "    .dataframe thead th {\n",
       "        text-align: right;\n",
       "    }\n",
       "</style>\n",
       "<table border=\"1\" class=\"dataframe\">\n",
       "  <thead>\n",
       "    <tr style=\"text-align: right;\">\n",
       "      <th></th>\n",
       "      <th>ID</th>\n",
       "      <th>Error message</th>\n",
       "    </tr>\n",
       "  </thead>\n",
       "  <tbody>\n",
       "  </tbody>\n",
       "</table>\n",
       "</div>"
      ],
      "text/plain": [
       "Empty DataFrame\n",
       "Columns: [ID, Error message]\n",
       "Index: []"
      ]
     },
     "execution_count": 6,
     "metadata": {},
     "output_type": "execute_result"
    }
   ],
   "source": [
    "pd.read_csv(f'{data_dir}/fondue-output/sra-failed-ids.tsv', sep = \"\\t\").head(n = 6)"
   ]
  },
  {
   "cell_type": "markdown",
   "id": "c68e43a0-9007-479f-ad4c-ce54e4030949",
   "metadata": {},
   "source": [
    "#### 🚩 All samples were downloaded successfully."
   ]
  },
  {
   "cell_type": "markdown",
   "id": "7617b0b7-19db-4152-a011-880cc31dfe1f",
   "metadata": {},
   "source": [
    "### B) Exploring the sequencing data a little bit"
   ]
  },
  {
   "cell_type": "code",
   "execution_count": 7,
   "id": "d6b8517d-e477-4b52-8418-e605841da961",
   "metadata": {},
   "outputs": [
    {
     "name": "stdout",
     "output_type": "stream",
     "text": [
      "\u001b[32mSaved Visualization to: RawData/fondue-output/paired_reads.qzv\u001b[0m\n",
      "\u001b[0m\u001b[32mSaved Visualization to: RawData/fondue-output/single_reads.qzv\u001b[0m\n",
      "\u001b[0m"
     ]
    }
   ],
   "source": [
    "!qiime demux summarize \\\n",
    "      --i-data $data_dir/fondue-output/paired_reads.qza \\\n",
    "      --o-visualization $data_dir/fondue-output/paired_reads.qzv\n",
    "\n",
    "!qiime demux summarize \\\n",
    "      --i-data $data_dir/fondue-output/single_reads.qza \\\n",
    "      --o-visualization $data_dir/fondue-output/single_reads.qzv"
   ]
  },
  {
   "cell_type": "code",
   "execution_count": 8,
   "id": "871a9dff-9c33-4e36-a2ed-70e4f6604557",
   "metadata": {},
   "outputs": [
    {
     "data": {
      "text/html": [
       "<div><img onload=\"(function(div, url){\n",
       "if (typeof require !== 'undefined') {\n",
       "    var baseURL = require.toUrl('').split('/').slice(0, -2).join('/');\n",
       "} else {\n",
       "    var baseURL = JSON.parse(\n",
       "        document.getElementById('jupyter-config-data').innerHTML\n",
       "    ).baseUrl.slice(0, -1);\n",
       "}\n",
       "url = baseURL + url;\n",
       "fetch(url).then(function(res) {\n",
       "    if (res.status === 404) {\n",
       "        div.innerHTML = 'Install QIIME 2 Jupyter extension with:<br />' +\n",
       "                        '<code>jupyter serverextension enable --py qiime2' +\n",
       "                        ' --sys-prefix</code><br />then restart your server.' +\n",
       "                        '<br /><br />(Interactive output not available on ' +\n",
       "                        'static notebook viewer services like nbviewer.)';\n",
       "    } else if (res.status === 409) {\n",
       "        div.innerHTML = 'Visualization no longer in scope. Re-run this cell' +\n",
       "                        ' to see the visualization.';\n",
       "    } else if (res.ok) {\n",
       "        url = res.url;\n",
       "        div.innerHTML = '<iframe src=\\'' + url + '\\' style=\\'' +\n",
       "                        'width: 100%; height: 700px; border: 0;\\'>' +\n",
       "                        '</iframe><hr />Open in a: <a href=\\'' + url + '\\'' +\n",
       "                        ' target=\\'_blank\\'>new window</a>'\n",
       "    } else {\n",
       "        div.innerHTML = 'Something has gone wrong. Check notebook server for' +\n",
       "                        ' errors.';\n",
       "    }\n",
       "});\n",
       "})(this.parentElement, '/qiime2/redirect?location=/tmp/qiime2-archive-mo6vb1ra')\" src=\"data:image/gif;base64,R0lGODlhAQABAIAAAP///wAAACH5BAEAAAAALAAAAAABAAEAAAICRAEAOw==\" /></div>"
      ],
      "text/plain": [
       "<visualization: Visualization uuid: bc8e0579-a68e-4e8a-88d9-1fae43f450cd>"
      ]
     },
     "execution_count": 8,
     "metadata": {},
     "output_type": "execute_result"
    }
   ],
   "source": [
    "Visualization.load(f'{data_dir}/fondue-output/paired_reads.qzv')"
   ]
  },
  {
   "cell_type": "code",
   "execution_count": 9,
   "id": "da5294a5-05e2-4318-8b24-1af65d53e727",
   "metadata": {},
   "outputs": [
    {
     "data": {
      "text/html": [
       "<div><img onload=\"(function(div, url){\n",
       "if (typeof require !== 'undefined') {\n",
       "    var baseURL = require.toUrl('').split('/').slice(0, -2).join('/');\n",
       "} else {\n",
       "    var baseURL = JSON.parse(\n",
       "        document.getElementById('jupyter-config-data').innerHTML\n",
       "    ).baseUrl.slice(0, -1);\n",
       "}\n",
       "url = baseURL + url;\n",
       "fetch(url).then(function(res) {\n",
       "    if (res.status === 404) {\n",
       "        div.innerHTML = 'Install QIIME 2 Jupyter extension with:<br />' +\n",
       "                        '<code>jupyter serverextension enable --py qiime2' +\n",
       "                        ' --sys-prefix</code><br />then restart your server.' +\n",
       "                        '<br /><br />(Interactive output not available on ' +\n",
       "                        'static notebook viewer services like nbviewer.)';\n",
       "    } else if (res.status === 409) {\n",
       "        div.innerHTML = 'Visualization no longer in scope. Re-run this cell' +\n",
       "                        ' to see the visualization.';\n",
       "    } else if (res.ok) {\n",
       "        url = res.url;\n",
       "        div.innerHTML = '<iframe src=\\'' + url + '\\' style=\\'' +\n",
       "                        'width: 100%; height: 700px; border: 0;\\'>' +\n",
       "                        '</iframe><hr />Open in a: <a href=\\'' + url + '\\'' +\n",
       "                        ' target=\\'_blank\\'>new window</a>'\n",
       "    } else {\n",
       "        div.innerHTML = 'Something has gone wrong. Check notebook server for' +\n",
       "                        ' errors.';\n",
       "    }\n",
       "});\n",
       "})(this.parentElement, '/qiime2/redirect?location=/tmp/qiime2-archive-54yqu0si')\" src=\"data:image/gif;base64,R0lGODlhAQABAIAAAP///wAAACH5BAEAAAAALAAAAAABAAEAAAICRAEAOw==\" /></div>"
      ],
      "text/plain": [
       "<visualization: Visualization uuid: bbb0c17b-2536-4a5a-88a1-480e7475ca69>"
      ]
     },
     "execution_count": 9,
     "metadata": {},
     "output_type": "execute_result"
    }
   ],
   "source": [
    "Visualization.load(f'{data_dir}/fondue-output/single_reads.qzv')"
   ]
  },
  {
   "cell_type": "markdown",
   "id": "ddc64649-27db-45b1-8ec1-d13523bdfea4",
   "metadata": {},
   "source": [
    "#### 😏 As expected, there were no single sequencing data. \n",
    "\n",
    "    Copy the paired sequence and it's visualization to the upper foder for convenience of downstream analysis."
   ]
  },
  {
   "cell_type": "code",
   "execution_count": 10,
   "id": "f13e885c-67ab-4024-bcaf-806ca80aaa86",
   "metadata": {},
   "outputs": [],
   "source": [
    "! cp RawData/fondue-output/paired_reads* RawData/"
   ]
  },
  {
   "cell_type": "markdown",
   "id": "0c5d905d-fd18-4778-96f0-c0c0d980b550",
   "metadata": {},
   "source": [
    "### C) Exploring and modifying metadata"
   ]
  },
  {
   "cell_type": "code",
   "execution_count": 12,
   "id": "dd4b12e1-e419-48e8-86a2-a1e3204ce2b7",
   "metadata": {},
   "outputs": [
    {
     "name": "stdout",
     "output_type": "stream",
     "text": [
      "\u001b[32mExported RawData/fondue-output/metadata.qza as SRAMetadataDirFmt to directory RawData/fondue-output/\u001b[0m\n"
     ]
    }
   ],
   "source": [
    "!/home/jovyan/.conda/envs/fondue/bin/qiime tools export \\\n",
    "      --input-path $data_dir/fondue-output/metadata.qza \\\n",
    "      --output-path $data_dir/fondue-output/"
   ]
  },
  {
   "cell_type": "code",
   "execution_count": 13,
   "id": "be0f490b-04e4-42dd-9dd4-8208e84178ec",
   "metadata": {},
   "outputs": [],
   "source": [
    "metadata = pd.read_csv('RawData/fondue-output/sra-metadata.tsv', sep = \"\\t\")"
   ]
  },
  {
   "cell_type": "code",
   "execution_count": 14,
   "id": "5495203f-d69c-4856-9c03-4791108e8a66",
   "metadata": {},
   "outputs": [
    {
     "data": {
      "text/plain": [
       "Index(['ID', 'Experiment ID', 'Biosample ID', 'Bioproject ID', 'Study ID',\n",
       "       'Sample Accession', 'Organism', 'Library Source', 'Library Layout',\n",
       "       'Library Selection', 'Instrument', 'Platform', 'Bases', 'Spots',\n",
       "       'Avg Spot Len', 'Bytes', 'Public', 'Alias [sample]', 'Center Name',\n",
       "       'Description [sample]', 'Ena checklist [sample]',\n",
       "       'Ena-first-public [run]', 'Ena-first-public [study]',\n",
       "       'Ena-last-update [run]', 'Ena-last-update [study]',\n",
       "       'Insdc center name [sample]', 'Insdc first public [sample]',\n",
       "       'Insdc last update [sample]', 'Insdc status [sample]', 'Library Name',\n",
       "       'Name', 'Sample name [sample]', 'Sra accession [sample]', 'Tax ID',\n",
       "       'Title', 'Title [sample]'],\n",
       "      dtype='object')"
      ]
     },
     "execution_count": 14,
     "metadata": {},
     "output_type": "execute_result"
    }
   ],
   "source": [
    "metadata.columns"
   ]
  },
  {
   "cell_type": "markdown",
   "id": "b212ddc8-6160-4e8c-89eb-b647c75a88f0",
   "metadata": {},
   "source": [
    "#### 🚩 `Description [sample]` is the only column of our interest. We further split it into two columns including `Phase` and `Diets`, and save the new metadata."
   ]
  },
  {
   "cell_type": "code",
   "execution_count": 15,
   "id": "e88eddac-800d-4a45-8bb9-efe52a372aaa",
   "metadata": {},
   "outputs": [
    {
     "data": {
      "text/plain": [
       "rumen fluid hay       6\n",
       "liquid phase hay      6\n",
       "solid phase grass     6\n",
       "liquid phase corn     6\n",
       "rumen fluid grass     6\n",
       "liquid phase grass    6\n",
       "solid phase corn      6\n",
       "rumen fluid corn      6\n",
       "solid phase hay       6\n",
       "Name: Description [sample], dtype: int64"
      ]
     },
     "execution_count": 15,
     "metadata": {},
     "output_type": "execute_result"
    }
   ],
   "source": [
    "metadata['Description [sample]'].value_counts()"
   ]
  },
  {
   "cell_type": "code",
   "execution_count": 16,
   "id": "f1d7faf6-ac26-4528-aeb6-09b1a8739c23",
   "metadata": {},
   "outputs": [],
   "source": [
    "metadata[['Phase', \"Diets\"]] = metadata['Description [sample]'].str.rsplit(\" \",expand=True, n = 1)"
   ]
  },
  {
   "cell_type": "code",
   "execution_count": 17,
   "id": "d9b6aff0-5289-4010-a6fe-01200479b63d",
   "metadata": {},
   "outputs": [],
   "source": [
    "metadata = metadata[['ID', 'Phase', 'Diets']]"
   ]
  },
  {
   "cell_type": "code",
   "execution_count": 18,
   "id": "d7a9eed2-414c-4362-a392-5a75d1299eb3",
   "metadata": {},
   "outputs": [],
   "source": [
    "metadata.to_csv(\"RawData/metadata.tsv\", sep=\"\\t\")"
   ]
  },
  {
   "cell_type": "markdown",
   "id": "82b656c8-9e97-4e04-bf93-80e3f552898e",
   "metadata": {},
   "source": [
    "## 🥳🥳🥳 Data is ready! Go SuperGrass!"
   ]
  }
 ],
 "metadata": {
  "kernelspec": {
   "display_name": "Python 3 (ipykernel)",
   "language": "python",
   "name": "python3"
  },
  "language_info": {
   "codemirror_mode": {
    "name": "ipython",
    "version": 3
   },
   "file_extension": ".py",
   "mimetype": "text/x-python",
   "name": "python",
   "nbconvert_exporter": "python",
   "pygments_lexer": "ipython3",
   "version": "3.8.13"
  }
 },
 "nbformat": 4,
 "nbformat_minor": 5
}
